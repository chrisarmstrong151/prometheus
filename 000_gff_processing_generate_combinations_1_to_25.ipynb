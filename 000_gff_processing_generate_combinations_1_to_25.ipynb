{
 "cells": [
  {
   "cell_type": "markdown",
   "id": "8b891b75",
   "metadata": {},
   "source": [
    "# GFF Processing Metrics"
   ]
  },
  {
   "cell_type": "markdown",
   "id": "c30f63f3",
   "metadata": {},
   "source": [
    "Generate all combinations of introns from 1 to 25."
   ]
  },
  {
   "cell_type": "markdown",
   "id": "9606cab6",
   "metadata": {},
   "source": [
    "# Libraries"
   ]
  },
  {
   "cell_type": "code",
   "execution_count": null,
   "id": "81f7945f",
   "metadata": {},
   "outputs": [],
   "source": [
    "# Libraries\n",
    "\n",
    "\n",
    "# Combinations\n",
    "from itertools import combinations"
   ]
  },
  {
   "cell_type": "code",
   "execution_count": null,
   "id": "f98caada",
   "metadata": {},
   "outputs": [],
   "source": [
    "# Set the data folder.\n",
    "data_folder = '/media/apollo/Samsung_T5/transfer/mayur/annotations/'\n",
    "# data_folder = '/home/mad1188/rvallsamples/'"
   ]
  },
  {
   "cell_type": "markdown",
   "id": "368db10e",
   "metadata": {},
   "source": [
    "# Combinatorics"
   ]
  },
  {
   "cell_type": "markdown",
   "id": "803a6178",
   "metadata": {},
   "source": [
    "We need to generate all of the combinations for a given number of introns.  These are saved to file because we do not need to re-calculate them every time we assess a transcript's introns."
   ]
  },
  {
   "cell_type": "code",
   "execution_count": null,
   "id": "e388fbdc",
   "metadata": {},
   "outputs": [],
   "source": [
    "lte_25_intron_combinations = {}"
   ]
  },
  {
   "cell_type": "code",
   "execution_count": null,
   "id": "3c543195",
   "metadata": {},
   "outputs": [],
   "source": [
    "# All intronic combinations up to 25.\n",
    "\n",
    "# The possible intron numbers.\n",
    "intron_numbers = list(range(1, 26))\n",
    "\n",
    "# To file.\n",
    "with open('1_25_combinations.tsv', 'w') as f:\n",
    "    \n",
    "    # Write the header.\n",
    "    f.write('n_introns\\tselected\\tcombination\\n')\n",
    "\n",
    "    for n_introns in intron_numbers:\n",
    "\n",
    "        # Set the key.\n",
    "        lte_25_intron_combinations[n_introns] = {}\n",
    "\n",
    "        # Make a list with the \"introns\".\n",
    "        introns = list(range(1, n_introns + 1))\n",
    "\n",
    "        # Now go over every possible selection.\n",
    "        for selected in introns:\n",
    "            \n",
    "            # Write out the combinations.\n",
    "            for i in list(combinations(introns, selected)):\n",
    "                \n",
    "                # Need to keep the commas.\n",
    "                with_commas = [str(j) for j in i]\n",
    "                with_commas = str(n_introns) + '\\t' + str(selected) + '\\t' + ','.join(with_commas) + '\\n'\n",
    "                \n",
    "                f.write(with_commas)"
   ]
  }
 ],
 "metadata": {
  "kernelspec": {
   "display_name": "3d_rna_velocity",
   "language": "python",
   "name": "3d_rna_velocity"
  },
  "language_info": {
   "codemirror_mode": {
    "name": "ipython",
    "version": 3
   },
   "file_extension": ".py",
   "mimetype": "text/x-python",
   "name": "python",
   "nbconvert_exporter": "python",
   "pygments_lexer": "ipython3",
   "version": "3.11.5"
  }
 },
 "nbformat": 4,
 "nbformat_minor": 5
}
