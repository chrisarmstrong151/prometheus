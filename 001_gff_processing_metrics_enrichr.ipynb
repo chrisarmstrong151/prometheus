{
 "cells": [
  {
   "cell_type": "markdown",
   "id": "8b891b75",
   "metadata": {},
   "source": [
    "# GFF Processing Metrics"
   ]
  },
  {
   "cell_type": "markdown",
   "id": "c30f63f3",
   "metadata": {},
   "source": [
    "The Enrichr file has lots of information about pathways.  We will characterize the system response given a set of genes using these pathways."
   ]
  },
  {
   "cell_type": "markdown",
   "id": "9606cab6",
   "metadata": {},
   "source": [
    "# Libraries"
   ]
  },
  {
   "cell_type": "code",
   "execution_count": 1,
   "id": "81f7945f",
   "metadata": {},
   "outputs": [],
   "source": [
    "# Libraries\n",
    "\n",
    "\n",
    "# Reading the Enrichr file\n",
    "import json"
   ]
  },
  {
   "cell_type": "code",
   "execution_count": 4,
   "id": "f98caada",
   "metadata": {},
   "outputs": [],
   "source": [
    "# Set the data folder.\n",
    "data_folder = '/media/apollo/Samsung_T5/transfer/mayur/'\n",
    "# data_folder = '/home/mad1188/rvallsamples/'"
   ]
  },
  {
   "cell_type": "markdown",
   "id": "368db10e",
   "metadata": {},
   "source": [
    "# Enrichr results"
   ]
  },
  {
   "cell_type": "markdown",
   "id": "4dabb931",
   "metadata": {},
   "source": [
    "First, read in the Enrichr file."
   ]
  },
  {
   "cell_type": "code",
   "execution_count": 5,
   "id": "7842bfce",
   "metadata": {},
   "outputs": [],
   "source": [
    "# Enrichr file.\n",
    "with open(data_folder + 'api_results.json', 'r') as f:\n",
    "    enrichr = json.load(f)"
   ]
  },
  {
   "cell_type": "markdown",
   "id": "a217daa6",
   "metadata": {},
   "source": [
    "Work with perhaps the first 10 genes."
   ]
  },
  {
   "cell_type": "code",
   "execution_count": 6,
   "id": "d9bd5960",
   "metadata": {},
   "outputs": [],
   "source": [
    "# First 10 genes.\n",
    "# enrichr = enrichr[0:10]"
   ]
  },
  {
   "cell_type": "markdown",
   "id": "7ed0e2aa",
   "metadata": {},
   "source": [
    "What genes do we have?"
   ]
  },
  {
   "cell_type": "code",
   "execution_count": 7,
   "id": "ea46664d",
   "metadata": {},
   "outputs": [],
   "source": [
    "# Genes.\n",
    "# genes = [i.keys() for i in enrichr]"
   ]
  },
  {
   "cell_type": "code",
   "execution_count": 8,
   "id": "e3c061dd",
   "metadata": {},
   "outputs": [
    {
     "data": {
      "text/plain": [
       "[dict_keys(['DDX11L17']),\n",
       " dict_keys(['PRDM16']),\n",
       " dict_keys(['PEX10']),\n",
       " dict_keys(['RPL21P21']),\n",
       " dict_keys(['LINC01345']),\n",
       " dict_keys(['EEF1DP6']),\n",
       " dict_keys(['PEX14']),\n",
       " dict_keys(['LINC01646']),\n",
       " dict_keys(['LINC01777']),\n",
       " dict_keys(['LINC02782'])]"
      ]
     },
     "execution_count": 8,
     "metadata": {},
     "output_type": "execute_result"
    }
   ],
   "source": [
    "# genes"
   ]
  },
  {
   "cell_type": "markdown",
   "id": "4f0627b4",
   "metadata": {},
   "source": [
    "What options do we have for enrichment?"
   ]
  },
  {
   "cell_type": "code",
   "execution_count": 9,
   "id": "afed26cf",
   "metadata": {},
   "outputs": [],
   "source": [
    "# Enrichment options.\n",
    "enrichment_options = []\n",
    "\n",
    "for i in enrichr:\n",
    "    for k, v in i.items():\n",
    "        for s, t in v.items():\n",
    "            enrichment_options.append(s)\n",
    "\n",
    "enrichment_options = list(set(enrichment_options))\n",
    "enrichment_options.sort()"
   ]
  },
  {
   "cell_type": "code",
   "execution_count": 10,
   "id": "21480a1a",
   "metadata": {},
   "outputs": [
    {
     "data": {
      "text/plain": [
       "['ARCHS4_Cell-lines',\n",
       " 'ARCHS4_IDG_Coexp',\n",
       " 'ARCHS4_Kinases_Coexp',\n",
       " 'ARCHS4_TFs_Coexp',\n",
       " 'ARCHS4_Tissues',\n",
       " 'Achilles_fitness_decrease',\n",
       " 'Aging_Perturbations_from_GEO_down',\n",
       " 'Aging_Perturbations_from_GEO_up',\n",
       " 'Allen_Brain_Atlas_10x_scRNA_2021',\n",
       " 'Allen_Brain_Atlas_down',\n",
       " 'Allen_Brain_Atlas_up',\n",
       " 'BioPlanet_2019',\n",
       " 'BioPlex_2017',\n",
       " 'CCLE_Proteomics_2020',\n",
       " 'COVID-19_Related_Gene_Sets',\n",
       " 'COVID-19_Related_Gene_Sets_2021',\n",
       " 'Cancer_Cell_Line_Encyclopedia',\n",
       " 'CellMarker_Augmented_2021',\n",
       " 'ChEA_2013',\n",
       " 'ChEA_2015',\n",
       " 'ChEA_2016',\n",
       " 'ChEA_2022',\n",
       " 'Chromosome_Location',\n",
       " 'Chromosome_Location_hg19',\n",
       " 'ClinVar_2019',\n",
       " 'DSigDB',\n",
       " 'DepMap_CRISPR_GeneDependency_CellLines_2023',\n",
       " 'DepMap_WG_CRISPR_Screens_Broad_CellLines_2019',\n",
       " 'DepMap_WG_CRISPR_Screens_Sanger_CellLines_2019',\n",
       " 'Descartes_Cell_Types_and_Tissue_2021',\n",
       " 'Diabetes_Perturbations_GEO_2022',\n",
       " 'DisGeNET',\n",
       " 'Disease_Perturbations_from_GEO_down',\n",
       " 'Disease_Perturbations_from_GEO_up',\n",
       " 'Disease_Signatures_from_GEO_down_2014',\n",
       " 'Disease_Signatures_from_GEO_up_2014',\n",
       " 'DrugMatrix',\n",
       " 'Drug_Perturbations_from_GEO_2014',\n",
       " 'Drug_Perturbations_from_GEO_down',\n",
       " 'Drug_Perturbations_from_GEO_up',\n",
       " 'ENCODE_Histone_Modifications_2013',\n",
       " 'ENCODE_Histone_Modifications_2015',\n",
       " 'ENCODE_TF_ChIP-seq_2014',\n",
       " 'ENCODE_TF_ChIP-seq_2015',\n",
       " 'ENCODE_and_ChEA_Consensus_TFs_from_ChIP-X',\n",
       " 'ESCAPE',\n",
       " 'Elsevier_Pathway_Collection',\n",
       " 'Enrichr_Submissions_TF-Gene_Coocurrence',\n",
       " 'Enrichr_Users_Contributed_Lists_2020',\n",
       " 'Epigenomics_Roadmap_HM_ChIP-seq',\n",
       " 'FANTOM6_lncRNA_KD_DEGs',\n",
       " 'GO_Biological_Process_2013',\n",
       " 'GO_Biological_Process_2015',\n",
       " 'GO_Biological_Process_2017',\n",
       " 'GO_Biological_Process_2017b',\n",
       " 'GO_Biological_Process_2018',\n",
       " 'GO_Biological_Process_2021',\n",
       " 'GO_Biological_Process_2023',\n",
       " 'GO_Cellular_Component_2013',\n",
       " 'GO_Cellular_Component_2015',\n",
       " 'GO_Cellular_Component_2017',\n",
       " 'GO_Cellular_Component_2017b',\n",
       " 'GO_Cellular_Component_2018',\n",
       " 'GO_Cellular_Component_2021',\n",
       " 'GO_Cellular_Component_2023',\n",
       " 'GO_Molecular_Function_2013',\n",
       " 'GO_Molecular_Function_2015',\n",
       " 'GO_Molecular_Function_2017',\n",
       " 'GO_Molecular_Function_2017b',\n",
       " 'GO_Molecular_Function_2018',\n",
       " 'GO_Molecular_Function_2021',\n",
       " 'GO_Molecular_Function_2023',\n",
       " 'GTEx_Aging_Signatures_2021',\n",
       " 'GTEx_Tissue_Expression_Down',\n",
       " 'GTEx_Tissue_Expression_Up',\n",
       " 'GTEx_Tissues_V8_2023',\n",
       " 'GWAS_Catalog_2019',\n",
       " 'GWAS_Catalog_2023',\n",
       " 'GeDiPNet_2023',\n",
       " 'GeneSigDB',\n",
       " 'Gene_Perturbations_from_GEO_down',\n",
       " 'Gene_Perturbations_from_GEO_up',\n",
       " 'Genes_Associated_with_NIH_Grants',\n",
       " 'Genome_Browser_PWMs',\n",
       " 'HDSigDB_Human_2021',\n",
       " 'HDSigDB_Mouse_2021',\n",
       " 'HomoloGene',\n",
       " 'HuBMAP_ASCTplusB_augmented_2022',\n",
       " 'Human_Gene_Atlas',\n",
       " 'Human_Phenotype_Ontology',\n",
       " 'InterPro_Domains_2019',\n",
       " 'Jensen_COMPARTMENTS',\n",
       " 'Jensen_DISEASES',\n",
       " 'Jensen_TISSUES',\n",
       " 'KEGG_2016',\n",
       " 'KEGG_2019_Human',\n",
       " 'KEGG_2019_Mouse',\n",
       " 'KEGG_2021_Human',\n",
       " 'KEGG_2021_Mouse',\n",
       " 'KOMP2',\n",
       " 'KOMP2_Mouse_Phenotypes',\n",
       " 'KOMP2_Mouse_Phenotypes_2022',\n",
       " 'Kinase_Perturbations_from_GEO_down',\n",
       " 'Kinase_Perturbations_from_GEO_up',\n",
       " 'L1000_Kinase_and_GPCR_Perturbations_down',\n",
       " 'L1000_Kinase_and_GPCR_Perturbations_up',\n",
       " 'LINCS_L1000_CRISPR_KO_Consensus_Sigs',\n",
       " 'LINCS_L1000_Chem_Pert_Consensus_Sigs',\n",
       " 'LINCS_L1000_Chem_Pert_down',\n",
       " 'LINCS_L1000_Chem_Pert_up',\n",
       " 'Ligand_Perturbations_from_GEO_up',\n",
       " 'MAGNET_2023',\n",
       " 'MCF7_Perturbations_from_GEO_down',\n",
       " 'MGI_Mammalian_Phenotype_2013',\n",
       " 'MGI_Mammalian_Phenotype_2017',\n",
       " 'MGI_Mammalian_Phenotype_Level_3',\n",
       " 'MGI_Mammalian_Phenotype_Level_4',\n",
       " 'MGI_Mammalian_Phenotype_Level_4_2019',\n",
       " 'MGI_Mammalian_Phenotype_Level_4_2021',\n",
       " 'MSigDB_Computational',\n",
       " 'MSigDB_Hallmark_2020',\n",
       " 'MoTrPAC_2023',\n",
       " 'Mouse_Gene_Atlas',\n",
       " 'NCI-60_Cancer_Cell_Lines',\n",
       " 'NIH_Funded_PIs_2017_AutoRIF_ARCHS4_Predictions',\n",
       " 'NIH_Funded_PIs_2017_GeneRIF_ARCHS4_Predictions',\n",
       " 'NIH_Funded_PIs_2017_Human_AutoRIF',\n",
       " 'NIH_Funded_PIs_2017_Human_GeneRIF',\n",
       " 'NURSA_Human_Endogenous_Complexome',\n",
       " 'OMIM_Disease',\n",
       " 'OMIM_Expanded',\n",
       " 'Old_CMAP_down',\n",
       " 'Old_CMAP_up',\n",
       " 'Orphanet_Augmented_2021',\n",
       " 'PFOCR_Pathways',\n",
       " 'PFOCR_Pathways_2023',\n",
       " 'PPI_Hub_Proteins',\n",
       " 'PanglaoDB_Augmented_2021',\n",
       " 'Pfam_Domains_2019',\n",
       " 'Pfam_InterPro_Domains',\n",
       " 'PheWeb_2019',\n",
       " 'PhenGenI_Association_2021',\n",
       " 'ProteomicsDB_2020',\n",
       " 'Proteomics_Drug_Atlas_2023',\n",
       " 'RNA-Seq_Disease_Gene_and_Drug_Signatures_from_GEO',\n",
       " 'RNAseq_Automatic_GEO_Signatures_Human_Down',\n",
       " 'RNAseq_Automatic_GEO_Signatures_Human_Up',\n",
       " 'RNAseq_Automatic_GEO_Signatures_Mouse_Down',\n",
       " 'RNAseq_Automatic_GEO_Signatures_Mouse_Up',\n",
       " 'Rare_Diseases_AutoRIF_ARCHS4_Predictions',\n",
       " 'Rare_Diseases_AutoRIF_Gene_Lists',\n",
       " 'Rare_Diseases_GeneRIF_ARCHS4_Predictions',\n",
       " 'Rare_Diseases_GeneRIF_Gene_Lists',\n",
       " 'Reactome_2016',\n",
       " 'Reactome_2022',\n",
       " 'Rummagene_kinases',\n",
       " 'Rummagene_signatures',\n",
       " 'Rummagene_transcription_factors',\n",
       " 'SILAC_Phosphoproteomics',\n",
       " 'SubCell_BarCode',\n",
       " 'SysMyo_Muscle_Gene_Sets',\n",
       " 'TF-LOF_Expression_from_GEO',\n",
       " 'TF_Perturbations_Followed_by_Expression',\n",
       " 'TG_GATES_2020',\n",
       " 'TRANSFAC_and_JASPAR_PWMs',\n",
       " 'Table_Mining_of_CRISPR_Studies',\n",
       " 'TargetScan_microRNA_2017',\n",
       " 'The_Kinase_Library_2023',\n",
       " 'Tissue_Protein_Expression_from_Human_Proteome_Map',\n",
       " 'Tissue_Protein_Expression_from_ProteomicsDB',\n",
       " 'Transcription_Factor_PPIs',\n",
       " 'UK_Biobank_GWAS',\n",
       " 'UK_Biobank_GWAS_v1',\n",
       " 'Virus-Host_PPI_P-HIPSTer_2020',\n",
       " 'Virus_Perturbations_from_GEO_down',\n",
       " 'Virus_Perturbations_from_GEO_up',\n",
       " 'WikiPathway_2021_Human',\n",
       " 'WikiPathway_2023_Human',\n",
       " 'WikiPathways_2016',\n",
       " 'WikiPathways_2019_Human',\n",
       " 'dbGaP',\n",
       " 'lncHUB_lncRNA_Co-Expression',\n",
       " 'miRTarBase_2017']"
      ]
     },
     "execution_count": 10,
     "metadata": {},
     "output_type": "execute_result"
    }
   ],
   "source": [
    "enrichment_options"
   ]
  }
 ],
 "metadata": {
  "kernelspec": {
   "display_name": "3d_rna_velocity",
   "language": "python",
   "name": "3d_rna_velocity"
  },
  "language_info": {
   "codemirror_mode": {
    "name": "ipython",
    "version": 3
   },
   "file_extension": ".py",
   "mimetype": "text/x-python",
   "name": "python",
   "nbconvert_exporter": "python",
   "pygments_lexer": "ipython3",
   "version": "3.10.13"
  }
 },
 "nbformat": 4,
 "nbformat_minor": 5
}
