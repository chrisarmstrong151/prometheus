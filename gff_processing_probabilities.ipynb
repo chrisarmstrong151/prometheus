{
 "cells": [
  {
   "cell_type": "markdown",
   "id": "ec03025f",
   "metadata": {},
   "source": [
    "# GFF Processing Probabilities"
   ]
  },
  {
   "cell_type": "markdown",
   "id": "0532fda4",
   "metadata": {},
   "source": [
    "Make the probabilities that will be used to sample intron lengths."
   ]
  },
  {
   "cell_type": "markdown",
   "id": "c1fe57bb",
   "metadata": {},
   "source": [
    "# Libraries"
   ]
  },
  {
   "cell_type": "code",
   "execution_count": 1,
   "id": "f36d533e",
   "metadata": {},
   "outputs": [],
   "source": [
    "# Libraries\n",
    "\n",
    "\n",
    "# Combinations\n",
    "from itertools import combinations\n",
    "\n",
    "# Pandas\n",
    "import pandas as pd"
   ]
  },
  {
   "cell_type": "markdown",
   "id": "fce186d9",
   "metadata": {},
   "source": [
    "Set the minimum and the maximum n."
   ]
  },
  {
   "cell_type": "code",
   "execution_count": 6,
   "id": "a1235032",
   "metadata": {},
   "outputs": [],
   "source": [
    "# n\n",
    "n_min = 26\n",
    "n_max = 400"
   ]
  },
  {
   "cell_type": "markdown",
   "id": "00483d28",
   "metadata": {},
   "source": [
    "Make some lists to hold the results."
   ]
  },
  {
   "cell_type": "code",
   "execution_count": 50,
   "id": "94dbe4e9",
   "metadata": {},
   "outputs": [],
   "source": [
    "# Lists to keep results.\n",
    "ns = []\n",
    "ks = []\n",
    "probabilities = []"
   ]
  },
  {
   "cell_type": "markdown",
   "id": "1e0807cc",
   "metadata": {},
   "source": [
    "Now loop over each n and find the product strings (unrefined method - ignores symmetry)."
   ]
  },
  {
   "cell_type": "code",
   "execution_count": 51,
   "id": "eb030455",
   "metadata": {},
   "outputs": [],
   "source": [
    "# Create \n",
    "\n",
    "# Each n.\n",
    "for n in range(n_min, n_max + 1):\n",
    "    \n",
    "    # Top.\n",
    "    top = list(range(1, n + 1))\n",
    "    \n",
    "    # 2s.\n",
    "    twos = [2 for i in range(0, n)]\n",
    "    \n",
    "    # The top will always have less terms\n",
    "    # than the bottom, so fill out with\n",
    "    # 1s to make top and bottom the same\n",
    "    # length.\n",
    "    top = top + [1 for i in range(0, len(twos))]\n",
    "    \n",
    "    # Each k.\n",
    "    for k in range(0, n + 1):\n",
    "        \n",
    "        # Bottom.\n",
    "        bottom_one = list(range(1, k + 1))        \n",
    "        bottom_two = list(range(1, n - k + 1))        \n",
    "        combined = bottom_one + bottom_two + twos\n",
    "        \n",
    "        # Now a simple for loop to make products.\n",
    "        \n",
    "        # Note the lack of ordering terms to avoid\n",
    "        # overflow errors.\n",
    "        product = 1\n",
    "        \n",
    "        for i in range(0, len(top)):            \n",
    "            product = product*(top[i]/combined[i])\n",
    "        \n",
    "        # Save the result.\n",
    "        ns.append(n)\n",
    "        ks.append(k)\n",
    "        probabilities.append(product)"
   ]
  },
  {
   "cell_type": "markdown",
   "id": "2aa3afd9",
   "metadata": {},
   "source": [
    "Now make a DataFrame and write it out."
   ]
  },
  {
   "cell_type": "code",
   "execution_count": 59,
   "id": "3486b742",
   "metadata": {},
   "outputs": [],
   "source": [
    "# The results.\n",
    "df = pd.DataFrame(\n",
    "    {\n",
    "        'n': ns,\n",
    "        'k': ks,\n",
    "        'p': probabilities\n",
    "    }\n",
    ")\n",
    "\n",
    "# Write it out.\n",
    "df.to_csv(\n",
    "    'probabilities.tsv',\n",
    "    index = False,\n",
    "    sep = '\\t'\n",
    ")"
   ]
  },
  {
   "cell_type": "code",
   "execution_count": 60,
   "id": "6ba6abc8",
   "metadata": {},
   "outputs": [
    {
     "data": {
      "text/html": [
       "<div>\n",
       "<style scoped>\n",
       "    .dataframe tbody tr th:only-of-type {\n",
       "        vertical-align: middle;\n",
       "    }\n",
       "\n",
       "    .dataframe tbody tr th {\n",
       "        vertical-align: top;\n",
       "    }\n",
       "\n",
       "    .dataframe thead th {\n",
       "        text-align: right;\n",
       "    }\n",
       "</style>\n",
       "<table border=\"1\" class=\"dataframe\">\n",
       "  <thead>\n",
       "    <tr style=\"text-align: right;\">\n",
       "      <th></th>\n",
       "      <th>n</th>\n",
       "      <th>k</th>\n",
       "      <th>p</th>\n",
       "    </tr>\n",
       "  </thead>\n",
       "  <tbody>\n",
       "    <tr>\n",
       "      <th>0</th>\n",
       "      <td>26</td>\n",
       "      <td>0</td>\n",
       "      <td>1.490116e-08</td>\n",
       "    </tr>\n",
       "    <tr>\n",
       "      <th>1</th>\n",
       "      <td>26</td>\n",
       "      <td>1</td>\n",
       "      <td>3.874302e-07</td>\n",
       "    </tr>\n",
       "    <tr>\n",
       "      <th>2</th>\n",
       "      <td>26</td>\n",
       "      <td>2</td>\n",
       "      <td>4.842877e-06</td>\n",
       "    </tr>\n",
       "    <tr>\n",
       "      <th>3</th>\n",
       "      <td>26</td>\n",
       "      <td>3</td>\n",
       "      <td>3.874302e-05</td>\n",
       "    </tr>\n",
       "    <tr>\n",
       "      <th>4</th>\n",
       "      <td>26</td>\n",
       "      <td>4</td>\n",
       "      <td>2.227724e-04</td>\n",
       "    </tr>\n",
       "    <tr>\n",
       "      <th>...</th>\n",
       "      <td>...</td>\n",
       "      <td>...</td>\n",
       "      <td>...</td>\n",
       "    </tr>\n",
       "    <tr>\n",
       "      <th>80245</th>\n",
       "      <td>400</td>\n",
       "      <td>396</td>\n",
       "      <td>4.069087e-112</td>\n",
       "    </tr>\n",
       "    <tr>\n",
       "      <th>80246</th>\n",
       "      <td>400</td>\n",
       "      <td>397</td>\n",
       "      <td>4.099836e-114</td>\n",
       "    </tr>\n",
       "    <tr>\n",
       "      <th>80247</th>\n",
       "      <td>400</td>\n",
       "      <td>398</td>\n",
       "      <td>3.090328e-116</td>\n",
       "    </tr>\n",
       "    <tr>\n",
       "      <th>80248</th>\n",
       "      <td>400</td>\n",
       "      <td>399</td>\n",
       "      <td>1.549037e-118</td>\n",
       "    </tr>\n",
       "    <tr>\n",
       "      <th>80249</th>\n",
       "      <td>400</td>\n",
       "      <td>400</td>\n",
       "      <td>3.872592e-121</td>\n",
       "    </tr>\n",
       "  </tbody>\n",
       "</table>\n",
       "<p>80250 rows × 3 columns</p>\n",
       "</div>"
      ],
      "text/plain": [
       "         n    k              p\n",
       "0       26    0   1.490116e-08\n",
       "1       26    1   3.874302e-07\n",
       "2       26    2   4.842877e-06\n",
       "3       26    3   3.874302e-05\n",
       "4       26    4   2.227724e-04\n",
       "...    ...  ...            ...\n",
       "80245  400  396  4.069087e-112\n",
       "80246  400  397  4.099836e-114\n",
       "80247  400  398  3.090328e-116\n",
       "80248  400  399  1.549037e-118\n",
       "80249  400  400  3.872592e-121\n",
       "\n",
       "[80250 rows x 3 columns]"
      ]
     },
     "execution_count": 60,
     "metadata": {},
     "output_type": "execute_result"
    }
   ],
   "source": [
    "df"
   ]
  }
 ],
 "metadata": {
  "kernelspec": {
   "display_name": "3d_rna_velocity",
   "language": "python",
   "name": "3d_rna_velocity"
  },
  "language_info": {
   "codemirror_mode": {
    "name": "ipython",
    "version": 3
   },
   "file_extension": ".py",
   "mimetype": "text/x-python",
   "name": "python",
   "nbconvert_exporter": "python",
   "pygments_lexer": "ipython3",
   "version": "3.10.12"
  }
 },
 "nbformat": 4,
 "nbformat_minor": 5
}
