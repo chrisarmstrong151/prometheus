{
 "cells": [
  {
   "cell_type": "markdown",
   "id": "8b891b75",
   "metadata": {},
   "source": [
    "# KEGG processing"
   ]
  },
  {
   "cell_type": "markdown",
   "id": "c30f63f3",
   "metadata": {},
   "source": [
    "Process some KEGG files so that we can do pathway annotations in the main notebook."
   ]
  },
  {
   "cell_type": "markdown",
   "id": "9606cab6",
   "metadata": {},
   "source": [
    "# Libraries"
   ]
  },
  {
   "cell_type": "code",
   "execution_count": 1,
   "id": "81f7945f",
   "metadata": {},
   "outputs": [],
   "source": [
    "# Libraries\n",
    "\n",
    "\n",
    "# Pandas.\n",
    "import pandas as pd\n",
    "\n",
    "# Requests.\n",
    "import requests\n",
    "\n",
    "# Delay\n",
    "import time"
   ]
  },
  {
   "cell_type": "code",
   "execution_count": 2,
   "id": "f98caada",
   "metadata": {},
   "outputs": [],
   "source": [
    "# Set the data folder.\n",
    "data_folder = '/media/apollo/Samsung_T5/transfer/mayur/'\n",
    "# data_folder = '/home/mad1188/rvallsamples/'"
   ]
  },
  {
   "cell_type": "markdown",
   "id": "368db10e",
   "metadata": {},
   "source": [
    "# Generate all NCBI gene IDs from the official gene names given at HGNC"
   ]
  },
  {
   "cell_type": "markdown",
   "id": "803a6178",
   "metadata": {},
   "source": [
    "Simply load the HGNC file and strip out just what we need."
   ]
  },
  {
   "cell_type": "code",
   "execution_count": 3,
   "id": "e388fbdc",
   "metadata": {},
   "outputs": [],
   "source": [
    "# Load the file.\n",
    "loaded = pd.read_csv(\n",
    "    data_folder + 'results.txt',\n",
    "    sep = '\\t'\n",
    ")\n",
    "\n",
    "# Keep only what we need.\n",
    "loaded = loaded[['Approved symbol', 'NCBI gene ID']]\n",
    "\n",
    "# Convert NCBI gene IDs to ints.\n",
    "converted = []\n",
    "\n",
    "for i in loaded['NCBI gene ID']:\n",
    "    try:\n",
    "        converted.append(int(i))\n",
    "    except ValueError:\n",
    "        converted.append('NA')\n",
    "\n",
    "# Assign.\n",
    "loaded['NCBI gene ID'] = converted\n",
    "\n",
    "# Clean up the column names for writing.\n",
    "loaded.rename(columns={'Approved symbol': 'symbol', 'NCBI gene ID': 'ncbi_gene_id'}, inplace=True)"
   ]
  },
  {
   "cell_type": "code",
   "execution_count": 4,
   "id": "82111b0b-6132-4ed8-a6bc-62ab149654ce",
   "metadata": {
    "scrolled": true
   },
   "outputs": [
    {
     "data": {
      "text/html": [
       "<div>\n",
       "<style scoped>\n",
       "    .dataframe tbody tr th:only-of-type {\n",
       "        vertical-align: middle;\n",
       "    }\n",
       "\n",
       "    .dataframe tbody tr th {\n",
       "        vertical-align: top;\n",
       "    }\n",
       "\n",
       "    .dataframe thead th {\n",
       "        text-align: right;\n",
       "    }\n",
       "</style>\n",
       "<table border=\"1\" class=\"dataframe\">\n",
       "  <thead>\n",
       "    <tr style=\"text-align: right;\">\n",
       "      <th></th>\n",
       "      <th>symbol</th>\n",
       "      <th>ncbi_gene_id</th>\n",
       "    </tr>\n",
       "  </thead>\n",
       "  <tbody>\n",
       "    <tr>\n",
       "      <th>0</th>\n",
       "      <td>A1BG</td>\n",
       "      <td>1</td>\n",
       "    </tr>\n",
       "    <tr>\n",
       "      <th>1</th>\n",
       "      <td>A1BG-AS1</td>\n",
       "      <td>503538</td>\n",
       "    </tr>\n",
       "    <tr>\n",
       "      <th>2</th>\n",
       "      <td>A1CF</td>\n",
       "      <td>29974</td>\n",
       "    </tr>\n",
       "    <tr>\n",
       "      <th>3</th>\n",
       "      <td>A2M</td>\n",
       "      <td>2</td>\n",
       "    </tr>\n",
       "    <tr>\n",
       "      <th>4</th>\n",
       "      <td>A2M-AS1</td>\n",
       "      <td>144571</td>\n",
       "    </tr>\n",
       "    <tr>\n",
       "      <th>...</th>\n",
       "      <td>...</td>\n",
       "      <td>...</td>\n",
       "    </tr>\n",
       "    <tr>\n",
       "      <th>45632</th>\n",
       "      <td>ZYG11B</td>\n",
       "      <td>79699</td>\n",
       "    </tr>\n",
       "    <tr>\n",
       "      <th>45633</th>\n",
       "      <td>ZYX</td>\n",
       "      <td>7791</td>\n",
       "    </tr>\n",
       "    <tr>\n",
       "      <th>45634</th>\n",
       "      <td>ZYXP1</td>\n",
       "      <td>106480342</td>\n",
       "    </tr>\n",
       "    <tr>\n",
       "      <th>45635</th>\n",
       "      <td>ZZEF1</td>\n",
       "      <td>23140</td>\n",
       "    </tr>\n",
       "    <tr>\n",
       "      <th>45636</th>\n",
       "      <td>ZZZ3</td>\n",
       "      <td>26009</td>\n",
       "    </tr>\n",
       "  </tbody>\n",
       "</table>\n",
       "<p>45637 rows × 2 columns</p>\n",
       "</div>"
      ],
      "text/plain": [
       "         symbol ncbi_gene_id\n",
       "0          A1BG            1\n",
       "1      A1BG-AS1       503538\n",
       "2          A1CF        29974\n",
       "3           A2M            2\n",
       "4       A2M-AS1       144571\n",
       "...         ...          ...\n",
       "45632    ZYG11B        79699\n",
       "45633       ZYX         7791\n",
       "45634     ZYXP1    106480342\n",
       "45635     ZZEF1        23140\n",
       "45636      ZZZ3        26009\n",
       "\n",
       "[45637 rows x 2 columns]"
      ]
     },
     "execution_count": 4,
     "metadata": {},
     "output_type": "execute_result"
    }
   ],
   "source": [
    "loaded"
   ]
  },
  {
   "cell_type": "markdown",
   "id": "18e51ab9-786b-477d-857c-8f4a3acc95b2",
   "metadata": {},
   "source": [
    "Write it out."
   ]
  },
  {
   "cell_type": "code",
   "execution_count": 5,
   "id": "94da57b6-56dd-4cc6-a9e7-b5f54ef995d4",
   "metadata": {},
   "outputs": [],
   "source": [
    "# To file.\n",
    "loaded.to_csv(\n",
    "    data_folder + 'symbol_to_ncbi_gene_id.tsv',\n",
    "    index = None,\n",
    "    sep = '\\t'\n",
    ")"
   ]
  },
  {
   "cell_type": "markdown",
   "id": "5fe11a5d-adff-413b-908c-2061ec8b7a68",
   "metadata": {},
   "source": [
    "# Get all KGML files from KEGG"
   ]
  },
  {
   "cell_type": "markdown",
   "id": "595096eb-325b-4e49-acb4-d1957c48ab1a",
   "metadata": {},
   "source": [
    "Get the unique pathway identifiers from KEGG, then ask for the KGML files (there aren't that many)."
   ]
  },
  {
   "cell_type": "code",
   "execution_count": 6,
   "id": "1c5a574c-c89a-4757-8671-57c71d94544d",
   "metadata": {},
   "outputs": [],
   "source": [
    "# Load the file.\n",
    "loaded_two = pd.read_csv(\n",
    "    data_folder + 'kegg_gene_ids_to_pathway_ids.tsv',\n",
    "    header = None,\n",
    "    sep = '\\t'\n",
    ")\n",
    "\n",
    "# Clean up the column names\n",
    "loaded_two.rename(columns={0: 'kegg_gene_id', 1: 'kegg_pathway_id'}, inplace=True)"
   ]
  },
  {
   "cell_type": "code",
   "execution_count": 7,
   "id": "2b8e074f-71ff-4cca-af29-eeda5b4c9efd",
   "metadata": {},
   "outputs": [
    {
     "data": {
      "text/html": [
       "<div>\n",
       "<style scoped>\n",
       "    .dataframe tbody tr th:only-of-type {\n",
       "        vertical-align: middle;\n",
       "    }\n",
       "\n",
       "    .dataframe tbody tr th {\n",
       "        vertical-align: top;\n",
       "    }\n",
       "\n",
       "    .dataframe thead th {\n",
       "        text-align: right;\n",
       "    }\n",
       "</style>\n",
       "<table border=\"1\" class=\"dataframe\">\n",
       "  <thead>\n",
       "    <tr style=\"text-align: right;\">\n",
       "      <th></th>\n",
       "      <th>kegg_gene_id</th>\n",
       "      <th>kegg_pathway_id</th>\n",
       "    </tr>\n",
       "  </thead>\n",
       "  <tbody>\n",
       "    <tr>\n",
       "      <th>0</th>\n",
       "      <td>hsa:10327</td>\n",
       "      <td>path:hsa00010</td>\n",
       "    </tr>\n",
       "    <tr>\n",
       "      <th>1</th>\n",
       "      <td>hsa:124</td>\n",
       "      <td>path:hsa00010</td>\n",
       "    </tr>\n",
       "    <tr>\n",
       "      <th>2</th>\n",
       "      <td>hsa:125</td>\n",
       "      <td>path:hsa00010</td>\n",
       "    </tr>\n",
       "    <tr>\n",
       "      <th>3</th>\n",
       "      <td>hsa:126</td>\n",
       "      <td>path:hsa00010</td>\n",
       "    </tr>\n",
       "    <tr>\n",
       "      <th>4</th>\n",
       "      <td>hsa:127</td>\n",
       "      <td>path:hsa00010</td>\n",
       "    </tr>\n",
       "    <tr>\n",
       "      <th>...</th>\n",
       "      <td>...</td>\n",
       "      <td>...</td>\n",
       "    </tr>\n",
       "    <tr>\n",
       "      <th>36702</th>\n",
       "      <td>hsa:91860</td>\n",
       "      <td>path:hsa05418</td>\n",
       "    </tr>\n",
       "    <tr>\n",
       "      <th>36703</th>\n",
       "      <td>hsa:92</td>\n",
       "      <td>path:hsa05418</td>\n",
       "    </tr>\n",
       "    <tr>\n",
       "      <th>36704</th>\n",
       "      <td>hsa:93</td>\n",
       "      <td>path:hsa05418</td>\n",
       "    </tr>\n",
       "    <tr>\n",
       "      <th>36705</th>\n",
       "      <td>hsa:9446</td>\n",
       "      <td>path:hsa05418</td>\n",
       "    </tr>\n",
       "    <tr>\n",
       "      <th>36706</th>\n",
       "      <td>hsa:9817</td>\n",
       "      <td>path:hsa05418</td>\n",
       "    </tr>\n",
       "  </tbody>\n",
       "</table>\n",
       "<p>36707 rows × 2 columns</p>\n",
       "</div>"
      ],
      "text/plain": [
       "      kegg_gene_id kegg_pathway_id\n",
       "0        hsa:10327   path:hsa00010\n",
       "1          hsa:124   path:hsa00010\n",
       "2          hsa:125   path:hsa00010\n",
       "3          hsa:126   path:hsa00010\n",
       "4          hsa:127   path:hsa00010\n",
       "...            ...             ...\n",
       "36702    hsa:91860   path:hsa05418\n",
       "36703       hsa:92   path:hsa05418\n",
       "36704       hsa:93   path:hsa05418\n",
       "36705     hsa:9446   path:hsa05418\n",
       "36706     hsa:9817   path:hsa05418\n",
       "\n",
       "[36707 rows x 2 columns]"
      ]
     },
     "execution_count": 7,
     "metadata": {},
     "output_type": "execute_result"
    }
   ],
   "source": [
    "loaded_two"
   ]
  },
  {
   "cell_type": "markdown",
   "id": "f642c65f",
   "metadata": {},
   "source": [
    "Before looking for pathways, write out all unique KEGG gene IDs."
   ]
  },
  {
   "cell_type": "code",
   "execution_count": 8,
   "id": "2a16e0e9",
   "metadata": {},
   "outputs": [
    {
     "ename": "AttributeError",
     "evalue": "'DataFrame' object has no attribute 'kegg_gene_id'",
     "output_type": "error",
     "traceback": [
      "\u001b[0;31m---------------------------------------------------------------------------\u001b[0m",
      "\u001b[0;31mAttributeError\u001b[0m                            Traceback (most recent call last)",
      "\u001b[0;32m/tmp/ipykernel_9901/72942824.py\u001b[0m in \u001b[0;36m?\u001b[0;34m()\u001b[0m\n\u001b[1;32m      1\u001b[0m \u001b[0;31m# All unique gene IDs.\u001b[0m\u001b[0;34m\u001b[0m\u001b[0;34m\u001b[0m\u001b[0m\n\u001b[0;32m----> 2\u001b[0;31m \u001b[0munique_kegg_gene_ids\u001b[0m \u001b[0;34m=\u001b[0m \u001b[0mlist\u001b[0m\u001b[0;34m(\u001b[0m\u001b[0mloaded\u001b[0m\u001b[0;34m.\u001b[0m\u001b[0mkegg_gene_id\u001b[0m\u001b[0;34m.\u001b[0m\u001b[0munique\u001b[0m\u001b[0;34m(\u001b[0m\u001b[0;34m)\u001b[0m\u001b[0;34m)\u001b[0m\u001b[0;34m\u001b[0m\u001b[0;34m\u001b[0m\u001b[0m\n\u001b[0m\u001b[1;32m      3\u001b[0m \u001b[0;34m\u001b[0m\u001b[0m\n\u001b[1;32m      4\u001b[0m \u001b[0;31m# Write them out.\u001b[0m\u001b[0;34m\u001b[0m\u001b[0;34m\u001b[0m\u001b[0m\n\u001b[1;32m      5\u001b[0m \u001b[0;32mwith\u001b[0m \u001b[0mopen\u001b[0m\u001b[0;34m(\u001b[0m\u001b[0mdata_folder\u001b[0m \u001b[0;34m+\u001b[0m \u001b[0;34m'unique_kegg_gene_ids.tsv'\u001b[0m\u001b[0;34m,\u001b[0m \u001b[0;34m'w'\u001b[0m\u001b[0;34m)\u001b[0m \u001b[0;32mas\u001b[0m \u001b[0mf\u001b[0m\u001b[0;34m:\u001b[0m\u001b[0;34m\u001b[0m\u001b[0;34m\u001b[0m\u001b[0m\n",
      "\u001b[0;32m~/mosaic/envs/3d_rna_velocity/lib/python3.11/site-packages/pandas/core/generic.py\u001b[0m in \u001b[0;36m?\u001b[0;34m(self, name)\u001b[0m\n\u001b[1;32m   6292\u001b[0m             \u001b[0;32mand\u001b[0m \u001b[0mname\u001b[0m \u001b[0;32mnot\u001b[0m \u001b[0;32min\u001b[0m \u001b[0mself\u001b[0m\u001b[0;34m.\u001b[0m\u001b[0m_accessors\u001b[0m\u001b[0;34m\u001b[0m\u001b[0;34m\u001b[0m\u001b[0m\n\u001b[1;32m   6293\u001b[0m             \u001b[0;32mand\u001b[0m \u001b[0mself\u001b[0m\u001b[0;34m.\u001b[0m\u001b[0m_info_axis\u001b[0m\u001b[0;34m.\u001b[0m\u001b[0m_can_hold_identifiers_and_holds_name\u001b[0m\u001b[0;34m(\u001b[0m\u001b[0mname\u001b[0m\u001b[0;34m)\u001b[0m\u001b[0;34m\u001b[0m\u001b[0;34m\u001b[0m\u001b[0m\n\u001b[1;32m   6294\u001b[0m         ):\n\u001b[1;32m   6295\u001b[0m             \u001b[0;32mreturn\u001b[0m \u001b[0mself\u001b[0m\u001b[0;34m[\u001b[0m\u001b[0mname\u001b[0m\u001b[0;34m]\u001b[0m\u001b[0;34m\u001b[0m\u001b[0;34m\u001b[0m\u001b[0m\n\u001b[0;32m-> 6296\u001b[0;31m         \u001b[0;32mreturn\u001b[0m \u001b[0mobject\u001b[0m\u001b[0;34m.\u001b[0m\u001b[0m__getattribute__\u001b[0m\u001b[0;34m(\u001b[0m\u001b[0mself\u001b[0m\u001b[0;34m,\u001b[0m \u001b[0mname\u001b[0m\u001b[0;34m)\u001b[0m\u001b[0;34m\u001b[0m\u001b[0;34m\u001b[0m\u001b[0m\n\u001b[0m",
      "\u001b[0;31mAttributeError\u001b[0m: 'DataFrame' object has no attribute 'kegg_gene_id'"
     ]
    }
   ],
   "source": [
    "# All unique gene IDs.\n",
    "unique_kegg_gene_ids = list(loaded.kegg_gene_id.unique())\n",
    "\n",
    "# Write them out.\n",
    "with open(data_folder + 'unique_kegg_gene_ids.tsv', 'w') as f:\n",
    "    for i in unique_kegg_gene_ids:\n",
    "        f.write(i + '\\n')"
   ]
  },
  {
   "cell_type": "markdown",
   "id": "b15bce9e",
   "metadata": {},
   "source": [
    "It appears that KEGG uses the NCBI IDs in the hsa:id format, so let's join to get gene symbols tied to pathways."
   ]
  },
  {
   "cell_type": "code",
   "execution_count": 9,
   "id": "e87c5915",
   "metadata": {},
   "outputs": [],
   "source": [
    "# Copy and re-name.\n",
    "loaded_copy = loaded.copy()\n",
    "loaded_copy.rename(\n",
    "    columns = {\n",
    "        \"ncbi_gene_id\": \"kegg_gene_id\"\n",
    "    },\n",
    "    inplace = True\n",
    ")\n",
    "\n",
    "# Create the right ID format.\n",
    "loaded_copy.kegg_gene_id = ['hsa:' + str(i) for i in list(loaded_copy.kegg_gene_id)]"
   ]
  },
  {
   "cell_type": "code",
   "execution_count": 10,
   "id": "593bbe73",
   "metadata": {},
   "outputs": [
    {
     "data": {
      "text/html": [
       "<div>\n",
       "<style scoped>\n",
       "    .dataframe tbody tr th:only-of-type {\n",
       "        vertical-align: middle;\n",
       "    }\n",
       "\n",
       "    .dataframe tbody tr th {\n",
       "        vertical-align: top;\n",
       "    }\n",
       "\n",
       "    .dataframe thead th {\n",
       "        text-align: right;\n",
       "    }\n",
       "</style>\n",
       "<table border=\"1\" class=\"dataframe\">\n",
       "  <thead>\n",
       "    <tr style=\"text-align: right;\">\n",
       "      <th></th>\n",
       "      <th>symbol</th>\n",
       "      <th>kegg_gene_id</th>\n",
       "    </tr>\n",
       "  </thead>\n",
       "  <tbody>\n",
       "    <tr>\n",
       "      <th>0</th>\n",
       "      <td>A1BG</td>\n",
       "      <td>hsa:1</td>\n",
       "    </tr>\n",
       "    <tr>\n",
       "      <th>1</th>\n",
       "      <td>A1BG-AS1</td>\n",
       "      <td>hsa:503538</td>\n",
       "    </tr>\n",
       "    <tr>\n",
       "      <th>2</th>\n",
       "      <td>A1CF</td>\n",
       "      <td>hsa:29974</td>\n",
       "    </tr>\n",
       "    <tr>\n",
       "      <th>3</th>\n",
       "      <td>A2M</td>\n",
       "      <td>hsa:2</td>\n",
       "    </tr>\n",
       "    <tr>\n",
       "      <th>4</th>\n",
       "      <td>A2M-AS1</td>\n",
       "      <td>hsa:144571</td>\n",
       "    </tr>\n",
       "    <tr>\n",
       "      <th>...</th>\n",
       "      <td>...</td>\n",
       "      <td>...</td>\n",
       "    </tr>\n",
       "    <tr>\n",
       "      <th>45632</th>\n",
       "      <td>ZYG11B</td>\n",
       "      <td>hsa:79699</td>\n",
       "    </tr>\n",
       "    <tr>\n",
       "      <th>45633</th>\n",
       "      <td>ZYX</td>\n",
       "      <td>hsa:7791</td>\n",
       "    </tr>\n",
       "    <tr>\n",
       "      <th>45634</th>\n",
       "      <td>ZYXP1</td>\n",
       "      <td>hsa:106480342</td>\n",
       "    </tr>\n",
       "    <tr>\n",
       "      <th>45635</th>\n",
       "      <td>ZZEF1</td>\n",
       "      <td>hsa:23140</td>\n",
       "    </tr>\n",
       "    <tr>\n",
       "      <th>45636</th>\n",
       "      <td>ZZZ3</td>\n",
       "      <td>hsa:26009</td>\n",
       "    </tr>\n",
       "  </tbody>\n",
       "</table>\n",
       "<p>45637 rows × 2 columns</p>\n",
       "</div>"
      ],
      "text/plain": [
       "         symbol   kegg_gene_id\n",
       "0          A1BG          hsa:1\n",
       "1      A1BG-AS1     hsa:503538\n",
       "2          A1CF      hsa:29974\n",
       "3           A2M          hsa:2\n",
       "4       A2M-AS1     hsa:144571\n",
       "...         ...            ...\n",
       "45632    ZYG11B      hsa:79699\n",
       "45633       ZYX       hsa:7791\n",
       "45634     ZYXP1  hsa:106480342\n",
       "45635     ZZEF1      hsa:23140\n",
       "45636      ZZZ3      hsa:26009\n",
       "\n",
       "[45637 rows x 2 columns]"
      ]
     },
     "execution_count": 10,
     "metadata": {},
     "output_type": "execute_result"
    }
   ],
   "source": [
    "loaded_copy"
   ]
  },
  {
   "cell_type": "markdown",
   "id": "782e0835-f8f1-463b-951c-0ecbccbb62e2",
   "metadata": {},
   "source": [
    "Write them out."
   ]
  },
  {
   "cell_type": "code",
   "execution_count": 11,
   "id": "30fc3988-43fb-4c55-9032-5fefae3c34cf",
   "metadata": {},
   "outputs": [],
   "source": [
    "# To file.\n",
    "loaded_copy.to_csv(\n",
    "    data_folder + 'symbols_to_kegg_gene_ids.tsv',\n",
    "    index = None,\n",
    "    sep = '\\t'\n",
    ")"
   ]
  },
  {
   "cell_type": "code",
   "execution_count": 12,
   "id": "30e19dc2",
   "metadata": {},
   "outputs": [],
   "source": [
    "# Join to get symbols and pathways in one place.\n",
    "joined = loaded_two.merge(loaded_copy, on = 'kegg_gene_id')"
   ]
  },
  {
   "cell_type": "code",
   "execution_count": 13,
   "id": "f84d1458",
   "metadata": {},
   "outputs": [
    {
     "data": {
      "text/html": [
       "<div>\n",
       "<style scoped>\n",
       "    .dataframe tbody tr th:only-of-type {\n",
       "        vertical-align: middle;\n",
       "    }\n",
       "\n",
       "    .dataframe tbody tr th {\n",
       "        vertical-align: top;\n",
       "    }\n",
       "\n",
       "    .dataframe thead th {\n",
       "        text-align: right;\n",
       "    }\n",
       "</style>\n",
       "<table border=\"1\" class=\"dataframe\">\n",
       "  <thead>\n",
       "    <tr style=\"text-align: right;\">\n",
       "      <th></th>\n",
       "      <th>kegg_gene_id</th>\n",
       "      <th>kegg_pathway_id</th>\n",
       "      <th>symbol</th>\n",
       "    </tr>\n",
       "  </thead>\n",
       "  <tbody>\n",
       "    <tr>\n",
       "      <th>0</th>\n",
       "      <td>hsa:10327</td>\n",
       "      <td>path:hsa00010</td>\n",
       "      <td>AKR1A1</td>\n",
       "    </tr>\n",
       "    <tr>\n",
       "      <th>1</th>\n",
       "      <td>hsa:124</td>\n",
       "      <td>path:hsa00010</td>\n",
       "      <td>ADH1A</td>\n",
       "    </tr>\n",
       "    <tr>\n",
       "      <th>2</th>\n",
       "      <td>hsa:125</td>\n",
       "      <td>path:hsa00010</td>\n",
       "      <td>ADH1B</td>\n",
       "    </tr>\n",
       "    <tr>\n",
       "      <th>3</th>\n",
       "      <td>hsa:126</td>\n",
       "      <td>path:hsa00010</td>\n",
       "      <td>ADH1C</td>\n",
       "    </tr>\n",
       "    <tr>\n",
       "      <th>4</th>\n",
       "      <td>hsa:127</td>\n",
       "      <td>path:hsa00010</td>\n",
       "      <td>ADH4</td>\n",
       "    </tr>\n",
       "    <tr>\n",
       "      <th>...</th>\n",
       "      <td>...</td>\n",
       "      <td>...</td>\n",
       "      <td>...</td>\n",
       "    </tr>\n",
       "    <tr>\n",
       "      <th>36540</th>\n",
       "      <td>hsa:91860</td>\n",
       "      <td>path:hsa05418</td>\n",
       "      <td>CALML4</td>\n",
       "    </tr>\n",
       "    <tr>\n",
       "      <th>36541</th>\n",
       "      <td>hsa:92</td>\n",
       "      <td>path:hsa05418</td>\n",
       "      <td>ACVR2A</td>\n",
       "    </tr>\n",
       "    <tr>\n",
       "      <th>36542</th>\n",
       "      <td>hsa:93</td>\n",
       "      <td>path:hsa05418</td>\n",
       "      <td>ACVR2B</td>\n",
       "    </tr>\n",
       "    <tr>\n",
       "      <th>36543</th>\n",
       "      <td>hsa:9446</td>\n",
       "      <td>path:hsa05418</td>\n",
       "      <td>GSTO1</td>\n",
       "    </tr>\n",
       "    <tr>\n",
       "      <th>36544</th>\n",
       "      <td>hsa:9817</td>\n",
       "      <td>path:hsa05418</td>\n",
       "      <td>KEAP1</td>\n",
       "    </tr>\n",
       "  </tbody>\n",
       "</table>\n",
       "<p>36545 rows × 3 columns</p>\n",
       "</div>"
      ],
      "text/plain": [
       "      kegg_gene_id kegg_pathway_id  symbol\n",
       "0        hsa:10327   path:hsa00010  AKR1A1\n",
       "1          hsa:124   path:hsa00010   ADH1A\n",
       "2          hsa:125   path:hsa00010   ADH1B\n",
       "3          hsa:126   path:hsa00010   ADH1C\n",
       "4          hsa:127   path:hsa00010    ADH4\n",
       "...            ...             ...     ...\n",
       "36540    hsa:91860   path:hsa05418  CALML4\n",
       "36541       hsa:92   path:hsa05418  ACVR2A\n",
       "36542       hsa:93   path:hsa05418  ACVR2B\n",
       "36543     hsa:9446   path:hsa05418   GSTO1\n",
       "36544     hsa:9817   path:hsa05418   KEAP1\n",
       "\n",
       "[36545 rows x 3 columns]"
      ]
     },
     "execution_count": 13,
     "metadata": {},
     "output_type": "execute_result"
    }
   ],
   "source": [
    "joined"
   ]
  },
  {
   "cell_type": "markdown",
   "id": "53511c41-a872-4d6d-b01a-27dbda710f6c",
   "metadata": {},
   "source": [
    "Write it out."
   ]
  },
  {
   "cell_type": "code",
   "execution_count": 14,
   "id": "a08ec325-7e66-4cd9-ad6c-e3f9e8a48924",
   "metadata": {},
   "outputs": [],
   "source": [
    "joined.to_csv(\n",
    "    data_folder + 'kegg_gene_pathway_symbol.tsv',\n",
    "    index = None,\n",
    "    sep = '\\t'\n",
    ")"
   ]
  },
  {
   "cell_type": "markdown",
   "id": "ad6b6147",
   "metadata": {},
   "source": [
    "Some KEGG IDs are missing, what are they?"
   ]
  },
  {
   "cell_type": "code",
   "execution_count": 59,
   "id": "4e53a825",
   "metadata": {},
   "outputs": [
    {
     "data": {
      "text/plain": [
       "{'hsa:100653049',\n",
       " 'hsa:101929601',\n",
       " 'hsa:101929627',\n",
       " 'hsa:102723407',\n",
       " 'hsa:102723475',\n",
       " 'hsa:102723532',\n",
       " 'hsa:102723996',\n",
       " 'hsa:102724334',\n",
       " 'hsa:102724428',\n",
       " 'hsa:102724560',\n",
       " 'hsa:102724594',\n",
       " 'hsa:102724652',\n",
       " 'hsa:102725035',\n",
       " 'hsa:107080638',\n",
       " 'hsa:107987478',\n",
       " 'hsa:107987479',\n",
       " 'hsa:107987545',\n",
       " 'hsa:110116772',\n",
       " 'hsa:111089941',\n",
       " 'hsa:112268384',\n",
       " 'hsa:122539214',\n",
       " 'hsa:124900488',\n",
       " 'hsa:124900516',\n",
       " 'hsa:124900632',\n",
       " 'hsa:124900883',\n",
       " 'hsa:124900887',\n",
       " 'hsa:124900915',\n",
       " 'hsa:124900922',\n",
       " 'hsa:124901219',\n",
       " 'hsa:124901220',\n",
       " 'hsa:124901221',\n",
       " 'hsa:124901224',\n",
       " 'hsa:124901505',\n",
       " 'hsa:124901506',\n",
       " 'hsa:124901507',\n",
       " 'hsa:124901508',\n",
       " 'hsa:124901509',\n",
       " 'hsa:124901516',\n",
       " 'hsa:124901858',\n",
       " 'hsa:124901859',\n",
       " 'hsa:124901860',\n",
       " 'hsa:124901863',\n",
       " 'hsa:124902100',\n",
       " 'hsa:124902101',\n",
       " 'hsa:124902331',\n",
       " 'hsa:124902335',\n",
       " 'hsa:124902595',\n",
       " 'hsa:124902596',\n",
       " 'hsa:124902847',\n",
       " 'hsa:124903120',\n",
       " 'hsa:124903414',\n",
       " 'hsa:124903435',\n",
       " 'hsa:124903436',\n",
       " 'hsa:124903594',\n",
       " 'hsa:124903595',\n",
       " 'hsa:124904107',\n",
       " 'hsa:124904109',\n",
       " 'hsa:124904122',\n",
       " 'hsa:124904135',\n",
       " 'hsa:124904136',\n",
       " 'hsa:124904137',\n",
       " 'hsa:124904138',\n",
       " 'hsa:124904139',\n",
       " 'hsa:124904140',\n",
       " 'hsa:124904141',\n",
       " 'hsa:124904142',\n",
       " 'hsa:124904143',\n",
       " 'hsa:124904144',\n",
       " 'hsa:124904145',\n",
       " 'hsa:124904146',\n",
       " 'hsa:124904147',\n",
       " 'hsa:124904151',\n",
       " 'hsa:124904381',\n",
       " 'hsa:124904613',\n",
       " 'hsa:124904631',\n",
       " 'hsa:124904634',\n",
       " 'hsa:124904651',\n",
       " 'hsa:124904666',\n",
       " 'hsa:124904668',\n",
       " 'hsa:124904669',\n",
       " 'hsa:124904694',\n",
       " 'hsa:124904727',\n",
       " 'hsa:124904802',\n",
       " 'hsa:124904804',\n",
       " 'hsa:124904983',\n",
       " 'hsa:124904986',\n",
       " 'hsa:124905062',\n",
       " 'hsa:124905065',\n",
       " 'hsa:124905264',\n",
       " 'hsa:124905290',\n",
       " 'hsa:124905291',\n",
       " 'hsa:124905292',\n",
       " 'hsa:124905307',\n",
       " 'hsa:124905321',\n",
       " 'hsa:124905326',\n",
       " 'hsa:124905415',\n",
       " 'hsa:124905573',\n",
       " 'hsa:124905574',\n",
       " 'hsa:124905809',\n",
       " 'hsa:124906193',\n",
       " 'hsa:124906194',\n",
       " 'hsa:124906195',\n",
       " 'hsa:124906377',\n",
       " 'hsa:124906378',\n",
       " 'hsa:124906379',\n",
       " 'hsa:124906380',\n",
       " 'hsa:124906381',\n",
       " 'hsa:124906382',\n",
       " 'hsa:124907672',\n",
       " 'hsa:124907837',\n",
       " 'hsa:124907960',\n",
       " 'hsa:124907961',\n",
       " 'hsa:124907963',\n",
       " 'hsa:124907964',\n",
       " 'hsa:124907965',\n",
       " 'hsa:124908124'}"
      ]
     },
     "execution_count": 59,
     "metadata": {},
     "output_type": "execute_result"
    }
   ],
   "source": [
    "set(loaded_two.kegg_gene_id).difference(set(joined.kegg_gene_id))"
   ]
  },
  {
   "cell_type": "markdown",
   "id": "8b7f8322-43e2-4a08-9bbd-9f4781b2686a",
   "metadata": {},
   "source": [
    "What are the unique pathways?"
   ]
  },
  {
   "cell_type": "code",
   "execution_count": 61,
   "id": "99c3997d-f2c8-40c5-9049-1c7c58c33d22",
   "metadata": {},
   "outputs": [],
   "source": [
    "# Unique pathways.\n",
    "unique_pathways = set(joined.kegg_pathway_id)"
   ]
  },
  {
   "cell_type": "code",
   "execution_count": 63,
   "id": "8debd0d9",
   "metadata": {},
   "outputs": [
    {
     "data": {
      "text/plain": [
       "358"
      ]
     },
     "execution_count": 63,
     "metadata": {},
     "output_type": "execute_result"
    }
   ],
   "source": [
    "len(unique_pathways)"
   ]
  },
  {
   "cell_type": "markdown",
   "id": "93c0d370-9a47-4c0f-a79a-3665d591b280",
   "metadata": {},
   "source": [
    "Now get every KGML file."
   ]
  },
  {
   "cell_type": "code",
   "execution_count": 23,
   "id": "e6f4c82c-d3f5-4375-9768-cb5dede62589",
   "metadata": {},
   "outputs": [],
   "source": [
    "# Request every KGML file.\n",
    "for p_id in unique_pathways:\n",
    "\n",
    "    # Ask for the KGML file.\n",
    "    r = requests.get('https://rest.kegg.jp/get/' + p_id.split(':')[1] + '/kgml')\n",
    "\n",
    "    # Save the KGML file.\n",
    "    with open(data_folder + 'kgml_files/' + p_id.split(':')[1] + '.xml', 'w') as f:\n",
    "        f.write(r.text)\n",
    "\n",
    "    # Wait 1 second to send the next request.\n",
    "    time.sleep(1)"
   ]
  },
  {
   "cell_type": "markdown",
   "id": "1eba1a79",
   "metadata": {},
   "source": [
    "Manual file count of the data folder shows that we got every KGML file."
   ]
  }
 ],
 "metadata": {
  "kernelspec": {
   "display_name": "3d_rna_velocity",
   "language": "python",
   "name": "3d_rna_velocity"
  },
  "language_info": {
   "codemirror_mode": {
    "name": "ipython",
    "version": 3
   },
   "file_extension": ".py",
   "mimetype": "text/x-python",
   "name": "python",
   "nbconvert_exporter": "python",
   "pygments_lexer": "ipython3",
   "version": "3.11.11"
  }
 },
 "nbformat": 4,
 "nbformat_minor": 5
}
