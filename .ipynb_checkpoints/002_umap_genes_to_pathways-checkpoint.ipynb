{
 "cells": [
  {
   "cell_type": "markdown",
   "id": "8b891b75",
   "metadata": {
    "jp-MarkdownHeadingCollapsed": true
   },
   "source": [
    "# Map UMAP genes to KEGG pathways"
   ]
  },
  {
   "cell_type": "markdown",
   "id": "c30f63f3",
   "metadata": {},
   "source": [
    "Using gene lists from prior analysis, we will find up- and down-regulated KEGG pathways."
   ]
  },
  {
   "cell_type": "markdown",
   "id": "9606cab6",
   "metadata": {},
   "source": [
    "# Libraries"
   ]
  },
  {
   "cell_type": "code",
   "execution_count": 22,
   "id": "81f7945f",
   "metadata": {},
   "outputs": [],
   "source": [
    "# Libraries\n",
    "\n",
    "\n",
    "# Pandas\n",
    "import pandas as pd\n",
    "\n",
    "# Plotting\n",
    "import plotly\n",
    "import plotly.express as px\n",
    "\n",
    "# Requests\n",
    "import requests\n",
    "\n",
    "# Delay\n",
    "import time"
   ]
  },
  {
   "cell_type": "code",
   "execution_count": 3,
   "id": "f98caada",
   "metadata": {},
   "outputs": [],
   "source": [
    "# Set the data folder.\n",
    "data_folder = '/media/apollo/Samsung_T5/transfer/mayur/'\n",
    "# data_folder = '/home/mad1188/rvallsamples/'"
   ]
  },
  {
   "cell_type": "markdown",
   "id": "368db10e",
   "metadata": {},
   "source": [
    "# Load the genes from the prior analysis"
   ]
  },
  {
   "cell_type": "markdown",
   "id": "803a6178",
   "metadata": {},
   "source": [
    "Load the genes."
   ]
  },
  {
   "cell_type": "code",
   "execution_count": 4,
   "id": "e388fbdc",
   "metadata": {},
   "outputs": [],
   "source": [
    "# Load the file (Islets).\n",
    "loaded = pd.read_csv(\n",
    "   'from_mayur/ISLETST2RE_markers.csv',\n",
    "    sep = ','\n",
    ")\n",
    "\n",
    "# Load the file (full).\n",
    "# loaded = pd.read_csv(\n",
    "#    'from_mayur/all_markers.csv',\n",
    "#     sep = ','\n",
    "# )\n",
    "\n",
    "# Keep only what we need.\n",
    "loaded = loaded[['cluster', 'gene', 'regulation']]\n",
    "\n",
    "# Clean up the column names for writing.\n",
    "# loaded.rename(columns={'Approved symbol': 'symbol', 'NCBI gene ID': 'ncbi_gene_id'}, inplace=True)"
   ]
  },
  {
   "cell_type": "code",
   "execution_count": 5,
   "id": "82111b0b-6132-4ed8-a6bc-62ab149654ce",
   "metadata": {
    "scrolled": true
   },
   "outputs": [
    {
     "data": {
      "text/html": [
       "<div>\n",
       "<style scoped>\n",
       "    .dataframe tbody tr th:only-of-type {\n",
       "        vertical-align: middle;\n",
       "    }\n",
       "\n",
       "    .dataframe tbody tr th {\n",
       "        vertical-align: top;\n",
       "    }\n",
       "\n",
       "    .dataframe thead th {\n",
       "        text-align: right;\n",
       "    }\n",
       "</style>\n",
       "<table border=\"1\" class=\"dataframe\">\n",
       "  <thead>\n",
       "    <tr style=\"text-align: right;\">\n",
       "      <th></th>\n",
       "      <th>cluster</th>\n",
       "      <th>gene</th>\n",
       "      <th>regulation</th>\n",
       "    </tr>\n",
       "  </thead>\n",
       "  <tbody>\n",
       "    <tr>\n",
       "      <th>0</th>\n",
       "      <td>0</td>\n",
       "      <td>REG1A</td>\n",
       "      <td>Upregulated</td>\n",
       "    </tr>\n",
       "    <tr>\n",
       "      <th>1</th>\n",
       "      <td>0</td>\n",
       "      <td>SPINK1</td>\n",
       "      <td>Upregulated</td>\n",
       "    </tr>\n",
       "    <tr>\n",
       "      <th>2</th>\n",
       "      <td>0</td>\n",
       "      <td>PRSS2</td>\n",
       "      <td>Upregulated</td>\n",
       "    </tr>\n",
       "    <tr>\n",
       "      <th>3</th>\n",
       "      <td>0</td>\n",
       "      <td>PRSS1</td>\n",
       "      <td>Upregulated</td>\n",
       "    </tr>\n",
       "    <tr>\n",
       "      <th>4</th>\n",
       "      <td>0</td>\n",
       "      <td>CTRB1</td>\n",
       "      <td>Upregulated</td>\n",
       "    </tr>\n",
       "    <tr>\n",
       "      <th>...</th>\n",
       "      <td>...</td>\n",
       "      <td>...</td>\n",
       "      <td>...</td>\n",
       "    </tr>\n",
       "    <tr>\n",
       "      <th>95</th>\n",
       "      <td>2</td>\n",
       "      <td>PCSK1N</td>\n",
       "      <td>Downregulated</td>\n",
       "    </tr>\n",
       "    <tr>\n",
       "      <th>96</th>\n",
       "      <td>2</td>\n",
       "      <td>GAD2</td>\n",
       "      <td>Downregulated</td>\n",
       "    </tr>\n",
       "    <tr>\n",
       "      <th>97</th>\n",
       "      <td>2</td>\n",
       "      <td>CHGA</td>\n",
       "      <td>Downregulated</td>\n",
       "    </tr>\n",
       "    <tr>\n",
       "      <th>98</th>\n",
       "      <td>2</td>\n",
       "      <td>SCGB2A1</td>\n",
       "      <td>Downregulated</td>\n",
       "    </tr>\n",
       "    <tr>\n",
       "      <th>99</th>\n",
       "      <td>2</td>\n",
       "      <td>SCG2</td>\n",
       "      <td>Downregulated</td>\n",
       "    </tr>\n",
       "  </tbody>\n",
       "</table>\n",
       "<p>100 rows × 3 columns</p>\n",
       "</div>"
      ],
      "text/plain": [
       "    cluster     gene     regulation\n",
       "0         0    REG1A    Upregulated\n",
       "1         0   SPINK1    Upregulated\n",
       "2         0    PRSS2    Upregulated\n",
       "3         0    PRSS1    Upregulated\n",
       "4         0    CTRB1    Upregulated\n",
       "..      ...      ...            ...\n",
       "95        2   PCSK1N  Downregulated\n",
       "96        2     GAD2  Downregulated\n",
       "97        2     CHGA  Downregulated\n",
       "98        2  SCGB2A1  Downregulated\n",
       "99        2     SCG2  Downregulated\n",
       "\n",
       "[100 rows x 3 columns]"
      ]
     },
     "execution_count": 5,
     "metadata": {},
     "output_type": "execute_result"
    }
   ],
   "source": [
    "loaded"
   ]
  },
  {
   "cell_type": "markdown",
   "id": "18e51ab9-786b-477d-857c-8f4a3acc95b2",
   "metadata": {},
   "source": [
    "Write it out."
   ]
  },
  {
   "cell_type": "code",
   "execution_count": 6,
   "id": "94da57b6-56dd-4cc6-a9e7-b5f54ef995d4",
   "metadata": {},
   "outputs": [],
   "source": [
    "# To file.\n",
    "loaded.to_csv(\n",
    "    data_folder + 'symbol_to_ncbi_gene_id.tsv',\n",
    "    index = None,\n",
    "    sep = '\\t'\n",
    ")"
   ]
  },
  {
   "cell_type": "markdown",
   "id": "5fe11a5d-adff-413b-908c-2061ec8b7a68",
   "metadata": {},
   "source": [
    "# Load the KEGG ID mapping file"
   ]
  },
  {
   "cell_type": "markdown",
   "id": "595096eb-325b-4e49-acb4-d1957c48ab1a",
   "metadata": {},
   "source": [
    "We will need the file which has KEGG IDs and NCBI IDs."
   ]
  },
  {
   "cell_type": "code",
   "execution_count": 7,
   "id": "1c5a574c-c89a-4757-8671-57c71d94544d",
   "metadata": {},
   "outputs": [],
   "source": [
    "# Load the file.\n",
    "loaded_two = pd.read_csv(\n",
    "    data_folder + 'kegg_gene_pathway_symbol.tsv',\n",
    "    sep = '\\t'\n",
    ")\n",
    "\n",
    "# Clean up the column names\n",
    "loaded_two.rename(columns={'symbol': 'gene'}, inplace=True)"
   ]
  },
  {
   "cell_type": "code",
   "execution_count": 8,
   "id": "2b8e074f-71ff-4cca-af29-eeda5b4c9efd",
   "metadata": {},
   "outputs": [
    {
     "data": {
      "text/html": [
       "<div>\n",
       "<style scoped>\n",
       "    .dataframe tbody tr th:only-of-type {\n",
       "        vertical-align: middle;\n",
       "    }\n",
       "\n",
       "    .dataframe tbody tr th {\n",
       "        vertical-align: top;\n",
       "    }\n",
       "\n",
       "    .dataframe thead th {\n",
       "        text-align: right;\n",
       "    }\n",
       "</style>\n",
       "<table border=\"1\" class=\"dataframe\">\n",
       "  <thead>\n",
       "    <tr style=\"text-align: right;\">\n",
       "      <th></th>\n",
       "      <th>kegg_gene_id</th>\n",
       "      <th>kegg_pathway_id</th>\n",
       "      <th>gene</th>\n",
       "    </tr>\n",
       "  </thead>\n",
       "  <tbody>\n",
       "    <tr>\n",
       "      <th>1</th>\n",
       "      <td>hsa:124</td>\n",
       "      <td>path:hsa00010</td>\n",
       "      <td>ADH1A</td>\n",
       "    </tr>\n",
       "    <tr>\n",
       "      <th>308</th>\n",
       "      <td>hsa:124</td>\n",
       "      <td>path:hsa00071</td>\n",
       "      <td>ADH1A</td>\n",
       "    </tr>\n",
       "    <tr>\n",
       "      <th>1120</th>\n",
       "      <td>hsa:124</td>\n",
       "      <td>path:hsa00350</td>\n",
       "      <td>ADH1A</td>\n",
       "    </tr>\n",
       "    <tr>\n",
       "      <th>2283</th>\n",
       "      <td>hsa:124</td>\n",
       "      <td>path:hsa00620</td>\n",
       "      <td>ADH1A</td>\n",
       "    </tr>\n",
       "    <tr>\n",
       "      <th>2579</th>\n",
       "      <td>hsa:124</td>\n",
       "      <td>path:hsa00830</td>\n",
       "      <td>ADH1A</td>\n",
       "    </tr>\n",
       "    <tr>\n",
       "      <th>2806</th>\n",
       "      <td>hsa:124</td>\n",
       "      <td>path:hsa00980</td>\n",
       "      <td>ADH1A</td>\n",
       "    </tr>\n",
       "    <tr>\n",
       "      <th>2882</th>\n",
       "      <td>hsa:124</td>\n",
       "      <td>path:hsa00982</td>\n",
       "      <td>ADH1A</td>\n",
       "    </tr>\n",
       "    <tr>\n",
       "      <th>3186</th>\n",
       "      <td>hsa:124</td>\n",
       "      <td>path:hsa01100</td>\n",
       "      <td>ADH1A</td>\n",
       "    </tr>\n",
       "    <tr>\n",
       "      <th>23092</th>\n",
       "      <td>hsa:124</td>\n",
       "      <td>path:hsa04936</td>\n",
       "      <td>ADH1A</td>\n",
       "    </tr>\n",
       "  </tbody>\n",
       "</table>\n",
       "</div>"
      ],
      "text/plain": [
       "      kegg_gene_id kegg_pathway_id   gene\n",
       "1          hsa:124   path:hsa00010  ADH1A\n",
       "308        hsa:124   path:hsa00071  ADH1A\n",
       "1120       hsa:124   path:hsa00350  ADH1A\n",
       "2283       hsa:124   path:hsa00620  ADH1A\n",
       "2579       hsa:124   path:hsa00830  ADH1A\n",
       "2806       hsa:124   path:hsa00980  ADH1A\n",
       "2882       hsa:124   path:hsa00982  ADH1A\n",
       "3186       hsa:124   path:hsa01100  ADH1A\n",
       "23092      hsa:124   path:hsa04936  ADH1A"
      ]
     },
     "execution_count": 8,
     "metadata": {},
     "output_type": "execute_result"
    }
   ],
   "source": [
    "loaded_two[loaded_two.gene == 'ADH1A']"
   ]
  },
  {
   "cell_type": "markdown",
   "id": "ecbf2a93-ce7e-494c-97e3-5c25f4cb1640",
   "metadata": {},
   "source": [
    "# Join to see what matches"
   ]
  },
  {
   "cell_type": "markdown",
   "id": "f642c65f",
   "metadata": {},
   "source": [
    "Now we can join to see which pathways are represented.  We will work with only upregulated genes here."
   ]
  },
  {
   "cell_type": "code",
   "execution_count": 9,
   "id": "2a16e0e9",
   "metadata": {},
   "outputs": [],
   "source": [
    "# Upregulated genes only.\n",
    "upregulated_genes_only = loaded[loaded.regulation == 'Downregulated'].copy()"
   ]
  },
  {
   "cell_type": "code",
   "execution_count": 10,
   "id": "4b9f638b-a0f0-4138-9313-8ca25bb0a48d",
   "metadata": {},
   "outputs": [
    {
     "data": {
      "text/html": [
       "<div>\n",
       "<style scoped>\n",
       "    .dataframe tbody tr th:only-of-type {\n",
       "        vertical-align: middle;\n",
       "    }\n",
       "\n",
       "    .dataframe tbody tr th {\n",
       "        vertical-align: top;\n",
       "    }\n",
       "\n",
       "    .dataframe thead th {\n",
       "        text-align: right;\n",
       "    }\n",
       "</style>\n",
       "<table border=\"1\" class=\"dataframe\">\n",
       "  <thead>\n",
       "    <tr style=\"text-align: right;\">\n",
       "      <th></th>\n",
       "      <th>cluster</th>\n",
       "      <th>gene</th>\n",
       "      <th>regulation</th>\n",
       "    </tr>\n",
       "  </thead>\n",
       "  <tbody>\n",
       "    <tr>\n",
       "      <th>0</th>\n",
       "      <td>0</td>\n",
       "      <td>REG1A</td>\n",
       "      <td>Upregulated</td>\n",
       "    </tr>\n",
       "    <tr>\n",
       "      <th>1</th>\n",
       "      <td>0</td>\n",
       "      <td>SPINK1</td>\n",
       "      <td>Upregulated</td>\n",
       "    </tr>\n",
       "    <tr>\n",
       "      <th>2</th>\n",
       "      <td>0</td>\n",
       "      <td>PRSS2</td>\n",
       "      <td>Upregulated</td>\n",
       "    </tr>\n",
       "    <tr>\n",
       "      <th>3</th>\n",
       "      <td>0</td>\n",
       "      <td>PRSS1</td>\n",
       "      <td>Upregulated</td>\n",
       "    </tr>\n",
       "    <tr>\n",
       "      <th>4</th>\n",
       "      <td>0</td>\n",
       "      <td>CTRB1</td>\n",
       "      <td>Upregulated</td>\n",
       "    </tr>\n",
       "    <tr>\n",
       "      <th>5</th>\n",
       "      <td>0</td>\n",
       "      <td>CLPS</td>\n",
       "      <td>Upregulated</td>\n",
       "    </tr>\n",
       "    <tr>\n",
       "      <th>6</th>\n",
       "      <td>0</td>\n",
       "      <td>LCN2</td>\n",
       "      <td>Upregulated</td>\n",
       "    </tr>\n",
       "    <tr>\n",
       "      <th>7</th>\n",
       "      <td>0</td>\n",
       "      <td>CTRB2</td>\n",
       "      <td>Upregulated</td>\n",
       "    </tr>\n",
       "    <tr>\n",
       "      <th>8</th>\n",
       "      <td>0</td>\n",
       "      <td>REG3A</td>\n",
       "      <td>Upregulated</td>\n",
       "    </tr>\n",
       "    <tr>\n",
       "      <th>9</th>\n",
       "      <td>0</td>\n",
       "      <td>PLA2G1B</td>\n",
       "      <td>Upregulated</td>\n",
       "    </tr>\n",
       "    <tr>\n",
       "      <th>10</th>\n",
       "      <td>0</td>\n",
       "      <td>CPA1</td>\n",
       "      <td>Upregulated</td>\n",
       "    </tr>\n",
       "    <tr>\n",
       "      <th>11</th>\n",
       "      <td>0</td>\n",
       "      <td>PRSS3</td>\n",
       "      <td>Upregulated</td>\n",
       "    </tr>\n",
       "    <tr>\n",
       "      <th>12</th>\n",
       "      <td>0</td>\n",
       "      <td>GSTA1</td>\n",
       "      <td>Upregulated</td>\n",
       "    </tr>\n",
       "    <tr>\n",
       "      <th>13</th>\n",
       "      <td>0</td>\n",
       "      <td>CPB1</td>\n",
       "      <td>Upregulated</td>\n",
       "    </tr>\n",
       "    <tr>\n",
       "      <th>14</th>\n",
       "      <td>0</td>\n",
       "      <td>C15orf48</td>\n",
       "      <td>Upregulated</td>\n",
       "    </tr>\n",
       "    <tr>\n",
       "      <th>15</th>\n",
       "      <td>0</td>\n",
       "      <td>S100A10</td>\n",
       "      <td>Upregulated</td>\n",
       "    </tr>\n",
       "    <tr>\n",
       "      <th>16</th>\n",
       "      <td>1</td>\n",
       "      <td>PCSK1</td>\n",
       "      <td>Upregulated</td>\n",
       "    </tr>\n",
       "    <tr>\n",
       "      <th>17</th>\n",
       "      <td>1</td>\n",
       "      <td>CPE</td>\n",
       "      <td>Upregulated</td>\n",
       "    </tr>\n",
       "    <tr>\n",
       "      <th>18</th>\n",
       "      <td>1</td>\n",
       "      <td>SCG3</td>\n",
       "      <td>Upregulated</td>\n",
       "    </tr>\n",
       "    <tr>\n",
       "      <th>19</th>\n",
       "      <td>1</td>\n",
       "      <td>ERO1B</td>\n",
       "      <td>Upregulated</td>\n",
       "    </tr>\n",
       "    <tr>\n",
       "      <th>20</th>\n",
       "      <td>1</td>\n",
       "      <td>SCG2</td>\n",
       "      <td>Upregulated</td>\n",
       "    </tr>\n",
       "    <tr>\n",
       "      <th>21</th>\n",
       "      <td>1</td>\n",
       "      <td>SCGB2A1</td>\n",
       "      <td>Upregulated</td>\n",
       "    </tr>\n",
       "    <tr>\n",
       "      <th>22</th>\n",
       "      <td>1</td>\n",
       "      <td>SAMD11</td>\n",
       "      <td>Upregulated</td>\n",
       "    </tr>\n",
       "    <tr>\n",
       "      <th>23</th>\n",
       "      <td>1</td>\n",
       "      <td>GAD2</td>\n",
       "      <td>Upregulated</td>\n",
       "    </tr>\n",
       "    <tr>\n",
       "      <th>24</th>\n",
       "      <td>1</td>\n",
       "      <td>CHGA</td>\n",
       "      <td>Upregulated</td>\n",
       "    </tr>\n",
       "    <tr>\n",
       "      <th>25</th>\n",
       "      <td>1</td>\n",
       "      <td>SCGN</td>\n",
       "      <td>Upregulated</td>\n",
       "    </tr>\n",
       "    <tr>\n",
       "      <th>26</th>\n",
       "      <td>1</td>\n",
       "      <td>PCSK1N</td>\n",
       "      <td>Upregulated</td>\n",
       "    </tr>\n",
       "    <tr>\n",
       "      <th>27</th>\n",
       "      <td>1</td>\n",
       "      <td>MALAT1</td>\n",
       "      <td>Upregulated</td>\n",
       "    </tr>\n",
       "    <tr>\n",
       "      <th>28</th>\n",
       "      <td>1</td>\n",
       "      <td>BEX1</td>\n",
       "      <td>Upregulated</td>\n",
       "    </tr>\n",
       "    <tr>\n",
       "      <th>29</th>\n",
       "      <td>1</td>\n",
       "      <td>TIMP1</td>\n",
       "      <td>Upregulated</td>\n",
       "    </tr>\n",
       "    <tr>\n",
       "      <th>30</th>\n",
       "      <td>1</td>\n",
       "      <td>TSC22D1</td>\n",
       "      <td>Upregulated</td>\n",
       "    </tr>\n",
       "    <tr>\n",
       "      <th>31</th>\n",
       "      <td>1</td>\n",
       "      <td>RBP4</td>\n",
       "      <td>Upregulated</td>\n",
       "    </tr>\n",
       "    <tr>\n",
       "      <th>32</th>\n",
       "      <td>1</td>\n",
       "      <td>SCG5</td>\n",
       "      <td>Upregulated</td>\n",
       "    </tr>\n",
       "    <tr>\n",
       "      <th>33</th>\n",
       "      <td>1</td>\n",
       "      <td>SLC30A8</td>\n",
       "      <td>Upregulated</td>\n",
       "    </tr>\n",
       "    <tr>\n",
       "      <th>34</th>\n",
       "      <td>1</td>\n",
       "      <td>PPP1R1A</td>\n",
       "      <td>Upregulated</td>\n",
       "    </tr>\n",
       "    <tr>\n",
       "      <th>35</th>\n",
       "      <td>1</td>\n",
       "      <td>CD99</td>\n",
       "      <td>Upregulated</td>\n",
       "    </tr>\n",
       "    <tr>\n",
       "      <th>36</th>\n",
       "      <td>1</td>\n",
       "      <td>DLK1</td>\n",
       "      <td>Upregulated</td>\n",
       "    </tr>\n",
       "    <tr>\n",
       "      <th>37</th>\n",
       "      <td>1</td>\n",
       "      <td>IAPP</td>\n",
       "      <td>Upregulated</td>\n",
       "    </tr>\n",
       "    <tr>\n",
       "      <th>38</th>\n",
       "      <td>1</td>\n",
       "      <td>INS</td>\n",
       "      <td>Upregulated</td>\n",
       "    </tr>\n",
       "    <tr>\n",
       "      <th>39</th>\n",
       "      <td>2</td>\n",
       "      <td>CXCL8</td>\n",
       "      <td>Upregulated</td>\n",
       "    </tr>\n",
       "    <tr>\n",
       "      <th>40</th>\n",
       "      <td>2</td>\n",
       "      <td>SERPINB1</td>\n",
       "      <td>Upregulated</td>\n",
       "    </tr>\n",
       "  </tbody>\n",
       "</table>\n",
       "</div>"
      ],
      "text/plain": [
       "    cluster      gene   regulation\n",
       "0         0     REG1A  Upregulated\n",
       "1         0    SPINK1  Upregulated\n",
       "2         0     PRSS2  Upregulated\n",
       "3         0     PRSS1  Upregulated\n",
       "4         0     CTRB1  Upregulated\n",
       "5         0      CLPS  Upregulated\n",
       "6         0      LCN2  Upregulated\n",
       "7         0     CTRB2  Upregulated\n",
       "8         0     REG3A  Upregulated\n",
       "9         0   PLA2G1B  Upregulated\n",
       "10        0      CPA1  Upregulated\n",
       "11        0     PRSS3  Upregulated\n",
       "12        0     GSTA1  Upregulated\n",
       "13        0      CPB1  Upregulated\n",
       "14        0  C15orf48  Upregulated\n",
       "15        0   S100A10  Upregulated\n",
       "16        1     PCSK1  Upregulated\n",
       "17        1       CPE  Upregulated\n",
       "18        1      SCG3  Upregulated\n",
       "19        1     ERO1B  Upregulated\n",
       "20        1      SCG2  Upregulated\n",
       "21        1   SCGB2A1  Upregulated\n",
       "22        1    SAMD11  Upregulated\n",
       "23        1      GAD2  Upregulated\n",
       "24        1      CHGA  Upregulated\n",
       "25        1      SCGN  Upregulated\n",
       "26        1    PCSK1N  Upregulated\n",
       "27        1    MALAT1  Upregulated\n",
       "28        1      BEX1  Upregulated\n",
       "29        1     TIMP1  Upregulated\n",
       "30        1   TSC22D1  Upregulated\n",
       "31        1      RBP4  Upregulated\n",
       "32        1      SCG5  Upregulated\n",
       "33        1   SLC30A8  Upregulated\n",
       "34        1   PPP1R1A  Upregulated\n",
       "35        1      CD99  Upregulated\n",
       "36        1      DLK1  Upregulated\n",
       "37        1      IAPP  Upregulated\n",
       "38        1       INS  Upregulated\n",
       "39        2     CXCL8  Upregulated\n",
       "40        2  SERPINB1  Upregulated"
      ]
     },
     "execution_count": 10,
     "metadata": {},
     "output_type": "execute_result"
    }
   ],
   "source": [
    "upregulated_genes_only"
   ]
  },
  {
   "cell_type": "markdown",
   "id": "b15bce9e",
   "metadata": {},
   "source": [
    "Now the join."
   ]
  },
  {
   "cell_type": "code",
   "execution_count": 11,
   "id": "e87c5915",
   "metadata": {},
   "outputs": [],
   "source": [
    "# Join.\n",
    "joined = upregulated_genes_only.merge(loaded_two, on = 'gene')"
   ]
  },
  {
   "cell_type": "code",
   "execution_count": 12,
   "id": "593bbe73",
   "metadata": {},
   "outputs": [
    {
     "data": {
      "text/html": [
       "<div>\n",
       "<style scoped>\n",
       "    .dataframe tbody tr th:only-of-type {\n",
       "        vertical-align: middle;\n",
       "    }\n",
       "\n",
       "    .dataframe tbody tr th {\n",
       "        vertical-align: top;\n",
       "    }\n",
       "\n",
       "    .dataframe thead th {\n",
       "        text-align: right;\n",
       "    }\n",
       "</style>\n",
       "<table border=\"1\" class=\"dataframe\">\n",
       "  <thead>\n",
       "    <tr style=\"text-align: right;\">\n",
       "      <th></th>\n",
       "      <th>cluster</th>\n",
       "      <th>gene</th>\n",
       "      <th>regulation</th>\n",
       "      <th>kegg_gene_id</th>\n",
       "      <th>kegg_pathway_id</th>\n",
       "    </tr>\n",
       "  </thead>\n",
       "  <tbody>\n",
       "    <tr>\n",
       "      <th>0</th>\n",
       "      <td>0</td>\n",
       "      <td>PRSS2</td>\n",
       "      <td>Upregulated</td>\n",
       "      <td>hsa:5645</td>\n",
       "      <td>path:hsa04080</td>\n",
       "    </tr>\n",
       "    <tr>\n",
       "      <th>1</th>\n",
       "      <td>0</td>\n",
       "      <td>PRSS2</td>\n",
       "      <td>Upregulated</td>\n",
       "      <td>hsa:5645</td>\n",
       "      <td>path:hsa04972</td>\n",
       "    </tr>\n",
       "    <tr>\n",
       "      <th>2</th>\n",
       "      <td>0</td>\n",
       "      <td>PRSS2</td>\n",
       "      <td>Upregulated</td>\n",
       "      <td>hsa:5645</td>\n",
       "      <td>path:hsa04974</td>\n",
       "    </tr>\n",
       "    <tr>\n",
       "      <th>3</th>\n",
       "      <td>0</td>\n",
       "      <td>PRSS2</td>\n",
       "      <td>Upregulated</td>\n",
       "      <td>hsa:5645</td>\n",
       "      <td>path:hsa05164</td>\n",
       "    </tr>\n",
       "    <tr>\n",
       "      <th>4</th>\n",
       "      <td>0</td>\n",
       "      <td>PRSS1</td>\n",
       "      <td>Upregulated</td>\n",
       "      <td>hsa:5644</td>\n",
       "      <td>path:hsa04080</td>\n",
       "    </tr>\n",
       "    <tr>\n",
       "      <th>...</th>\n",
       "      <td>...</td>\n",
       "      <td>...</td>\n",
       "      <td>...</td>\n",
       "      <td>...</td>\n",
       "      <td>...</td>\n",
       "    </tr>\n",
       "    <tr>\n",
       "      <th>119</th>\n",
       "      <td>2</td>\n",
       "      <td>CXCL8</td>\n",
       "      <td>Upregulated</td>\n",
       "      <td>hsa:3576</td>\n",
       "      <td>path:hsa05200</td>\n",
       "    </tr>\n",
       "    <tr>\n",
       "      <th>120</th>\n",
       "      <td>2</td>\n",
       "      <td>CXCL8</td>\n",
       "      <td>Upregulated</td>\n",
       "      <td>hsa:3576</td>\n",
       "      <td>path:hsa05202</td>\n",
       "    </tr>\n",
       "    <tr>\n",
       "      <th>121</th>\n",
       "      <td>2</td>\n",
       "      <td>CXCL8</td>\n",
       "      <td>Upregulated</td>\n",
       "      <td>hsa:3576</td>\n",
       "      <td>path:hsa05219</td>\n",
       "    </tr>\n",
       "    <tr>\n",
       "      <th>122</th>\n",
       "      <td>2</td>\n",
       "      <td>CXCL8</td>\n",
       "      <td>Upregulated</td>\n",
       "      <td>hsa:3576</td>\n",
       "      <td>path:hsa05323</td>\n",
       "    </tr>\n",
       "    <tr>\n",
       "      <th>123</th>\n",
       "      <td>2</td>\n",
       "      <td>CXCL8</td>\n",
       "      <td>Upregulated</td>\n",
       "      <td>hsa:3576</td>\n",
       "      <td>path:hsa05417</td>\n",
       "    </tr>\n",
       "  </tbody>\n",
       "</table>\n",
       "<p>124 rows × 5 columns</p>\n",
       "</div>"
      ],
      "text/plain": [
       "     cluster   gene   regulation kegg_gene_id kegg_pathway_id\n",
       "0          0  PRSS2  Upregulated     hsa:5645   path:hsa04080\n",
       "1          0  PRSS2  Upregulated     hsa:5645   path:hsa04972\n",
       "2          0  PRSS2  Upregulated     hsa:5645   path:hsa04974\n",
       "3          0  PRSS2  Upregulated     hsa:5645   path:hsa05164\n",
       "4          0  PRSS1  Upregulated     hsa:5644   path:hsa04080\n",
       "..       ...    ...          ...          ...             ...\n",
       "119        2  CXCL8  Upregulated     hsa:3576   path:hsa05200\n",
       "120        2  CXCL8  Upregulated     hsa:3576   path:hsa05202\n",
       "121        2  CXCL8  Upregulated     hsa:3576   path:hsa05219\n",
       "122        2  CXCL8  Upregulated     hsa:3576   path:hsa05323\n",
       "123        2  CXCL8  Upregulated     hsa:3576   path:hsa05417\n",
       "\n",
       "[124 rows x 5 columns]"
      ]
     },
     "execution_count": 12,
     "metadata": {},
     "output_type": "execute_result"
    }
   ],
   "source": [
    "joined"
   ]
  },
  {
   "cell_type": "markdown",
   "id": "782e0835-f8f1-463b-951c-0ecbccbb62e2",
   "metadata": {},
   "source": [
    "Now, how many pathways were upregulated?"
   ]
  },
  {
   "cell_type": "code",
   "execution_count": 13,
   "id": "8ffd2882-df80-45a9-baf2-fd04621f005c",
   "metadata": {},
   "outputs": [
    {
     "data": {
      "text/plain": [
       "92"
      ]
     },
     "execution_count": 13,
     "metadata": {},
     "output_type": "execute_result"
    }
   ],
   "source": [
    "len(set(joined.kegg_pathway_id))"
   ]
  },
  {
   "cell_type": "markdown",
   "id": "d7cec128-8626-4ffe-86ff-e25db0f4c7dd",
   "metadata": {},
   "source": [
    "We will work with the top 3 most upregulated pathways."
   ]
  },
  {
   "cell_type": "code",
   "execution_count": 14,
   "id": "30fc3988-43fb-4c55-9032-5fefae3c34cf",
   "metadata": {},
   "outputs": [
    {
     "data": {
      "text/html": [
       "<div>\n",
       "<style scoped>\n",
       "    .dataframe tbody tr th:only-of-type {\n",
       "        vertical-align: middle;\n",
       "    }\n",
       "\n",
       "    .dataframe tbody tr th {\n",
       "        vertical-align: top;\n",
       "    }\n",
       "\n",
       "    .dataframe thead th {\n",
       "        text-align: right;\n",
       "    }\n",
       "</style>\n",
       "<table border=\"1\" class=\"dataframe\">\n",
       "  <thead>\n",
       "    <tr style=\"text-align: right;\">\n",
       "      <th></th>\n",
       "      <th></th>\n",
       "      <th>gene</th>\n",
       "      <th>regulation</th>\n",
       "      <th>kegg_gene_id</th>\n",
       "    </tr>\n",
       "    <tr>\n",
       "      <th>cluster</th>\n",
       "      <th>kegg_pathway_id</th>\n",
       "      <th></th>\n",
       "      <th></th>\n",
       "      <th></th>\n",
       "    </tr>\n",
       "  </thead>\n",
       "  <tbody>\n",
       "    <tr>\n",
       "      <th rowspan=\"5\" valign=\"top\">2</th>\n",
       "      <th>path:hsa04060</th>\n",
       "      <td>1</td>\n",
       "      <td>1</td>\n",
       "      <td>1</td>\n",
       "    </tr>\n",
       "    <tr>\n",
       "      <th>path:hsa04061</th>\n",
       "      <td>1</td>\n",
       "      <td>1</td>\n",
       "      <td>1</td>\n",
       "    </tr>\n",
       "    <tr>\n",
       "      <th>path:hsa04062</th>\n",
       "      <td>1</td>\n",
       "      <td>1</td>\n",
       "      <td>1</td>\n",
       "    </tr>\n",
       "    <tr>\n",
       "      <th>path:hsa04064</th>\n",
       "      <td>1</td>\n",
       "      <td>1</td>\n",
       "      <td>1</td>\n",
       "    </tr>\n",
       "    <tr>\n",
       "      <th>path:hsa04072</th>\n",
       "      <td>1</td>\n",
       "      <td>1</td>\n",
       "      <td>1</td>\n",
       "    </tr>\n",
       "    <tr>\n",
       "      <th>...</th>\n",
       "      <th>...</th>\n",
       "      <td>...</td>\n",
       "      <td>...</td>\n",
       "      <td>...</td>\n",
       "    </tr>\n",
       "    <tr>\n",
       "      <th rowspan=\"5\" valign=\"top\">0</th>\n",
       "      <th>path:hsa05204</th>\n",
       "      <td>1</td>\n",
       "      <td>1</td>\n",
       "      <td>1</td>\n",
       "    </tr>\n",
       "    <tr>\n",
       "      <th>path:hsa05207</th>\n",
       "      <td>1</td>\n",
       "      <td>1</td>\n",
       "      <td>1</td>\n",
       "    </tr>\n",
       "    <tr>\n",
       "      <th>path:hsa05208</th>\n",
       "      <td>1</td>\n",
       "      <td>1</td>\n",
       "      <td>1</td>\n",
       "    </tr>\n",
       "    <tr>\n",
       "      <th>path:hsa05225</th>\n",
       "      <td>1</td>\n",
       "      <td>1</td>\n",
       "      <td>1</td>\n",
       "    </tr>\n",
       "    <tr>\n",
       "      <th>path:hsa05418</th>\n",
       "      <td>1</td>\n",
       "      <td>1</td>\n",
       "      <td>1</td>\n",
       "    </tr>\n",
       "  </tbody>\n",
       "</table>\n",
       "<p>101 rows × 3 columns</p>\n",
       "</div>"
      ],
      "text/plain": [
       "                         gene  regulation  kegg_gene_id\n",
       "cluster kegg_pathway_id                                \n",
       "2       path:hsa04060       1           1             1\n",
       "        path:hsa04061       1           1             1\n",
       "        path:hsa04062       1           1             1\n",
       "        path:hsa04064       1           1             1\n",
       "        path:hsa04072       1           1             1\n",
       "...                       ...         ...           ...\n",
       "0       path:hsa05204       1           1             1\n",
       "        path:hsa05207       1           1             1\n",
       "        path:hsa05208       1           1             1\n",
       "        path:hsa05225       1           1             1\n",
       "        path:hsa05418       1           1             1\n",
       "\n",
       "[101 rows x 3 columns]"
      ]
     },
     "execution_count": 14,
     "metadata": {},
     "output_type": "execute_result"
    }
   ],
   "source": [
    "# Top 3 most upregulated pathways.\n",
    "top_three_most_upregulated_pathways = joined.groupby(by = ['cluster', 'kegg_pathway_id']).count()\n",
    "top_three_most_upregulated_pathways = top_three_most_upregulated_pathways.sort_values(by = ['cluster', 'gene'], ascending = False)\n",
    "top_three_most_upregulated_pathways"
   ]
  },
  {
   "cell_type": "markdown",
   "id": "07f32837-4150-425c-912c-b4064a4c5a05",
   "metadata": {},
   "source": [
    "See which pathways are shared between the 3 different cell types."
   ]
  },
  {
   "cell_type": "code",
   "execution_count": 15,
   "id": "1f29db8c-4569-433d-8c85-06bc853aaf64",
   "metadata": {},
   "outputs": [],
   "source": [
    "# Three different cell types.\n",
    "cluster_info = {\n",
    "    0: [],\n",
    "    1: [],\n",
    "    2: []\n",
    "}\n",
    "\n",
    "for i in top_three_most_upregulated_pathways.index:\n",
    "    cluster_info[i[0]].append(i[1])"
   ]
  },
  {
   "cell_type": "code",
   "execution_count": 16,
   "id": "a186cc3e-fdbc-4980-b516-534685adf28c",
   "metadata": {},
   "outputs": [
    {
     "name": "stdout",
     "output_type": "stream",
     "text": [
      "{'path:hsa04080', 'path:hsa04014', 'path:hsa01100'}\n",
      "{'path:hsa05164', 'path:hsa05132', 'path:hsa05200', 'path:hsa04657'}\n",
      "{'path:hsa04932', 'path:hsa04072'}\n",
      "set()\n"
     ]
    }
   ],
   "source": [
    "# Mature-Immature.\n",
    "mature_immature = set(cluster_info[1]).intersection(set(cluster_info[0]))\n",
    "print(mature_immature)\n",
    "\n",
    "# Maturing-Immature.\n",
    "maturing_immature = set(cluster_info[2]).intersection(set(cluster_info[0]))\n",
    "print(maturing_immature)\n",
    "\n",
    "# Maturing-Mature.\n",
    "maturing_mature = set(cluster_info[2]).intersection(set(cluster_info[1]))\n",
    "print(maturing_mature)\n",
    "\n",
    "# All 3.\n",
    "print(mature_immature.intersection(maturing_immature.intersection(maturing_mature)))"
   ]
  },
  {
   "cell_type": "markdown",
   "id": "73e552b0-ab0b-4610-a6ce-1b9946b662ec",
   "metadata": {},
   "source": [
    "# 3D RNA Velocity"
   ]
  },
  {
   "cell_type": "markdown",
   "id": "8edfff00-5bf5-4826-b1af-ca58317199b0",
   "metadata": {},
   "source": [
    "We will make a 3D UMAP using the coordinates from the 3D RNA velocity plot."
   ]
  },
  {
   "cell_type": "code",
   "execution_count": 39,
   "id": "49ba38a4-6b47-4bca-bd5f-a7cff67cf969",
   "metadata": {},
   "outputs": [],
   "source": [
    "# Load the file.\n",
    "umap_coordinates_and_clusters = pd.read_csv(\n",
    "    'from_mayur/umap_coordinates_clusters2.csv',\n",
    "    sep = ','\n",
    ")"
   ]
  },
  {
   "cell_type": "code",
   "execution_count": 40,
   "id": "c698f751-7609-4066-9eef-4b656e33dc9c",
   "metadata": {},
   "outputs": [
    {
     "data": {
      "text/html": [
       "<div>\n",
       "<style scoped>\n",
       "    .dataframe tbody tr th:only-of-type {\n",
       "        vertical-align: middle;\n",
       "    }\n",
       "\n",
       "    .dataframe tbody tr th {\n",
       "        vertical-align: top;\n",
       "    }\n",
       "\n",
       "    .dataframe thead th {\n",
       "        text-align: right;\n",
       "    }\n",
       "</style>\n",
       "<table border=\"1\" class=\"dataframe\">\n",
       "  <thead>\n",
       "    <tr style=\"text-align: right;\">\n",
       "      <th></th>\n",
       "      <th>UMAP_1</th>\n",
       "      <th>UMAP_2</th>\n",
       "      <th>UMAP_3</th>\n",
       "      <th>Cluster</th>\n",
       "    </tr>\n",
       "  </thead>\n",
       "  <tbody>\n",
       "    <tr>\n",
       "      <th>0</th>\n",
       "      <td>-8.706590</td>\n",
       "      <td>10.838828</td>\n",
       "      <td>20.172602</td>\n",
       "      <td>1</td>\n",
       "    </tr>\n",
       "    <tr>\n",
       "      <th>1</th>\n",
       "      <td>-8.385098</td>\n",
       "      <td>10.157232</td>\n",
       "      <td>19.880642</td>\n",
       "      <td>1</td>\n",
       "    </tr>\n",
       "    <tr>\n",
       "      <th>2</th>\n",
       "      <td>-10.994657</td>\n",
       "      <td>12.135944</td>\n",
       "      <td>19.335888</td>\n",
       "      <td>0</td>\n",
       "    </tr>\n",
       "    <tr>\n",
       "      <th>3</th>\n",
       "      <td>-12.827366</td>\n",
       "      <td>14.101365</td>\n",
       "      <td>18.850868</td>\n",
       "      <td>0</td>\n",
       "    </tr>\n",
       "    <tr>\n",
       "      <th>4</th>\n",
       "      <td>-8.338942</td>\n",
       "      <td>10.657480</td>\n",
       "      <td>20.569912</td>\n",
       "      <td>1</td>\n",
       "    </tr>\n",
       "    <tr>\n",
       "      <th>...</th>\n",
       "      <td>...</td>\n",
       "      <td>...</td>\n",
       "      <td>...</td>\n",
       "      <td>...</td>\n",
       "    </tr>\n",
       "    <tr>\n",
       "      <th>174</th>\n",
       "      <td>-12.352021</td>\n",
       "      <td>15.842627</td>\n",
       "      <td>16.301931</td>\n",
       "      <td>0</td>\n",
       "    </tr>\n",
       "    <tr>\n",
       "      <th>175</th>\n",
       "      <td>-12.926116</td>\n",
       "      <td>16.575638</td>\n",
       "      <td>18.049465</td>\n",
       "      <td>0</td>\n",
       "    </tr>\n",
       "    <tr>\n",
       "      <th>176</th>\n",
       "      <td>-13.097774</td>\n",
       "      <td>15.900353</td>\n",
       "      <td>18.460516</td>\n",
       "      <td>0</td>\n",
       "    </tr>\n",
       "    <tr>\n",
       "      <th>177</th>\n",
       "      <td>-11.015943</td>\n",
       "      <td>12.402901</td>\n",
       "      <td>17.834612</td>\n",
       "      <td>0</td>\n",
       "    </tr>\n",
       "    <tr>\n",
       "      <th>178</th>\n",
       "      <td>-9.192891</td>\n",
       "      <td>11.085810</td>\n",
       "      <td>19.522535</td>\n",
       "      <td>1</td>\n",
       "    </tr>\n",
       "  </tbody>\n",
       "</table>\n",
       "<p>179 rows × 4 columns</p>\n",
       "</div>"
      ],
      "text/plain": [
       "        UMAP_1     UMAP_2     UMAP_3  Cluster\n",
       "0    -8.706590  10.838828  20.172602        1\n",
       "1    -8.385098  10.157232  19.880642        1\n",
       "2   -10.994657  12.135944  19.335888        0\n",
       "3   -12.827366  14.101365  18.850868        0\n",
       "4    -8.338942  10.657480  20.569912        1\n",
       "..         ...        ...        ...      ...\n",
       "174 -12.352021  15.842627  16.301931        0\n",
       "175 -12.926116  16.575638  18.049465        0\n",
       "176 -13.097774  15.900353  18.460516        0\n",
       "177 -11.015943  12.402901  17.834612        0\n",
       "178  -9.192891  11.085810  19.522535        1\n",
       "\n",
       "[179 rows x 4 columns]"
      ]
     },
     "execution_count": 40,
     "metadata": {},
     "output_type": "execute_result"
    }
   ],
   "source": [
    "umap_coordinates_and_clusters"
   ]
  },
  {
   "cell_type": "code",
   "execution_count": 41,
   "id": "346d304e-63db-4bb4-9457-a731248e9d48",
   "metadata": {},
   "outputs": [
    {
     "data": {
      "application/vnd.plotly.v1+json": {
       "config": {
        "plotlyServerURL": "https://plot.ly"
       },
       "data": [
        {
         "hovertemplate": "UMAP_1=%{x}<br>UMAP_2=%{y}<br>UMAP_3=%{z}<br>Cluster=%{marker.color}<extra></extra>",
         "legendgroup": "",
         "marker": {
          "color": [
           1,
           1,
           0,
           0,
           1,
           1,
           0,
           0,
           0,
           0,
           0,
           0,
           0,
           0,
           0,
           1,
           0,
           1,
           1,
           0,
           1,
           0,
           0,
           0,
           1,
           1,
           0,
           1,
           0,
           0,
           0,
           1,
           0,
           0,
           0,
           1,
           0,
           1,
           0,
           0,
           0,
           0,
           0,
           0,
           0,
           0,
           0,
           0,
           0,
           0,
           0,
           1,
           0,
           1,
           0,
           0,
           0,
           0,
           0,
           0,
           1,
           0,
           0,
           1,
           0,
           0,
           0,
           1,
           0,
           1,
           0,
           1,
           0,
           1,
           0,
           1,
           0,
           0,
           0,
           1,
           1,
           1,
           1,
           2,
           1,
           0,
           1,
           0,
           1,
           0,
           1,
           2,
           0,
           1,
           1,
           1,
           0,
           1,
           1,
           1,
           1,
           1,
           1,
           0,
           1,
           1,
           0,
           1,
           1,
           2,
           1,
           1,
           0,
           1,
           1,
           0,
           1,
           1,
           0,
           1,
           0,
           1,
           2,
           1,
           1,
           0,
           1,
           1,
           1,
           0,
           0,
           0,
           1,
           1,
           1,
           0,
           1,
           1,
           1,
           1,
           0,
           1,
           0,
           0,
           0,
           0,
           1,
           0,
           0,
           0,
           0,
           1,
           0,
           1,
           1,
           0,
           1,
           0,
           1,
           1,
           1,
           1,
           1,
           1,
           1,
           0,
           0,
           0,
           0,
           1,
           1,
           0,
           0,
           0,
           0,
           0,
           0,
           0,
           1
          ],
          "coloraxis": "coloraxis",
          "symbol": "circle"
         },
         "mode": "markers",
         "name": "",
         "scene": "scene",
         "showlegend": false,
         "type": "scatter3d",
         "x": [
          -8.70659,
          -8.385098,
          -10.994657,
          -12.827366,
          -8.338942,
          -9.166602,
          -14.1857605,
          -14.288954,
          -13.019667,
          -14.379957,
          -12.851828,
          -13.300767,
          -14.629727,
          -11.353004,
          -13.608473,
          -8.964898,
          -13.178285,
          -9.176907,
          -7.4197974,
          -12.598175,
          -9.361956,
          -11.768797,
          -12.271893,
          -13.912229,
          -8.685851,
          -7.9337626,
          -14.424511,
          -7.854728,
          -14.265137,
          -12.121581,
          -11.702352,
          -8.599542,
          -13.270259,
          -11.461669,
          -12.567421,
          -8.891474,
          -11.678427,
          -7.8834486,
          -13.133933,
          -13.689099,
          -13.905363,
          -13.6220665,
          -13.759396,
          -11.929593,
          -14.222125,
          -12.66827,
          -14.27631,
          -11.969208,
          -14.058936,
          -14.3297,
          -10.6254425,
          -8.896501,
          -13.706511,
          -9.522654,
          -13.187907,
          -12.633886,
          -13.826833,
          -11.3243685,
          -10.460548,
          -12.166875,
          -9.752247,
          -10.905396,
          -10.449393,
          -9.228863,
          -12.8629,
          -12.510227,
          -14.176377,
          -8.30087,
          -13.233881,
          -9.590434,
          -13.117164,
          -8.355772,
          -13.209128,
          -8.0801935,
          -14.075494,
          -9.076794,
          -10.880152,
          -12.784448,
          -12.883123,
          -7.6088276,
          -10.121434,
          -10.138157,
          -7.727833,
          -10.505473,
          -8.873432,
          -12.069153,
          -10.31155,
          -11.045613,
          -7.2207537,
          -12.451155,
          -8.884623,
          -10.979033,
          -13.450495,
          -9.553054,
          -9.057186,
          -8.3186,
          -12.389643,
          -8.997505,
          -9.567068,
          -7.6692796,
          -10.360472,
          -8.534021,
          -8.093336,
          -13.121558,
          -10.008904,
          -10.595599,
          -11.6420355,
          -11.098546,
          -10.727823,
          -10.603705,
          -7.238394,
          -9.724405,
          -12.908751,
          -10.451512,
          -8.419782,
          -11.963795,
          -8.802778,
          -9.239193,
          -12.40947,
          -7.7104254,
          -11.513608,
          -11.524453,
          -11.477093,
          -7.496231,
          -8.879805,
          -11.924507,
          -8.250287,
          -8.670586,
          -10.056866,
          -13.419349,
          -11.721987,
          -11.447742,
          -9.809192,
          -8.297604,
          -10.34328,
          -13.395788,
          -7.917844,
          -8.554996,
          -8.0749035,
          -9.662219,
          -12.278099,
          -7.5998774,
          -13.640342,
          -13.237085,
          -12.419756,
          -12.912468,
          -7.5737343,
          -12.033741,
          -12.830339,
          -13.959719,
          -12.528081,
          -8.821654,
          -14.184619,
          -8.171914,
          -8.78551,
          -12.862005,
          -9.155558,
          -12.187794,
          -10.107294,
          -7.445251,
          -8.384049,
          -8.245955,
          -8.624535,
          -8.311607,
          -8.606229,
          -12.14118,
          -12.958587,
          -12.752535,
          -13.847917,
          -8.447171,
          -9.823241,
          -12.205538,
          -12.530409,
          -12.873357,
          -12.352021,
          -12.926116,
          -13.097774,
          -11.015943,
          -9.192891
         ],
         "y": [
          10.838828,
          10.157232,
          12.135944,
          14.101365,
          10.65748,
          10.422293,
          15.909178,
          16.222057,
          13.416742,
          16.149057,
          13.520847,
          13.928448,
          15.990077,
          12.609996,
          16.360807,
          10.697436,
          14.369344,
          9.531397,
          9.253028,
          13.868993,
          10.967809,
          13.413617,
          13.676649,
          15.616937,
          9.906218,
          9.605036,
          15.462991,
          8.897244,
          15.768254,
          13.204786,
          12.745054,
          10.744093,
          15.329692,
          12.938051,
          13.883452,
          10.973586,
          13.197475,
          10.5105295,
          13.203859,
          15.722364,
          15.787847,
          14.806615,
          15.97832,
          12.813271,
          15.310866,
          14.747203,
          15.548805,
          13.643495,
          14.592131,
          15.250739,
          12.322993,
          9.767768,
          14.495096,
          10.473645,
          13.113059,
          13.462946,
          15.839543,
          13.265707,
          12.351382,
          12.8493185,
          10.896143,
          11.934726,
          11.626194,
          9.938976,
          13.164668,
          12.763488,
          14.985211,
          10.436596,
          13.598838,
          12.299887,
          15.718104,
          9.064485,
          14.79469,
          9.338826,
          14.755124,
          9.730393,
          13.561731,
          14.722894,
          15.188444,
          9.57762,
          11.182341,
          10.56318,
          10.046953,
          13.6134205,
          10.29674,
          12.890952,
          12.766212,
          13.922281,
          9.572552,
          14.306242,
          10.028891,
          14.065711,
          14.335361,
          12.100718,
          10.410784,
          10.529895,
          15.222737,
          10.947483,
          10.818042,
          8.8793545,
          10.913079,
          9.480775,
          9.36514,
          15.820652,
          10.383457,
          11.544584,
          14.186982,
          13.406337,
          11.452644,
          13.766299,
          9.0701475,
          11.08702,
          15.994041,
          12.500291,
          10.109282,
          14.78213,
          8.940549,
          11.852076,
          14.767968,
          10.08271,
          14.558479,
          12.444375,
          14.204379,
          9.334856,
          9.409383,
          14.494032,
          8.721885,
          10.317526,
          10.551475,
          14.919957,
          14.0833025,
          13.779243,
          12.74134,
          10.105588,
          13.058103,
          15.368392,
          9.739242,
          11.574663,
          10.770734,
          10.039128,
          16.340757,
          10.339417,
          16.360806,
          16.62415,
          16.575914,
          16.697136,
          10.320597,
          15.700141,
          15.865645,
          14.84638,
          16.2896,
          12.024722,
          16.33562,
          11.72427,
          11.934809,
          13.060186,
          11.583085,
          15.457825,
          11.507476,
          9.852985,
          11.700938,
          11.264781,
          9.3733,
          12.02757,
          8.960052,
          16.105831,
          15.798356,
          16.605103,
          16.138351,
          9.338079,
          11.1637125,
          15.435303,
          16.520733,
          16.242813,
          15.842627,
          16.575638,
          15.9003525,
          12.402901,
          11.08581
         ],
         "z": [
          20.172602,
          19.880642,
          19.335888,
          18.850868,
          20.569912,
          20.517046,
          18.523905,
          17.279984,
          18.61728,
          17.902462,
          18.28434,
          18.80282,
          17.753311,
          18.269562,
          17.873512,
          20.057064,
          18.18712,
          19.753225,
          19.788935,
          19.289665,
          20.547937,
          18.904676,
          18.641298,
          18.138868,
          20.431831,
          20.246948,
          18.610695,
          19.759388,
          17.515837,
          17.880331,
          19.24974,
          20.576162,
          18.233652,
          19.458073,
          18.387587,
          20.82285,
          19.148546,
          19.669367,
          18.805656,
          18.201202,
          18.366816,
          18.954485,
          17.553226,
          18.255634,
          18.285456,
          18.420406,
          17.402279,
          19.307432,
          18.656921,
          17.256872,
          19.474186,
          20.224213,
          18.379448,
          20.599936,
          19.363121,
          19.267628,
          18.746782,
          18.512333,
          18.266068,
          18.639551,
          19.91066,
          18.249273,
          20.048151,
          20.432236,
          18.50866,
          19.401787,
          18.544022,
          20.497393,
          18.93306,
          18.700125,
          17.630613,
          19.837059,
          17.353054,
          19.360176,
          17.185669,
          18.336615,
          17.06274,
          17.117907,
          16.440226,
          20.10122,
          18.051737,
          18.55458,
          19.970022,
          17.677898,
          19.513483,
          17.608643,
          17.852545,
          17.251635,
          19.639725,
          16.951693,
          17.83126,
          17.746246,
          19.056704,
          18.185863,
          18.012733,
          18.336031,
          17.228329,
          17.898127,
          18.531084,
          19.367052,
          18.587877,
          18.579927,
          18.460806,
          17.058664,
          19.09634,
          18.03579,
          16.817665,
          16.64686,
          18.524616,
          17.841644,
          19.433805,
          18.260624,
          18.115004,
          17.31342,
          18.727835,
          17.526922,
          18.876657,
          18.40573,
          17.595598,
          18.440313,
          17.239813,
          17.496988,
          17.864527,
          18.770887,
          19.1631,
          17.776297,
          19.517456,
          17.715286,
          19.09154,
          17.697697,
          16.826086,
          17.400883,
          18.281382,
          18.342676,
          17.568798,
          17.382944,
          18.7669,
          20.089434,
          19.953451,
          19.834959,
          17.09955,
          19.429018,
          18.205997,
          17.246542,
          17.446295,
          17.398535,
          19.059423,
          17.895157,
          16.483162,
          18.519646,
          17.840513,
          19.271662,
          17.960054,
          19.135757,
          19.66037,
          19.169298,
          19.94493,
          16.713274,
          19.63059,
          19.413313,
          19.183813,
          19.598814,
          18.614424,
          19.64553,
          19.24159,
          17.5213,
          16.257078,
          16.543488,
          16.859041,
          19.48056,
          19.197924,
          18.249006,
          16.77175,
          16.642239,
          16.301931,
          18.049465,
          18.460516,
          17.834612,
          19.522535
         ]
        }
       ],
       "layout": {
        "autosize": true,
        "coloraxis": {
         "cmax": 30,
         "cmin": 0,
         "colorbar": {
          "title": {
           "text": "Cluster"
          }
         },
         "colorscale": [
          [
           0,
           "#0d0887"
          ],
          [
           0.1111111111111111,
           "#46039f"
          ],
          [
           0.2222222222222222,
           "#7201a8"
          ],
          [
           0.3333333333333333,
           "#9c179e"
          ],
          [
           0.4444444444444444,
           "#bd3786"
          ],
          [
           0.5555555555555556,
           "#d8576b"
          ],
          [
           0.6666666666666666,
           "#ed7953"
          ],
          [
           0.7777777777777778,
           "#fb9f3a"
          ],
          [
           0.8888888888888888,
           "#fdca26"
          ],
          [
           1,
           "#f0f921"
          ]
         ]
        },
        "legend": {
         "tracegroupgap": 0
        },
        "margin": {
         "t": 60
        },
        "scene": {
         "aspectmode": "auto",
         "aspectratio": {
          "x": 1.1466190676714667,
          "y": 1.2342566906086614,
          "z": 0.7066027939175441
         },
         "domain": {
          "x": [
           0,
           1
          ],
          "y": [
           0,
           1
          ]
         },
         "xaxis": {
          "title": {
           "text": "UMAP_1"
          },
          "type": "linear"
         },
         "yaxis": {
          "title": {
           "text": "UMAP_2"
          },
          "type": "linear"
         },
         "zaxis": {
          "title": {
           "text": "UMAP_3"
          },
          "type": "linear"
         }
        },
        "template": {
         "data": {
          "bar": [
           {
            "error_x": {
             "color": "#2a3f5f"
            },
            "error_y": {
             "color": "#2a3f5f"
            },
            "marker": {
             "line": {
              "color": "#E5ECF6",
              "width": 0.5
             },
             "pattern": {
              "fillmode": "overlay",
              "size": 10,
              "solidity": 0.2
             }
            },
            "type": "bar"
           }
          ],
          "barpolar": [
           {
            "marker": {
             "line": {
              "color": "#E5ECF6",
              "width": 0.5
             },
             "pattern": {
              "fillmode": "overlay",
              "size": 10,
              "solidity": 0.2
             }
            },
            "type": "barpolar"
           }
          ],
          "carpet": [
           {
            "aaxis": {
             "endlinecolor": "#2a3f5f",
             "gridcolor": "white",
             "linecolor": "white",
             "minorgridcolor": "white",
             "startlinecolor": "#2a3f5f"
            },
            "baxis": {
             "endlinecolor": "#2a3f5f",
             "gridcolor": "white",
             "linecolor": "white",
             "minorgridcolor": "white",
             "startlinecolor": "#2a3f5f"
            },
            "type": "carpet"
           }
          ],
          "choropleth": [
           {
            "colorbar": {
             "outlinewidth": 0,
             "ticks": ""
            },
            "type": "choropleth"
           }
          ],
          "contour": [
           {
            "colorbar": {
             "outlinewidth": 0,
             "ticks": ""
            },
            "colorscale": [
             [
              0,
              "#0d0887"
             ],
             [
              0.1111111111111111,
              "#46039f"
             ],
             [
              0.2222222222222222,
              "#7201a8"
             ],
             [
              0.3333333333333333,
              "#9c179e"
             ],
             [
              0.4444444444444444,
              "#bd3786"
             ],
             [
              0.5555555555555556,
              "#d8576b"
             ],
             [
              0.6666666666666666,
              "#ed7953"
             ],
             [
              0.7777777777777778,
              "#fb9f3a"
             ],
             [
              0.8888888888888888,
              "#fdca26"
             ],
             [
              1,
              "#f0f921"
             ]
            ],
            "type": "contour"
           }
          ],
          "contourcarpet": [
           {
            "colorbar": {
             "outlinewidth": 0,
             "ticks": ""
            },
            "type": "contourcarpet"
           }
          ],
          "heatmap": [
           {
            "colorbar": {
             "outlinewidth": 0,
             "ticks": ""
            },
            "colorscale": [
             [
              0,
              "#0d0887"
             ],
             [
              0.1111111111111111,
              "#46039f"
             ],
             [
              0.2222222222222222,
              "#7201a8"
             ],
             [
              0.3333333333333333,
              "#9c179e"
             ],
             [
              0.4444444444444444,
              "#bd3786"
             ],
             [
              0.5555555555555556,
              "#d8576b"
             ],
             [
              0.6666666666666666,
              "#ed7953"
             ],
             [
              0.7777777777777778,
              "#fb9f3a"
             ],
             [
              0.8888888888888888,
              "#fdca26"
             ],
             [
              1,
              "#f0f921"
             ]
            ],
            "type": "heatmap"
           }
          ],
          "heatmapgl": [
           {
            "colorbar": {
             "outlinewidth": 0,
             "ticks": ""
            },
            "colorscale": [
             [
              0,
              "#0d0887"
             ],
             [
              0.1111111111111111,
              "#46039f"
             ],
             [
              0.2222222222222222,
              "#7201a8"
             ],
             [
              0.3333333333333333,
              "#9c179e"
             ],
             [
              0.4444444444444444,
              "#bd3786"
             ],
             [
              0.5555555555555556,
              "#d8576b"
             ],
             [
              0.6666666666666666,
              "#ed7953"
             ],
             [
              0.7777777777777778,
              "#fb9f3a"
             ],
             [
              0.8888888888888888,
              "#fdca26"
             ],
             [
              1,
              "#f0f921"
             ]
            ],
            "type": "heatmapgl"
           }
          ],
          "histogram": [
           {
            "marker": {
             "pattern": {
              "fillmode": "overlay",
              "size": 10,
              "solidity": 0.2
             }
            },
            "type": "histogram"
           }
          ],
          "histogram2d": [
           {
            "colorbar": {
             "outlinewidth": 0,
             "ticks": ""
            },
            "colorscale": [
             [
              0,
              "#0d0887"
             ],
             [
              0.1111111111111111,
              "#46039f"
             ],
             [
              0.2222222222222222,
              "#7201a8"
             ],
             [
              0.3333333333333333,
              "#9c179e"
             ],
             [
              0.4444444444444444,
              "#bd3786"
             ],
             [
              0.5555555555555556,
              "#d8576b"
             ],
             [
              0.6666666666666666,
              "#ed7953"
             ],
             [
              0.7777777777777778,
              "#fb9f3a"
             ],
             [
              0.8888888888888888,
              "#fdca26"
             ],
             [
              1,
              "#f0f921"
             ]
            ],
            "type": "histogram2d"
           }
          ],
          "histogram2dcontour": [
           {
            "colorbar": {
             "outlinewidth": 0,
             "ticks": ""
            },
            "colorscale": [
             [
              0,
              "#0d0887"
             ],
             [
              0.1111111111111111,
              "#46039f"
             ],
             [
              0.2222222222222222,
              "#7201a8"
             ],
             [
              0.3333333333333333,
              "#9c179e"
             ],
             [
              0.4444444444444444,
              "#bd3786"
             ],
             [
              0.5555555555555556,
              "#d8576b"
             ],
             [
              0.6666666666666666,
              "#ed7953"
             ],
             [
              0.7777777777777778,
              "#fb9f3a"
             ],
             [
              0.8888888888888888,
              "#fdca26"
             ],
             [
              1,
              "#f0f921"
             ]
            ],
            "type": "histogram2dcontour"
           }
          ],
          "mesh3d": [
           {
            "colorbar": {
             "outlinewidth": 0,
             "ticks": ""
            },
            "type": "mesh3d"
           }
          ],
          "parcoords": [
           {
            "line": {
             "colorbar": {
              "outlinewidth": 0,
              "ticks": ""
             }
            },
            "type": "parcoords"
           }
          ],
          "pie": [
           {
            "automargin": true,
            "type": "pie"
           }
          ],
          "scatter": [
           {
            "fillpattern": {
             "fillmode": "overlay",
             "size": 10,
             "solidity": 0.2
            },
            "type": "scatter"
           }
          ],
          "scatter3d": [
           {
            "line": {
             "colorbar": {
              "outlinewidth": 0,
              "ticks": ""
             }
            },
            "marker": {
             "colorbar": {
              "outlinewidth": 0,
              "ticks": ""
             }
            },
            "type": "scatter3d"
           }
          ],
          "scattercarpet": [
           {
            "marker": {
             "colorbar": {
              "outlinewidth": 0,
              "ticks": ""
             }
            },
            "type": "scattercarpet"
           }
          ],
          "scattergeo": [
           {
            "marker": {
             "colorbar": {
              "outlinewidth": 0,
              "ticks": ""
             }
            },
            "type": "scattergeo"
           }
          ],
          "scattergl": [
           {
            "marker": {
             "colorbar": {
              "outlinewidth": 0,
              "ticks": ""
             }
            },
            "type": "scattergl"
           }
          ],
          "scattermapbox": [
           {
            "marker": {
             "colorbar": {
              "outlinewidth": 0,
              "ticks": ""
             }
            },
            "type": "scattermapbox"
           }
          ],
          "scatterpolar": [
           {
            "marker": {
             "colorbar": {
              "outlinewidth": 0,
              "ticks": ""
             }
            },
            "type": "scatterpolar"
           }
          ],
          "scatterpolargl": [
           {
            "marker": {
             "colorbar": {
              "outlinewidth": 0,
              "ticks": ""
             }
            },
            "type": "scatterpolargl"
           }
          ],
          "scatterternary": [
           {
            "marker": {
             "colorbar": {
              "outlinewidth": 0,
              "ticks": ""
             }
            },
            "type": "scatterternary"
           }
          ],
          "surface": [
           {
            "colorbar": {
             "outlinewidth": 0,
             "ticks": ""
            },
            "colorscale": [
             [
              0,
              "#0d0887"
             ],
             [
              0.1111111111111111,
              "#46039f"
             ],
             [
              0.2222222222222222,
              "#7201a8"
             ],
             [
              0.3333333333333333,
              "#9c179e"
             ],
             [
              0.4444444444444444,
              "#bd3786"
             ],
             [
              0.5555555555555556,
              "#d8576b"
             ],
             [
              0.6666666666666666,
              "#ed7953"
             ],
             [
              0.7777777777777778,
              "#fb9f3a"
             ],
             [
              0.8888888888888888,
              "#fdca26"
             ],
             [
              1,
              "#f0f921"
             ]
            ],
            "type": "surface"
           }
          ],
          "table": [
           {
            "cells": {
             "fill": {
              "color": "#EBF0F8"
             },
             "line": {
              "color": "white"
             }
            },
            "header": {
             "fill": {
              "color": "#C8D4E3"
             },
             "line": {
              "color": "white"
             }
            },
            "type": "table"
           }
          ]
         },
         "layout": {
          "annotationdefaults": {
           "arrowcolor": "#2a3f5f",
           "arrowhead": 0,
           "arrowwidth": 1
          },
          "autotypenumbers": "strict",
          "coloraxis": {
           "colorbar": {
            "outlinewidth": 0,
            "ticks": ""
           }
          },
          "colorscale": {
           "diverging": [
            [
             0,
             "#8e0152"
            ],
            [
             0.1,
             "#c51b7d"
            ],
            [
             0.2,
             "#de77ae"
            ],
            [
             0.3,
             "#f1b6da"
            ],
            [
             0.4,
             "#fde0ef"
            ],
            [
             0.5,
             "#f7f7f7"
            ],
            [
             0.6,
             "#e6f5d0"
            ],
            [
             0.7,
             "#b8e186"
            ],
            [
             0.8,
             "#7fbc41"
            ],
            [
             0.9,
             "#4d9221"
            ],
            [
             1,
             "#276419"
            ]
           ],
           "sequential": [
            [
             0,
             "#0d0887"
            ],
            [
             0.1111111111111111,
             "#46039f"
            ],
            [
             0.2222222222222222,
             "#7201a8"
            ],
            [
             0.3333333333333333,
             "#9c179e"
            ],
            [
             0.4444444444444444,
             "#bd3786"
            ],
            [
             0.5555555555555556,
             "#d8576b"
            ],
            [
             0.6666666666666666,
             "#ed7953"
            ],
            [
             0.7777777777777778,
             "#fb9f3a"
            ],
            [
             0.8888888888888888,
             "#fdca26"
            ],
            [
             1,
             "#f0f921"
            ]
           ],
           "sequentialminus": [
            [
             0,
             "#0d0887"
            ],
            [
             0.1111111111111111,
             "#46039f"
            ],
            [
             0.2222222222222222,
             "#7201a8"
            ],
            [
             0.3333333333333333,
             "#9c179e"
            ],
            [
             0.4444444444444444,
             "#bd3786"
            ],
            [
             0.5555555555555556,
             "#d8576b"
            ],
            [
             0.6666666666666666,
             "#ed7953"
            ],
            [
             0.7777777777777778,
             "#fb9f3a"
            ],
            [
             0.8888888888888888,
             "#fdca26"
            ],
            [
             1,
             "#f0f921"
            ]
           ]
          },
          "colorway": [
           "#636efa",
           "#EF553B",
           "#00cc96",
           "#ab63fa",
           "#FFA15A",
           "#19d3f3",
           "#FF6692",
           "#B6E880",
           "#FF97FF",
           "#FECB52"
          ],
          "font": {
           "color": "#2a3f5f"
          },
          "geo": {
           "bgcolor": "white",
           "lakecolor": "white",
           "landcolor": "#E5ECF6",
           "showlakes": true,
           "showland": true,
           "subunitcolor": "white"
          },
          "hoverlabel": {
           "align": "left"
          },
          "hovermode": "closest",
          "mapbox": {
           "style": "light"
          },
          "paper_bgcolor": "white",
          "plot_bgcolor": "#E5ECF6",
          "polar": {
           "angularaxis": {
            "gridcolor": "white",
            "linecolor": "white",
            "ticks": ""
           },
           "bgcolor": "#E5ECF6",
           "radialaxis": {
            "gridcolor": "white",
            "linecolor": "white",
            "ticks": ""
           }
          },
          "scene": {
           "xaxis": {
            "backgroundcolor": "#E5ECF6",
            "gridcolor": "white",
            "gridwidth": 2,
            "linecolor": "white",
            "showbackground": true,
            "ticks": "",
            "zerolinecolor": "white"
           },
           "yaxis": {
            "backgroundcolor": "#E5ECF6",
            "gridcolor": "white",
            "gridwidth": 2,
            "linecolor": "white",
            "showbackground": true,
            "ticks": "",
            "zerolinecolor": "white"
           },
           "zaxis": {
            "backgroundcolor": "#E5ECF6",
            "gridcolor": "white",
            "gridwidth": 2,
            "linecolor": "white",
            "showbackground": true,
            "ticks": "",
            "zerolinecolor": "white"
           }
          },
          "shapedefaults": {
           "line": {
            "color": "#2a3f5f"
           }
          },
          "ternary": {
           "aaxis": {
            "gridcolor": "white",
            "linecolor": "white",
            "ticks": ""
           },
           "baxis": {
            "gridcolor": "white",
            "linecolor": "white",
            "ticks": ""
           },
           "bgcolor": "#E5ECF6",
           "caxis": {
            "gridcolor": "white",
            "linecolor": "white",
            "ticks": ""
           }
          },
          "title": {
           "x": 0.05
          },
          "xaxis": {
           "automargin": true,
           "gridcolor": "white",
           "linecolor": "white",
           "ticks": "",
           "title": {
            "standoff": 15
           },
           "zerolinecolor": "white",
           "zerolinewidth": 2
          },
          "yaxis": {
           "automargin": true,
           "gridcolor": "white",
           "linecolor": "white",
           "ticks": "",
           "title": {
            "standoff": 15
           },
           "zerolinecolor": "white",
           "zerolinewidth": 2
          }
         }
        }
       }
      },
      "image/png": "[encoded data removed]",
      "text/html": [
       "<div>                            <div id=\"aa5d1469-35ca-49d0-befc-8d9faf1fa4db\" class=\"plotly-graph-div\" style=\"height:525px; width:100%;\"></div>            <script type=\"text/javascript\">                require([\"plotly\"], function(Plotly) {                    window.PLOTLYENV=window.PLOTLYENV || {};                                    if (document.getElementById(\"aa5d1469-35ca-49d0-befc-8d9faf1fa4db\")) {                    Plotly.newPlot(                        \"aa5d1469-35ca-49d0-befc-8d9faf1fa4db\",                        [{\"hovertemplate\":\"UMAP_1=%{x}\\u003cbr\\u003eUMAP_2=%{y}\\u003cbr\\u003eUMAP_3=%{z}\\u003cbr\\u003eCluster=%{marker.color}\\u003cextra\\u003e\\u003c\\u002fextra\\u003e\",\"legendgroup\":\"\",\"marker\":{\"color\":[1,1,0,0,1,1,0,0,0,0,0,0,0,0,0,1,0,1,1,0,1,0,0,0,1,1,0,1,0,0,0,1,0,0,0,1,0,1,0,0,0,0,0,0,0,0,0,0,0,0,0,1,0,1,0,0,0,0,0,0,1,0,0,1,0,0,0,1,0,1,0,1,0,1,0,1,0,0,0,1,1,1,1,2,1,0,1,0,1,0,1,2,0,1,1,1,0,1,1,1,1,1,1,0,1,1,0,1,1,2,1,1,0,1,1,0,1,1,0,1,0,1,2,1,1,0,1,1,1,0,0,0,1,1,1,0,1,1,1,1,0,1,0,0,0,0,1,0,0,0,0,1,0,1,1,0,1,0,1,1,1,1,1,1,1,0,0,0,0,1,1,0,0,0,0,0,0,0,1],\"coloraxis\":\"coloraxis\",\"symbol\":\"circle\"},\"mode\":\"markers\",\"name\":\"\",\"scene\":\"scene\",\"showlegend\":false,\"x\":[-8.70659,-8.385098,-10.994657,-12.827366,-8.338942,-9.166602,-14.1857605,-14.288954,-13.019667,-14.379957,-12.851828,-13.300767,-14.629727,-11.353004,-13.608473,-8.964898,-13.178285,-9.176907,-7.4197974,-12.598175,-9.361956,-11.768797,-12.271893,-13.912229,-8.685851,-7.9337626,-14.424511,-7.854728,-14.265137,-12.121581,-11.702352,-8.599542,-13.270259,-11.461669,-12.567421,-8.891474,-11.678427,-7.8834486,-13.133933,-13.689099,-13.905363,-13.6220665,-13.759396,-11.929593,-14.222125,-12.66827,-14.27631,-11.969208,-14.058936,-14.3297,-10.6254425,-8.896501,-13.706511,-9.522654,-13.187907,-12.633886,-13.826833,-11.3243685,-10.460548,-12.166875,-9.752247,-10.905396,-10.449393,-9.228863,-12.8629,-12.510227,-14.176377,-8.30087,-13.233881,-9.590434,-13.117164,-8.355772,-13.209128,-8.0801935,-14.075494,-9.076794,-10.880152,-12.784448,-12.883123,-7.6088276,-10.121434,-10.138157,-7.727833,-10.505473,-8.873432,-12.069153,-10.31155,-11.045613,-7.2207537,-12.451155,-8.884623,-10.979033,-13.450495,-9.553054,-9.057186,-8.3186,-12.389643,-8.997505,-9.567068,-7.6692796,-10.360472,-8.534021,-8.093336,-13.121558,-10.008904,-10.595599,-11.6420355,-11.098546,-10.727823,-10.603705,-7.238394,-9.724405,-12.908751,-10.451512,-8.419782,-11.963795,-8.802778,-9.239193,-12.40947,-7.7104254,-11.513608,-11.524453,-11.477093,-7.496231,-8.879805,-11.924507,-8.250287,-8.670586,-10.056866,-13.419349,-11.721987,-11.447742,-9.809192,-8.297604,-10.34328,-13.395788,-7.917844,-8.554996,-8.0749035,-9.662219,-12.278099,-7.5998774,-13.640342,-13.237085,-12.419756,-12.912468,-7.5737343,-12.033741,-12.830339,-13.959719,-12.528081,-8.821654,-14.184619,-8.171914,-8.78551,-12.862005,-9.155558,-12.187794,-10.107294,-7.445251,-8.384049,-8.245955,-8.624535,-8.311607,-8.606229,-12.14118,-12.958587,-12.752535,-13.847917,-8.447171,-9.823241,-12.205538,-12.530409,-12.873357,-12.352021,-12.926116,-13.097774,-11.015943,-9.192891],\"y\":[10.838828,10.157232,12.135944,14.101365,10.65748,10.422293,15.909178,16.222057,13.416742,16.149057,13.520847,13.928448,15.990077,12.609996,16.360807,10.697436,14.369344,9.531397,9.253028,13.868993,10.967809,13.413617,13.676649,15.616937,9.906218,9.605036,15.462991,8.897244,15.768254,13.204786,12.745054,10.744093,15.329692,12.938051,13.883452,10.973586,13.197475,10.5105295,13.203859,15.722364,15.787847,14.806615,15.97832,12.813271,15.310866,14.747203,15.548805,13.643495,14.592131,15.250739,12.322993,9.767768,14.495096,10.473645,13.113059,13.462946,15.839543,13.265707,12.351382,12.8493185,10.896143,11.934726,11.626194,9.938976,13.164668,12.763488,14.985211,10.436596,13.598838,12.299887,15.718104,9.064485,14.79469,9.338826,14.755124,9.730393,13.561731,14.722894,15.188444,9.57762,11.182341,10.56318,10.046953,13.6134205,10.29674,12.890952,12.766212,13.922281,9.572552,14.306242,10.028891,14.065711,14.335361,12.100718,10.410784,10.529895,15.222737,10.947483,10.818042,8.8793545,10.913079,9.480775,9.36514,15.820652,10.383457,11.544584,14.186982,13.406337,11.452644,13.766299,9.0701475,11.08702,15.994041,12.500291,10.109282,14.78213,8.940549,11.852076,14.767968,10.08271,14.558479,12.444375,14.204379,9.334856,9.409383,14.494032,8.721885,10.317526,10.551475,14.919957,14.0833025,13.779243,12.74134,10.105588,13.058103,15.368392,9.739242,11.574663,10.770734,10.039128,16.340757,10.339417,16.360806,16.62415,16.575914,16.697136,10.320597,15.700141,15.865645,14.84638,16.2896,12.024722,16.33562,11.72427,11.934809,13.060186,11.583085,15.457825,11.507476,9.852985,11.700938,11.264781,9.3733,12.02757,8.960052,16.105831,15.798356,16.605103,16.138351,9.338079,11.1637125,15.435303,16.520733,16.242813,15.842627,16.575638,15.9003525,12.402901,11.08581],\"z\":[20.172602,19.880642,19.335888,18.850868,20.569912,20.517046,18.523905,17.279984,18.61728,17.902462,18.28434,18.80282,17.753311,18.269562,17.873512,20.057064,18.18712,19.753225,19.788935,19.289665,20.547937,18.904676,18.641298,18.138868,20.431831,20.246948,18.610695,19.759388,17.515837,17.880331,19.24974,20.576162,18.233652,19.458073,18.387587,20.82285,19.148546,19.669367,18.805656,18.201202,18.366816,18.954485,17.553226,18.255634,18.285456,18.420406,17.402279,19.307432,18.656921,17.256872,19.474186,20.224213,18.379448,20.599936,19.363121,19.267628,18.746782,18.512333,18.266068,18.639551,19.91066,18.249273,20.048151,20.432236,18.50866,19.401787,18.544022,20.497393,18.93306,18.700125,17.630613,19.837059,17.353054,19.360176,17.185669,18.336615,17.06274,17.117907,16.440226,20.10122,18.051737,18.55458,19.970022,17.677898,19.513483,17.608643,17.852545,17.251635,19.639725,16.951693,17.83126,17.746246,19.056704,18.185863,18.012733,18.336031,17.228329,17.898127,18.531084,19.367052,18.587877,18.579927,18.460806,17.058664,19.09634,18.03579,16.817665,16.64686,18.524616,17.841644,19.433805,18.260624,18.115004,17.31342,18.727835,17.526922,18.876657,18.40573,17.595598,18.440313,17.239813,17.496988,17.864527,18.770887,19.1631,17.776297,19.517456,17.715286,19.09154,17.697697,16.826086,17.400883,18.281382,18.342676,17.568798,17.382944,18.7669,20.089434,19.953451,19.834959,17.09955,19.429018,18.205997,17.246542,17.446295,17.398535,19.059423,17.895157,16.483162,18.519646,17.840513,19.271662,17.960054,19.135757,19.66037,19.169298,19.94493,16.713274,19.63059,19.413313,19.183813,19.598814,18.614424,19.64553,19.24159,17.5213,16.257078,16.543488,16.859041,19.48056,19.197924,18.249006,16.77175,16.642239,16.301931,18.049465,18.460516,17.834612,19.522535],\"type\":\"scatter3d\"}],                        {\"template\":{\"data\":{\"histogram2dcontour\":[{\"type\":\"histogram2dcontour\",\"colorbar\":{\"outlinewidth\":0,\"ticks\":\"\"},\"colorscale\":[[0.0,\"#0d0887\"],[0.1111111111111111,\"#46039f\"],[0.2222222222222222,\"#7201a8\"],[0.3333333333333333,\"#9c179e\"],[0.4444444444444444,\"#bd3786\"],[0.5555555555555556,\"#d8576b\"],[0.6666666666666666,\"#ed7953\"],[0.7777777777777778,\"#fb9f3a\"],[0.8888888888888888,\"#fdca26\"],[1.0,\"#f0f921\"]]}],\"choropleth\":[{\"type\":\"choropleth\",\"colorbar\":{\"outlinewidth\":0,\"ticks\":\"\"}}],\"histogram2d\":[{\"type\":\"histogram2d\",\"colorbar\":{\"outlinewidth\":0,\"ticks\":\"\"},\"colorscale\":[[0.0,\"#0d0887\"],[0.1111111111111111,\"#46039f\"],[0.2222222222222222,\"#7201a8\"],[0.3333333333333333,\"#9c179e\"],[0.4444444444444444,\"#bd3786\"],[0.5555555555555556,\"#d8576b\"],[0.6666666666666666,\"#ed7953\"],[0.7777777777777778,\"#fb9f3a\"],[0.8888888888888888,\"#fdca26\"],[1.0,\"#f0f921\"]]}],\"heatmap\":[{\"type\":\"heatmap\",\"colorbar\":{\"outlinewidth\":0,\"ticks\":\"\"},\"colorscale\":[[0.0,\"#0d0887\"],[0.1111111111111111,\"#46039f\"],[0.2222222222222222,\"#7201a8\"],[0.3333333333333333,\"#9c179e\"],[0.4444444444444444,\"#bd3786\"],[0.5555555555555556,\"#d8576b\"],[0.6666666666666666,\"#ed7953\"],[0.7777777777777778,\"#fb9f3a\"],[0.8888888888888888,\"#fdca26\"],[1.0,\"#f0f921\"]]}],\"heatmapgl\":[{\"type\":\"heatmapgl\",\"colorbar\":{\"outlinewidth\":0,\"ticks\":\"\"},\"colorscale\":[[0.0,\"#0d0887\"],[0.1111111111111111,\"#46039f\"],[0.2222222222222222,\"#7201a8\"],[0.3333333333333333,\"#9c179e\"],[0.4444444444444444,\"#bd3786\"],[0.5555555555555556,\"#d8576b\"],[0.6666666666666666,\"#ed7953\"],[0.7777777777777778,\"#fb9f3a\"],[0.8888888888888888,\"#fdca26\"],[1.0,\"#f0f921\"]]}],\"contourcarpet\":[{\"type\":\"contourcarpet\",\"colorbar\":{\"outlinewidth\":0,\"ticks\":\"\"}}],\"contour\":[{\"type\":\"contour\",\"colorbar\":{\"outlinewidth\":0,\"ticks\":\"\"},\"colorscale\":[[0.0,\"#0d0887\"],[0.1111111111111111,\"#46039f\"],[0.2222222222222222,\"#7201a8\"],[0.3333333333333333,\"#9c179e\"],[0.4444444444444444,\"#bd3786\"],[0.5555555555555556,\"#d8576b\"],[0.6666666666666666,\"#ed7953\"],[0.7777777777777778,\"#fb9f3a\"],[0.8888888888888888,\"#fdca26\"],[1.0,\"#f0f921\"]]}],\"surface\":[{\"type\":\"surface\",\"colorbar\":{\"outlinewidth\":0,\"ticks\":\"\"},\"colorscale\":[[0.0,\"#0d0887\"],[0.1111111111111111,\"#46039f\"],[0.2222222222222222,\"#7201a8\"],[0.3333333333333333,\"#9c179e\"],[0.4444444444444444,\"#bd3786\"],[0.5555555555555556,\"#d8576b\"],[0.6666666666666666,\"#ed7953\"],[0.7777777777777778,\"#fb9f3a\"],[0.8888888888888888,\"#fdca26\"],[1.0,\"#f0f921\"]]}],\"mesh3d\":[{\"type\":\"mesh3d\",\"colorbar\":{\"outlinewidth\":0,\"ticks\":\"\"}}],\"scatter\":[{\"fillpattern\":{\"fillmode\":\"overlay\",\"size\":10,\"solidity\":0.2},\"type\":\"scatter\"}],\"parcoords\":[{\"type\":\"parcoords\",\"line\":{\"colorbar\":{\"outlinewidth\":0,\"ticks\":\"\"}}}],\"scatterpolargl\":[{\"type\":\"scatterpolargl\",\"marker\":{\"colorbar\":{\"outlinewidth\":0,\"ticks\":\"\"}}}],\"bar\":[{\"error_x\":{\"color\":\"#2a3f5f\"},\"error_y\":{\"color\":\"#2a3f5f\"},\"marker\":{\"line\":{\"color\":\"#E5ECF6\",\"width\":0.5},\"pattern\":{\"fillmode\":\"overlay\",\"size\":10,\"solidity\":0.2}},\"type\":\"bar\"}],\"scattergeo\":[{\"type\":\"scattergeo\",\"marker\":{\"colorbar\":{\"outlinewidth\":0,\"ticks\":\"\"}}}],\"scatterpolar\":[{\"type\":\"scatterpolar\",\"marker\":{\"colorbar\":{\"outlinewidth\":0,\"ticks\":\"\"}}}],\"histogram\":[{\"marker\":{\"pattern\":{\"fillmode\":\"overlay\",\"size\":10,\"solidity\":0.2}},\"type\":\"histogram\"}],\"scattergl\":[{\"type\":\"scattergl\",\"marker\":{\"colorbar\":{\"outlinewidth\":0,\"ticks\":\"\"}}}],\"scatter3d\":[{\"type\":\"scatter3d\",\"line\":{\"colorbar\":{\"outlinewidth\":0,\"ticks\":\"\"}},\"marker\":{\"colorbar\":{\"outlinewidth\":0,\"ticks\":\"\"}}}],\"scattermapbox\":[{\"type\":\"scattermapbox\",\"marker\":{\"colorbar\":{\"outlinewidth\":0,\"ticks\":\"\"}}}],\"scatterternary\":[{\"type\":\"scatterternary\",\"marker\":{\"colorbar\":{\"outlinewidth\":0,\"ticks\":\"\"}}}],\"scattercarpet\":[{\"type\":\"scattercarpet\",\"marker\":{\"colorbar\":{\"outlinewidth\":0,\"ticks\":\"\"}}}],\"carpet\":[{\"aaxis\":{\"endlinecolor\":\"#2a3f5f\",\"gridcolor\":\"white\",\"linecolor\":\"white\",\"minorgridcolor\":\"white\",\"startlinecolor\":\"#2a3f5f\"},\"baxis\":{\"endlinecolor\":\"#2a3f5f\",\"gridcolor\":\"white\",\"linecolor\":\"white\",\"minorgridcolor\":\"white\",\"startlinecolor\":\"#2a3f5f\"},\"type\":\"carpet\"}],\"table\":[{\"cells\":{\"fill\":{\"color\":\"#EBF0F8\"},\"line\":{\"color\":\"white\"}},\"header\":{\"fill\":{\"color\":\"#C8D4E3\"},\"line\":{\"color\":\"white\"}},\"type\":\"table\"}],\"barpolar\":[{\"marker\":{\"line\":{\"color\":\"#E5ECF6\",\"width\":0.5},\"pattern\":{\"fillmode\":\"overlay\",\"size\":10,\"solidity\":0.2}},\"type\":\"barpolar\"}],\"pie\":[{\"automargin\":true,\"type\":\"pie\"}]},\"layout\":{\"autotypenumbers\":\"strict\",\"colorway\":[\"#636efa\",\"#EF553B\",\"#00cc96\",\"#ab63fa\",\"#FFA15A\",\"#19d3f3\",\"#FF6692\",\"#B6E880\",\"#FF97FF\",\"#FECB52\"],\"font\":{\"color\":\"#2a3f5f\"},\"hovermode\":\"closest\",\"hoverlabel\":{\"align\":\"left\"},\"paper_bgcolor\":\"white\",\"plot_bgcolor\":\"#E5ECF6\",\"polar\":{\"bgcolor\":\"#E5ECF6\",\"angularaxis\":{\"gridcolor\":\"white\",\"linecolor\":\"white\",\"ticks\":\"\"},\"radialaxis\":{\"gridcolor\":\"white\",\"linecolor\":\"white\",\"ticks\":\"\"}},\"ternary\":{\"bgcolor\":\"#E5ECF6\",\"aaxis\":{\"gridcolor\":\"white\",\"linecolor\":\"white\",\"ticks\":\"\"},\"baxis\":{\"gridcolor\":\"white\",\"linecolor\":\"white\",\"ticks\":\"\"},\"caxis\":{\"gridcolor\":\"white\",\"linecolor\":\"white\",\"ticks\":\"\"}},\"coloraxis\":{\"colorbar\":{\"outlinewidth\":0,\"ticks\":\"\"}},\"colorscale\":{\"sequential\":[[0.0,\"#0d0887\"],[0.1111111111111111,\"#46039f\"],[0.2222222222222222,\"#7201a8\"],[0.3333333333333333,\"#9c179e\"],[0.4444444444444444,\"#bd3786\"],[0.5555555555555556,\"#d8576b\"],[0.6666666666666666,\"#ed7953\"],[0.7777777777777778,\"#fb9f3a\"],[0.8888888888888888,\"#fdca26\"],[1.0,\"#f0f921\"]],\"sequentialminus\":[[0.0,\"#0d0887\"],[0.1111111111111111,\"#46039f\"],[0.2222222222222222,\"#7201a8\"],[0.3333333333333333,\"#9c179e\"],[0.4444444444444444,\"#bd3786\"],[0.5555555555555556,\"#d8576b\"],[0.6666666666666666,\"#ed7953\"],[0.7777777777777778,\"#fb9f3a\"],[0.8888888888888888,\"#fdca26\"],[1.0,\"#f0f921\"]],\"diverging\":[[0,\"#8e0152\"],[0.1,\"#c51b7d\"],[0.2,\"#de77ae\"],[0.3,\"#f1b6da\"],[0.4,\"#fde0ef\"],[0.5,\"#f7f7f7\"],[0.6,\"#e6f5d0\"],[0.7,\"#b8e186\"],[0.8,\"#7fbc41\"],[0.9,\"#4d9221\"],[1,\"#276419\"]]},\"xaxis\":{\"gridcolor\":\"white\",\"linecolor\":\"white\",\"ticks\":\"\",\"title\":{\"standoff\":15},\"zerolinecolor\":\"white\",\"automargin\":true,\"zerolinewidth\":2},\"yaxis\":{\"gridcolor\":\"white\",\"linecolor\":\"white\",\"ticks\":\"\",\"title\":{\"standoff\":15},\"zerolinecolor\":\"white\",\"automargin\":true,\"zerolinewidth\":2},\"scene\":{\"xaxis\":{\"backgroundcolor\":\"#E5ECF6\",\"gridcolor\":\"white\",\"linecolor\":\"white\",\"showbackground\":true,\"ticks\":\"\",\"zerolinecolor\":\"white\",\"gridwidth\":2},\"yaxis\":{\"backgroundcolor\":\"#E5ECF6\",\"gridcolor\":\"white\",\"linecolor\":\"white\",\"showbackground\":true,\"ticks\":\"\",\"zerolinecolor\":\"white\",\"gridwidth\":2},\"zaxis\":{\"backgroundcolor\":\"#E5ECF6\",\"gridcolor\":\"white\",\"linecolor\":\"white\",\"showbackground\":true,\"ticks\":\"\",\"zerolinecolor\":\"white\",\"gridwidth\":2}},\"shapedefaults\":{\"line\":{\"color\":\"#2a3f5f\"}},\"annotationdefaults\":{\"arrowcolor\":\"#2a3f5f\",\"arrowhead\":0,\"arrowwidth\":1},\"geo\":{\"bgcolor\":\"white\",\"landcolor\":\"#E5ECF6\",\"subunitcolor\":\"white\",\"showland\":true,\"showlakes\":true,\"lakecolor\":\"white\"},\"title\":{\"x\":0.05},\"mapbox\":{\"style\":\"light\"}}},\"scene\":{\"domain\":{\"x\":[0.0,1.0],\"y\":[0.0,1.0]},\"xaxis\":{\"title\":{\"text\":\"UMAP_1\"}},\"yaxis\":{\"title\":{\"text\":\"UMAP_2\"}},\"zaxis\":{\"title\":{\"text\":\"UMAP_3\"}}},\"coloraxis\":{\"colorbar\":{\"title\":{\"text\":\"Cluster\"}},\"colorscale\":[[0.0,\"#0d0887\"],[0.1111111111111111,\"#46039f\"],[0.2222222222222222,\"#7201a8\"],[0.3333333333333333,\"#9c179e\"],[0.4444444444444444,\"#bd3786\"],[0.5555555555555556,\"#d8576b\"],[0.6666666666666666,\"#ed7953\"],[0.7777777777777778,\"#fb9f3a\"],[0.8888888888888888,\"#fdca26\"],[1.0,\"#f0f921\"]],\"cmin\":0,\"cmax\":30},\"legend\":{\"tracegroupgap\":0},\"margin\":{\"t\":60}},                        {\"responsive\": true}                    ).then(function(){\n",
       "                            \n",
       "var gd = document.getElementById('aa5d1469-35ca-49d0-befc-8d9faf1fa4db');\n",
       "var x = new MutationObserver(function (mutations, observer) {{\n",
       "        var display = window.getComputedStyle(gd).display;\n",
       "        if (!display || display === 'none') {{\n",
       "            console.log([gd, 'removed!']);\n",
       "            Plotly.purge(gd);\n",
       "            observer.disconnect();\n",
       "        }}\n",
       "}});\n",
       "\n",
       "// Listen for the removal of the full notebook cells\n",
       "var notebookContainer = gd.closest('#notebook-container');\n",
       "if (notebookContainer) {{\n",
       "    x.observe(notebookContainer, {childList: true});\n",
       "}}\n",
       "\n",
       "// Listen for the clearing of the current output cell\n",
       "var outputEl = gd.closest('.output');\n",
       "if (outputEl) {{\n",
       "    x.observe(outputEl, {childList: true});\n",
       "}}\n",
       "\n",
       "                        })                };                });            </script>        </div>"
      ]
     },
     "metadata": {},
     "output_type": "display_data"
    }
   ],
   "source": [
    "df = umap_coordinates_and_clusters\n",
    "fig = px.scatter_3d(df, x='UMAP_1', y='UMAP_2', z='UMAP_3',\n",
    "              color='Cluster', range_color = [0, 30])\n",
    "fig.show()"
   ]
  },
  {
   "cell_type": "markdown",
   "id": "0c249afe-1c09-449e-9163-7d12a2a81540",
   "metadata": {},
   "source": [
    "We can make a plot showing the overall concordance in the number of pathways for the given cell types.\n",
    "\n",
    "Source: https://stackoverflow.com/a/45921145"
   ]
  },
  {
   "cell_type": "code",
   "execution_count": 42,
   "id": "0b825d63-0520-40dc-9737-b04455845a53",
   "metadata": {},
   "outputs": [],
   "source": [
    "umap_coordinates_and_clusters_mature_immature_concordance = umap_coordinates_and_clusters.copy()"
   ]
  },
  {
   "cell_type": "code",
   "execution_count": 43,
   "id": "652f292f-e8c7-4b08-98b7-da527d80e979",
   "metadata": {},
   "outputs": [],
   "source": [
    "umap_coordinates_and_clusters_mature_immature_concordance['n_shared_pathways'] = 0"
   ]
  },
  {
   "cell_type": "code",
   "execution_count": 44,
   "id": "7813441a-97bf-4981-8f5d-064295d442cc",
   "metadata": {},
   "outputs": [],
   "source": [
    "umap_coordinates_and_clusters_mature_immature_concordance.loc[umap_coordinates_and_clusters_mature_immature_concordance.Cluster.isin([0, 1]), 'n_shared_pathways'] = len(mature_immature)"
   ]
  },
  {
   "cell_type": "code",
   "execution_count": 45,
   "id": "8e27b64c-cfa7-490c-9423-5bfe7d671629",
   "metadata": {},
   "outputs": [
    {
     "data": {
      "text/html": [
       "<div>\n",
       "<style scoped>\n",
       "    .dataframe tbody tr th:only-of-type {\n",
       "        vertical-align: middle;\n",
       "    }\n",
       "\n",
       "    .dataframe tbody tr th {\n",
       "        vertical-align: top;\n",
       "    }\n",
       "\n",
       "    .dataframe thead th {\n",
       "        text-align: right;\n",
       "    }\n",
       "</style>\n",
       "<table border=\"1\" class=\"dataframe\">\n",
       "  <thead>\n",
       "    <tr style=\"text-align: right;\">\n",
       "      <th></th>\n",
       "      <th>UMAP_1</th>\n",
       "      <th>UMAP_2</th>\n",
       "      <th>UMAP_3</th>\n",
       "      <th>Cluster</th>\n",
       "      <th>n_shared_pathways</th>\n",
       "    </tr>\n",
       "  </thead>\n",
       "  <tbody>\n",
       "    <tr>\n",
       "      <th>0</th>\n",
       "      <td>-8.706590</td>\n",
       "      <td>10.838828</td>\n",
       "      <td>20.172602</td>\n",
       "      <td>1</td>\n",
       "      <td>3</td>\n",
       "    </tr>\n",
       "    <tr>\n",
       "      <th>1</th>\n",
       "      <td>-8.385098</td>\n",
       "      <td>10.157232</td>\n",
       "      <td>19.880642</td>\n",
       "      <td>1</td>\n",
       "      <td>3</td>\n",
       "    </tr>\n",
       "    <tr>\n",
       "      <th>2</th>\n",
       "      <td>-10.994657</td>\n",
       "      <td>12.135944</td>\n",
       "      <td>19.335888</td>\n",
       "      <td>0</td>\n",
       "      <td>3</td>\n",
       "    </tr>\n",
       "    <tr>\n",
       "      <th>3</th>\n",
       "      <td>-12.827366</td>\n",
       "      <td>14.101365</td>\n",
       "      <td>18.850868</td>\n",
       "      <td>0</td>\n",
       "      <td>3</td>\n",
       "    </tr>\n",
       "    <tr>\n",
       "      <th>4</th>\n",
       "      <td>-8.338942</td>\n",
       "      <td>10.657480</td>\n",
       "      <td>20.569912</td>\n",
       "      <td>1</td>\n",
       "      <td>3</td>\n",
       "    </tr>\n",
       "    <tr>\n",
       "      <th>...</th>\n",
       "      <td>...</td>\n",
       "      <td>...</td>\n",
       "      <td>...</td>\n",
       "      <td>...</td>\n",
       "      <td>...</td>\n",
       "    </tr>\n",
       "    <tr>\n",
       "      <th>174</th>\n",
       "      <td>-12.352021</td>\n",
       "      <td>15.842627</td>\n",
       "      <td>16.301931</td>\n",
       "      <td>0</td>\n",
       "      <td>3</td>\n",
       "    </tr>\n",
       "    <tr>\n",
       "      <th>175</th>\n",
       "      <td>-12.926116</td>\n",
       "      <td>16.575638</td>\n",
       "      <td>18.049465</td>\n",
       "      <td>0</td>\n",
       "      <td>3</td>\n",
       "    </tr>\n",
       "    <tr>\n",
       "      <th>176</th>\n",
       "      <td>-13.097774</td>\n",
       "      <td>15.900353</td>\n",
       "      <td>18.460516</td>\n",
       "      <td>0</td>\n",
       "      <td>3</td>\n",
       "    </tr>\n",
       "    <tr>\n",
       "      <th>177</th>\n",
       "      <td>-11.015943</td>\n",
       "      <td>12.402901</td>\n",
       "      <td>17.834612</td>\n",
       "      <td>0</td>\n",
       "      <td>3</td>\n",
       "    </tr>\n",
       "    <tr>\n",
       "      <th>178</th>\n",
       "      <td>-9.192891</td>\n",
       "      <td>11.085810</td>\n",
       "      <td>19.522535</td>\n",
       "      <td>1</td>\n",
       "      <td>3</td>\n",
       "    </tr>\n",
       "  </tbody>\n",
       "</table>\n",
       "<p>179 rows × 5 columns</p>\n",
       "</div>"
      ],
      "text/plain": [
       "        UMAP_1     UMAP_2     UMAP_3  Cluster  n_shared_pathways\n",
       "0    -8.706590  10.838828  20.172602        1                  3\n",
       "1    -8.385098  10.157232  19.880642        1                  3\n",
       "2   -10.994657  12.135944  19.335888        0                  3\n",
       "3   -12.827366  14.101365  18.850868        0                  3\n",
       "4    -8.338942  10.657480  20.569912        1                  3\n",
       "..         ...        ...        ...      ...                ...\n",
       "174 -12.352021  15.842627  16.301931        0                  3\n",
       "175 -12.926116  16.575638  18.049465        0                  3\n",
       "176 -13.097774  15.900353  18.460516        0                  3\n",
       "177 -11.015943  12.402901  17.834612        0                  3\n",
       "178  -9.192891  11.085810  19.522535        1                  3\n",
       "\n",
       "[179 rows x 5 columns]"
      ]
     },
     "execution_count": 45,
     "metadata": {},
     "output_type": "execute_result"
    }
   ],
   "source": [
    "umap_coordinates_and_clusters_mature_immature_concordance"
   ]
  },
  {
   "cell_type": "code",
   "execution_count": 46,
   "id": "cb7ac883-bbbd-4d12-947f-16f6a93ab665",
   "metadata": {},
   "outputs": [
    {
     "data": {
      "application/vnd.plotly.v1+json": {
       "config": {
        "plotlyServerURL": "https://plot.ly"
       },
       "data": [
        {
         "hovertemplate": "UMAP_1=%{x}<br>UMAP_2=%{y}<br>UMAP_3=%{z}<br>n_shared_pathways=%{marker.color}<extra></extra>",
         "legendgroup": "",
         "marker": {
          "color": [
           3,
           3,
           3,
           3,
           3,
           3,
           3,
           3,
           3,
           3,
           3,
           3,
           3,
           3,
           3,
           3,
           3,
           3,
           3,
           3,
           3,
           3,
           3,
           3,
           3,
           3,
           3,
           3,
           3,
           3,
           3,
           3,
           3,
           3,
           3,
           3,
           3,
           3,
           3,
           3,
           3,
           3,
           3,
           3,
           3,
           3,
           3,
           3,
           3,
           3,
           3,
           3,
           3,
           3,
           3,
           3,
           3,
           3,
           3,
           3,
           3,
           3,
           3,
           3,
           3,
           3,
           3,
           3,
           3,
           3,
           3,
           3,
           3,
           3,
           3,
           3,
           3,
           3,
           3,
           3,
           3,
           3,
           3,
           0,
           3,
           3,
           3,
           3,
           3,
           3,
           3,
           0,
           3,
           3,
           3,
           3,
           3,
           3,
           3,
           3,
           3,
           3,
           3,
           3,
           3,
           3,
           3,
           3,
           3,
           0,
           3,
           3,
           3,
           3,
           3,
           3,
           3,
           3,
           3,
           3,
           3,
           3,
           0,
           3,
           3,
           3,
           3,
           3,
           3,
           3,
           3,
           3,
           3,
           3,
           3,
           3,
           3,
           3,
           3,
           3,
           3,
           3,
           3,
           3,
           3,
           3,
           3,
           3,
           3,
           3,
           3,
           3,
           3,
           3,
           3,
           3,
           3,
           3,
           3,
           3,
           3,
           3,
           3,
           3,
           3,
           3,
           3,
           3,
           3,
           3,
           3,
           3,
           3,
           3,
           3,
           3,
           3,
           3,
           3
          ],
          "coloraxis": "coloraxis",
          "symbol": "circle"
         },
         "mode": "markers",
         "name": "",
         "scene": "scene",
         "showlegend": false,
         "type": "scatter3d",
         "x": [
          -8.70659,
          -8.385098,
          -10.994657,
          -12.827366,
          -8.338942,
          -9.166602,
          -14.1857605,
          -14.288954,
          -13.019667,
          -14.379957,
          -12.851828,
          -13.300767,
          -14.629727,
          -11.353004,
          -13.608473,
          -8.964898,
          -13.178285,
          -9.176907,
          -7.4197974,
          -12.598175,
          -9.361956,
          -11.768797,
          -12.271893,
          -13.912229,
          -8.685851,
          -7.9337626,
          -14.424511,
          -7.854728,
          -14.265137,
          -12.121581,
          -11.702352,
          -8.599542,
          -13.270259,
          -11.461669,
          -12.567421,
          -8.891474,
          -11.678427,
          -7.8834486,
          -13.133933,
          -13.689099,
          -13.905363,
          -13.6220665,
          -13.759396,
          -11.929593,
          -14.222125,
          -12.66827,
          -14.27631,
          -11.969208,
          -14.058936,
          -14.3297,
          -10.6254425,
          -8.896501,
          -13.706511,
          -9.522654,
          -13.187907,
          -12.633886,
          -13.826833,
          -11.3243685,
          -10.460548,
          -12.166875,
          -9.752247,
          -10.905396,
          -10.449393,
          -9.228863,
          -12.8629,
          -12.510227,
          -14.176377,
          -8.30087,
          -13.233881,
          -9.590434,
          -13.117164,
          -8.355772,
          -13.209128,
          -8.0801935,
          -14.075494,
          -9.076794,
          -10.880152,
          -12.784448,
          -12.883123,
          -7.6088276,
          -10.121434,
          -10.138157,
          -7.727833,
          -10.505473,
          -8.873432,
          -12.069153,
          -10.31155,
          -11.045613,
          -7.2207537,
          -12.451155,
          -8.884623,
          -10.979033,
          -13.450495,
          -9.553054,
          -9.057186,
          -8.3186,
          -12.389643,
          -8.997505,
          -9.567068,
          -7.6692796,
          -10.360472,
          -8.534021,
          -8.093336,
          -13.121558,
          -10.008904,
          -10.595599,
          -11.6420355,
          -11.098546,
          -10.727823,
          -10.603705,
          -7.238394,
          -9.724405,
          -12.908751,
          -10.451512,
          -8.419782,
          -11.963795,
          -8.802778,
          -9.239193,
          -12.40947,
          -7.7104254,
          -11.513608,
          -11.524453,
          -11.477093,
          -7.496231,
          -8.879805,
          -11.924507,
          -8.250287,
          -8.670586,
          -10.056866,
          -13.419349,
          -11.721987,
          -11.447742,
          -9.809192,
          -8.297604,
          -10.34328,
          -13.395788,
          -7.917844,
          -8.554996,
          -8.0749035,
          -9.662219,
          -12.278099,
          -7.5998774,
          -13.640342,
          -13.237085,
          -12.419756,
          -12.912468,
          -7.5737343,
          -12.033741,
          -12.830339,
          -13.959719,
          -12.528081,
          -8.821654,
          -14.184619,
          -8.171914,
          -8.78551,
          -12.862005,
          -9.155558,
          -12.187794,
          -10.107294,
          -7.445251,
          -8.384049,
          -8.245955,
          -8.624535,
          -8.311607,
          -8.606229,
          -12.14118,
          -12.958587,
          -12.752535,
          -13.847917,
          -8.447171,
          -9.823241,
          -12.205538,
          -12.530409,
          -12.873357,
          -12.352021,
          -12.926116,
          -13.097774,
          -11.015943,
          -9.192891
         ],
         "y": [
          10.838828,
          10.157232,
          12.135944,
          14.101365,
          10.65748,
          10.422293,
          15.909178,
          16.222057,
          13.416742,
          16.149057,
          13.520847,
          13.928448,
          15.990077,
          12.609996,
          16.360807,
          10.697436,
          14.369344,
          9.531397,
          9.253028,
          13.868993,
          10.967809,
          13.413617,
          13.676649,
          15.616937,
          9.906218,
          9.605036,
          15.462991,
          8.897244,
          15.768254,
          13.204786,
          12.745054,
          10.744093,
          15.329692,
          12.938051,
          13.883452,
          10.973586,
          13.197475,
          10.5105295,
          13.203859,
          15.722364,
          15.787847,
          14.806615,
          15.97832,
          12.813271,
          15.310866,
          14.747203,
          15.548805,
          13.643495,
          14.592131,
          15.250739,
          12.322993,
          9.767768,
          14.495096,
          10.473645,
          13.113059,
          13.462946,
          15.839543,
          13.265707,
          12.351382,
          12.8493185,
          10.896143,
          11.934726,
          11.626194,
          9.938976,
          13.164668,
          12.763488,
          14.985211,
          10.436596,
          13.598838,
          12.299887,
          15.718104,
          9.064485,
          14.79469,
          9.338826,
          14.755124,
          9.730393,
          13.561731,
          14.722894,
          15.188444,
          9.57762,
          11.182341,
          10.56318,
          10.046953,
          13.6134205,
          10.29674,
          12.890952,
          12.766212,
          13.922281,
          9.572552,
          14.306242,
          10.028891,
          14.065711,
          14.335361,
          12.100718,
          10.410784,
          10.529895,
          15.222737,
          10.947483,
          10.818042,
          8.8793545,
          10.913079,
          9.480775,
          9.36514,
          15.820652,
          10.383457,
          11.544584,
          14.186982,
          13.406337,
          11.452644,
          13.766299,
          9.0701475,
          11.08702,
          15.994041,
          12.500291,
          10.109282,
          14.78213,
          8.940549,
          11.852076,
          14.767968,
          10.08271,
          14.558479,
          12.444375,
          14.204379,
          9.334856,
          9.409383,
          14.494032,
          8.721885,
          10.317526,
          10.551475,
          14.919957,
          14.0833025,
          13.779243,
          12.74134,
          10.105588,
          13.058103,
          15.368392,
          9.739242,
          11.574663,
          10.770734,
          10.039128,
          16.340757,
          10.339417,
          16.360806,
          16.62415,
          16.575914,
          16.697136,
          10.320597,
          15.700141,
          15.865645,
          14.84638,
          16.2896,
          12.024722,
          16.33562,
          11.72427,
          11.934809,
          13.060186,
          11.583085,
          15.457825,
          11.507476,
          9.852985,
          11.700938,
          11.264781,
          9.3733,
          12.02757,
          8.960052,
          16.105831,
          15.798356,
          16.605103,
          16.138351,
          9.338079,
          11.1637125,
          15.435303,
          16.520733,
          16.242813,
          15.842627,
          16.575638,
          15.9003525,
          12.402901,
          11.08581
         ],
         "z": [
          20.172602,
          19.880642,
          19.335888,
          18.850868,
          20.569912,
          20.517046,
          18.523905,
          17.279984,
          18.61728,
          17.902462,
          18.28434,
          18.80282,
          17.753311,
          18.269562,
          17.873512,
          20.057064,
          18.18712,
          19.753225,
          19.788935,
          19.289665,
          20.547937,
          18.904676,
          18.641298,
          18.138868,
          20.431831,
          20.246948,
          18.610695,
          19.759388,
          17.515837,
          17.880331,
          19.24974,
          20.576162,
          18.233652,
          19.458073,
          18.387587,
          20.82285,
          19.148546,
          19.669367,
          18.805656,
          18.201202,
          18.366816,
          18.954485,
          17.553226,
          18.255634,
          18.285456,
          18.420406,
          17.402279,
          19.307432,
          18.656921,
          17.256872,
          19.474186,
          20.224213,
          18.379448,
          20.599936,
          19.363121,
          19.267628,
          18.746782,
          18.512333,
          18.266068,
          18.639551,
          19.91066,
          18.249273,
          20.048151,
          20.432236,
          18.50866,
          19.401787,
          18.544022,
          20.497393,
          18.93306,
          18.700125,
          17.630613,
          19.837059,
          17.353054,
          19.360176,
          17.185669,
          18.336615,
          17.06274,
          17.117907,
          16.440226,
          20.10122,
          18.051737,
          18.55458,
          19.970022,
          17.677898,
          19.513483,
          17.608643,
          17.852545,
          17.251635,
          19.639725,
          16.951693,
          17.83126,
          17.746246,
          19.056704,
          18.185863,
          18.012733,
          18.336031,
          17.228329,
          17.898127,
          18.531084,
          19.367052,
          18.587877,
          18.579927,
          18.460806,
          17.058664,
          19.09634,
          18.03579,
          16.817665,
          16.64686,
          18.524616,
          17.841644,
          19.433805,
          18.260624,
          18.115004,
          17.31342,
          18.727835,
          17.526922,
          18.876657,
          18.40573,
          17.595598,
          18.440313,
          17.239813,
          17.496988,
          17.864527,
          18.770887,
          19.1631,
          17.776297,
          19.517456,
          17.715286,
          19.09154,
          17.697697,
          16.826086,
          17.400883,
          18.281382,
          18.342676,
          17.568798,
          17.382944,
          18.7669,
          20.089434,
          19.953451,
          19.834959,
          17.09955,
          19.429018,
          18.205997,
          17.246542,
          17.446295,
          17.398535,
          19.059423,
          17.895157,
          16.483162,
          18.519646,
          17.840513,
          19.271662,
          17.960054,
          19.135757,
          19.66037,
          19.169298,
          19.94493,
          16.713274,
          19.63059,
          19.413313,
          19.183813,
          19.598814,
          18.614424,
          19.64553,
          19.24159,
          17.5213,
          16.257078,
          16.543488,
          16.859041,
          19.48056,
          19.197924,
          18.249006,
          16.77175,
          16.642239,
          16.301931,
          18.049465,
          18.460516,
          17.834612,
          19.522535
         ]
        }
       ],
       "layout": {
        "autosize": true,
        "coloraxis": {
         "cmax": 30,
         "cmin": 0,
         "colorbar": {
          "title": {
           "text": "n_shared_pathways"
          }
         },
         "colorscale": [
          [
           0,
           "#0d0887"
          ],
          [
           0.1111111111111111,
           "#46039f"
          ],
          [
           0.2222222222222222,
           "#7201a8"
          ],
          [
           0.3333333333333333,
           "#9c179e"
          ],
          [
           0.4444444444444444,
           "#bd3786"
          ],
          [
           0.5555555555555556,
           "#d8576b"
          ],
          [
           0.6666666666666666,
           "#ed7953"
          ],
          [
           0.7777777777777778,
           "#fb9f3a"
          ],
          [
           0.8888888888888888,
           "#fdca26"
          ],
          [
           1,
           "#f0f921"
          ]
         ]
        },
        "legend": {
         "tracegroupgap": 0
        },
        "margin": {
         "t": 60
        },
        "scene": {
         "aspectmode": "auto",
         "aspectratio": {
          "x": 1.1466190676714667,
          "y": 1.2342566906086614,
          "z": 0.7066027939175441
         },
         "domain": {
          "x": [
           0,
           1
          ],
          "y": [
           0,
           1
          ]
         },
         "xaxis": {
          "title": {
           "text": "UMAP_1"
          },
          "type": "linear"
         },
         "yaxis": {
          "title": {
           "text": "UMAP_2"
          },
          "type": "linear"
         },
         "zaxis": {
          "title": {
           "text": "UMAP_3"
          },
          "type": "linear"
         }
        },
        "template": {
         "data": {
          "bar": [
           {
            "error_x": {
             "color": "#2a3f5f"
            },
            "error_y": {
             "color": "#2a3f5f"
            },
            "marker": {
             "line": {
              "color": "#E5ECF6",
              "width": 0.5
             },
             "pattern": {
              "fillmode": "overlay",
              "size": 10,
              "solidity": 0.2
             }
            },
            "type": "bar"
           }
          ],
          "barpolar": [
           {
            "marker": {
             "line": {
              "color": "#E5ECF6",
              "width": 0.5
             },
             "pattern": {
              "fillmode": "overlay",
              "size": 10,
              "solidity": 0.2
             }
            },
            "type": "barpolar"
           }
          ],
          "carpet": [
           {
            "aaxis": {
             "endlinecolor": "#2a3f5f",
             "gridcolor": "white",
             "linecolor": "white",
             "minorgridcolor": "white",
             "startlinecolor": "#2a3f5f"
            },
            "baxis": {
             "endlinecolor": "#2a3f5f",
             "gridcolor": "white",
             "linecolor": "white",
             "minorgridcolor": "white",
             "startlinecolor": "#2a3f5f"
            },
            "type": "carpet"
           }
          ],
          "choropleth": [
           {
            "colorbar": {
             "outlinewidth": 0,
             "ticks": ""
            },
            "type": "choropleth"
           }
          ],
          "contour": [
           {
            "colorbar": {
             "outlinewidth": 0,
             "ticks": ""
            },
            "colorscale": [
             [
              0,
              "#0d0887"
             ],
             [
              0.1111111111111111,
              "#46039f"
             ],
             [
              0.2222222222222222,
              "#7201a8"
             ],
             [
              0.3333333333333333,
              "#9c179e"
             ],
             [
              0.4444444444444444,
              "#bd3786"
             ],
             [
              0.5555555555555556,
              "#d8576b"
             ],
             [
              0.6666666666666666,
              "#ed7953"
             ],
             [
              0.7777777777777778,
              "#fb9f3a"
             ],
             [
              0.8888888888888888,
              "#fdca26"
             ],
             [
              1,
              "#f0f921"
             ]
            ],
            "type": "contour"
           }
          ],
          "contourcarpet": [
           {
            "colorbar": {
             "outlinewidth": 0,
             "ticks": ""
            },
            "type": "contourcarpet"
           }
          ],
          "heatmap": [
           {
            "colorbar": {
             "outlinewidth": 0,
             "ticks": ""
            },
            "colorscale": [
             [
              0,
              "#0d0887"
             ],
             [
              0.1111111111111111,
              "#46039f"
             ],
             [
              0.2222222222222222,
              "#7201a8"
             ],
             [
              0.3333333333333333,
              "#9c179e"
             ],
             [
              0.4444444444444444,
              "#bd3786"
             ],
             [
              0.5555555555555556,
              "#d8576b"
             ],
             [
              0.6666666666666666,
              "#ed7953"
             ],
             [
              0.7777777777777778,
              "#fb9f3a"
             ],
             [
              0.8888888888888888,
              "#fdca26"
             ],
             [
              1,
              "#f0f921"
             ]
            ],
            "type": "heatmap"
           }
          ],
          "heatmapgl": [
           {
            "colorbar": {
             "outlinewidth": 0,
             "ticks": ""
            },
            "colorscale": [
             [
              0,
              "#0d0887"
             ],
             [
              0.1111111111111111,
              "#46039f"
             ],
             [
              0.2222222222222222,
              "#7201a8"
             ],
             [
              0.3333333333333333,
              "#9c179e"
             ],
             [
              0.4444444444444444,
              "#bd3786"
             ],
             [
              0.5555555555555556,
              "#d8576b"
             ],
             [
              0.6666666666666666,
              "#ed7953"
             ],
             [
              0.7777777777777778,
              "#fb9f3a"
             ],
             [
              0.8888888888888888,
              "#fdca26"
             ],
             [
              1,
              "#f0f921"
             ]
            ],
            "type": "heatmapgl"
           }
          ],
          "histogram": [
           {
            "marker": {
             "pattern": {
              "fillmode": "overlay",
              "size": 10,
              "solidity": 0.2
             }
            },
            "type": "histogram"
           }
          ],
          "histogram2d": [
           {
            "colorbar": {
             "outlinewidth": 0,
             "ticks": ""
            },
            "colorscale": [
             [
              0,
              "#0d0887"
             ],
             [
              0.1111111111111111,
              "#46039f"
             ],
             [
              0.2222222222222222,
              "#7201a8"
             ],
             [
              0.3333333333333333,
              "#9c179e"
             ],
             [
              0.4444444444444444,
              "#bd3786"
             ],
             [
              0.5555555555555556,
              "#d8576b"
             ],
             [
              0.6666666666666666,
              "#ed7953"
             ],
             [
              0.7777777777777778,
              "#fb9f3a"
             ],
             [
              0.8888888888888888,
              "#fdca26"
             ],
             [
              1,
              "#f0f921"
             ]
            ],
            "type": "histogram2d"
           }
          ],
          "histogram2dcontour": [
           {
            "colorbar": {
             "outlinewidth": 0,
             "ticks": ""
            },
            "colorscale": [
             [
              0,
              "#0d0887"
             ],
             [
              0.1111111111111111,
              "#46039f"
             ],
             [
              0.2222222222222222,
              "#7201a8"
             ],
             [
              0.3333333333333333,
              "#9c179e"
             ],
             [
              0.4444444444444444,
              "#bd3786"
             ],
             [
              0.5555555555555556,
              "#d8576b"
             ],
             [
              0.6666666666666666,
              "#ed7953"
             ],
             [
              0.7777777777777778,
              "#fb9f3a"
             ],
             [
              0.8888888888888888,
              "#fdca26"
             ],
             [
              1,
              "#f0f921"
             ]
            ],
            "type": "histogram2dcontour"
           }
          ],
          "mesh3d": [
           {
            "colorbar": {
             "outlinewidth": 0,
             "ticks": ""
            },
            "type": "mesh3d"
           }
          ],
          "parcoords": [
           {
            "line": {
             "colorbar": {
              "outlinewidth": 0,
              "ticks": ""
             }
            },
            "type": "parcoords"
           }
          ],
          "pie": [
           {
            "automargin": true,
            "type": "pie"
           }
          ],
          "scatter": [
           {
            "fillpattern": {
             "fillmode": "overlay",
             "size": 10,
             "solidity": 0.2
            },
            "type": "scatter"
           }
          ],
          "scatter3d": [
           {
            "line": {
             "colorbar": {
              "outlinewidth": 0,
              "ticks": ""
             }
            },
            "marker": {
             "colorbar": {
              "outlinewidth": 0,
              "ticks": ""
             }
            },
            "type": "scatter3d"
           }
          ],
          "scattercarpet": [
           {
            "marker": {
             "colorbar": {
              "outlinewidth": 0,
              "ticks": ""
             }
            },
            "type": "scattercarpet"
           }
          ],
          "scattergeo": [
           {
            "marker": {
             "colorbar": {
              "outlinewidth": 0,
              "ticks": ""
             }
            },
            "type": "scattergeo"
           }
          ],
          "scattergl": [
           {
            "marker": {
             "colorbar": {
              "outlinewidth": 0,
              "ticks": ""
             }
            },
            "type": "scattergl"
           }
          ],
          "scattermapbox": [
           {
            "marker": {
             "colorbar": {
              "outlinewidth": 0,
              "ticks": ""
             }
            },
            "type": "scattermapbox"
           }
          ],
          "scatterpolar": [
           {
            "marker": {
             "colorbar": {
              "outlinewidth": 0,
              "ticks": ""
             }
            },
            "type": "scatterpolar"
           }
          ],
          "scatterpolargl": [
           {
            "marker": {
             "colorbar": {
              "outlinewidth": 0,
              "ticks": ""
             }
            },
            "type": "scatterpolargl"
           }
          ],
          "scatterternary": [
           {
            "marker": {
             "colorbar": {
              "outlinewidth": 0,
              "ticks": ""
             }
            },
            "type": "scatterternary"
           }
          ],
          "surface": [
           {
            "colorbar": {
             "outlinewidth": 0,
             "ticks": ""
            },
            "colorscale": [
             [
              0,
              "#0d0887"
             ],
             [
              0.1111111111111111,
              "#46039f"
             ],
             [
              0.2222222222222222,
              "#7201a8"
             ],
             [
              0.3333333333333333,
              "#9c179e"
             ],
             [
              0.4444444444444444,
              "#bd3786"
             ],
             [
              0.5555555555555556,
              "#d8576b"
             ],
             [
              0.6666666666666666,
              "#ed7953"
             ],
             [
              0.7777777777777778,
              "#fb9f3a"
             ],
             [
              0.8888888888888888,
              "#fdca26"
             ],
             [
              1,
              "#f0f921"
             ]
            ],
            "type": "surface"
           }
          ],
          "table": [
           {
            "cells": {
             "fill": {
              "color": "#EBF0F8"
             },
             "line": {
              "color": "white"
             }
            },
            "header": {
             "fill": {
              "color": "#C8D4E3"
             },
             "line": {
              "color": "white"
             }
            },
            "type": "table"
           }
          ]
         },
         "layout": {
          "annotationdefaults": {
           "arrowcolor": "#2a3f5f",
           "arrowhead": 0,
           "arrowwidth": 1
          },
          "autotypenumbers": "strict",
          "coloraxis": {
           "colorbar": {
            "outlinewidth": 0,
            "ticks": ""
           }
          },
          "colorscale": {
           "diverging": [
            [
             0,
             "#8e0152"
            ],
            [
             0.1,
             "#c51b7d"
            ],
            [
             0.2,
             "#de77ae"
            ],
            [
             0.3,
             "#f1b6da"
            ],
            [
             0.4,
             "#fde0ef"
            ],
            [
             0.5,
             "#f7f7f7"
            ],
            [
             0.6,
             "#e6f5d0"
            ],
            [
             0.7,
             "#b8e186"
            ],
            [
             0.8,
             "#7fbc41"
            ],
            [
             0.9,
             "#4d9221"
            ],
            [
             1,
             "#276419"
            ]
           ],
           "sequential": [
            [
             0,
             "#0d0887"
            ],
            [
             0.1111111111111111,
             "#46039f"
            ],
            [
             0.2222222222222222,
             "#7201a8"
            ],
            [
             0.3333333333333333,
             "#9c179e"
            ],
            [
             0.4444444444444444,
             "#bd3786"
            ],
            [
             0.5555555555555556,
             "#d8576b"
            ],
            [
             0.6666666666666666,
             "#ed7953"
            ],
            [
             0.7777777777777778,
             "#fb9f3a"
            ],
            [
             0.8888888888888888,
             "#fdca26"
            ],
            [
             1,
             "#f0f921"
            ]
           ],
           "sequentialminus": [
            [
             0,
             "#0d0887"
            ],
            [
             0.1111111111111111,
             "#46039f"
            ],
            [
             0.2222222222222222,
             "#7201a8"
            ],
            [
             0.3333333333333333,
             "#9c179e"
            ],
            [
             0.4444444444444444,
             "#bd3786"
            ],
            [
             0.5555555555555556,
             "#d8576b"
            ],
            [
             0.6666666666666666,
             "#ed7953"
            ],
            [
             0.7777777777777778,
             "#fb9f3a"
            ],
            [
             0.8888888888888888,
             "#fdca26"
            ],
            [
             1,
             "#f0f921"
            ]
           ]
          },
          "colorway": [
           "#636efa",
           "#EF553B",
           "#00cc96",
           "#ab63fa",
           "#FFA15A",
           "#19d3f3",
           "#FF6692",
           "#B6E880",
           "#FF97FF",
           "#FECB52"
          ],
          "font": {
           "color": "#2a3f5f"
          },
          "geo": {
           "bgcolor": "white",
           "lakecolor": "white",
           "landcolor": "#E5ECF6",
           "showlakes": true,
           "showland": true,
           "subunitcolor": "white"
          },
          "hoverlabel": {
           "align": "left"
          },
          "hovermode": "closest",
          "mapbox": {
           "style": "light"
          },
          "paper_bgcolor": "white",
          "plot_bgcolor": "#E5ECF6",
          "polar": {
           "angularaxis": {
            "gridcolor": "white",
            "linecolor": "white",
            "ticks": ""
           },
           "bgcolor": "#E5ECF6",
           "radialaxis": {
            "gridcolor": "white",
            "linecolor": "white",
            "ticks": ""
           }
          },
          "scene": {
           "xaxis": {
            "backgroundcolor": "#E5ECF6",
            "gridcolor": "white",
            "gridwidth": 2,
            "linecolor": "white",
            "showbackground": true,
            "ticks": "",
            "zerolinecolor": "white"
           },
           "yaxis": {
            "backgroundcolor": "#E5ECF6",
            "gridcolor": "white",
            "gridwidth": 2,
            "linecolor": "white",
            "showbackground": true,
            "ticks": "",
            "zerolinecolor": "white"
           },
           "zaxis": {
            "backgroundcolor": "#E5ECF6",
            "gridcolor": "white",
            "gridwidth": 2,
            "linecolor": "white",
            "showbackground": true,
            "ticks": "",
            "zerolinecolor": "white"
           }
          },
          "shapedefaults": {
           "line": {
            "color": "#2a3f5f"
           }
          },
          "ternary": {
           "aaxis": {
            "gridcolor": "white",
            "linecolor": "white",
            "ticks": ""
           },
           "baxis": {
            "gridcolor": "white",
            "linecolor": "white",
            "ticks": ""
           },
           "bgcolor": "#E5ECF6",
           "caxis": {
            "gridcolor": "white",
            "linecolor": "white",
            "ticks": ""
           }
          },
          "title": {
           "x": 0.05
          },
          "xaxis": {
           "automargin": true,
           "gridcolor": "white",
           "linecolor": "white",
           "ticks": "",
           "title": {
            "standoff": 15
           },
           "zerolinecolor": "white",
           "zerolinewidth": 2
          },
          "yaxis": {
           "automargin": true,
           "gridcolor": "white",
           "linecolor": "white",
           "ticks": "",
           "title": {
            "standoff": 15
           },
           "zerolinecolor": "white",
           "zerolinewidth": 2
          }
         }
        }
       }
      },
      "image/png": "[encoded data removed]",
      "text/html": [
       "<div>                            <div id=\"74ac5a9f-e7c7-42d3-b343-1a0da457761b\" class=\"plotly-graph-div\" style=\"height:525px; width:100%;\"></div>            <script type=\"text/javascript\">                require([\"plotly\"], function(Plotly) {                    window.PLOTLYENV=window.PLOTLYENV || {};                                    if (document.getElementById(\"74ac5a9f-e7c7-42d3-b343-1a0da457761b\")) {                    Plotly.newPlot(                        \"74ac5a9f-e7c7-42d3-b343-1a0da457761b\",                        [{\"hovertemplate\":\"UMAP_1=%{x}\\u003cbr\\u003eUMAP_2=%{y}\\u003cbr\\u003eUMAP_3=%{z}\\u003cbr\\u003en_shared_pathways=%{marker.color}\\u003cextra\\u003e\\u003c\\u002fextra\\u003e\",\"legendgroup\":\"\",\"marker\":{\"color\":[3,3,3,3,3,3,3,3,3,3,3,3,3,3,3,3,3,3,3,3,3,3,3,3,3,3,3,3,3,3,3,3,3,3,3,3,3,3,3,3,3,3,3,3,3,3,3,3,3,3,3,3,3,3,3,3,3,3,3,3,3,3,3,3,3,3,3,3,3,3,3,3,3,3,3,3,3,3,3,3,3,3,3,0,3,3,3,3,3,3,3,0,3,3,3,3,3,3,3,3,3,3,3,3,3,3,3,3,3,0,3,3,3,3,3,3,3,3,3,3,3,3,0,3,3,3,3,3,3,3,3,3,3,3,3,3,3,3,3,3,3,3,3,3,3,3,3,3,3,3,3,3,3,3,3,3,3,3,3,3,3,3,3,3,3,3,3,3,3,3,3,3,3,3,3,3,3,3,3],\"coloraxis\":\"coloraxis\",\"symbol\":\"circle\"},\"mode\":\"markers\",\"name\":\"\",\"scene\":\"scene\",\"showlegend\":false,\"x\":[-8.70659,-8.385098,-10.994657,-12.827366,-8.338942,-9.166602,-14.1857605,-14.288954,-13.019667,-14.379957,-12.851828,-13.300767,-14.629727,-11.353004,-13.608473,-8.964898,-13.178285,-9.176907,-7.4197974,-12.598175,-9.361956,-11.768797,-12.271893,-13.912229,-8.685851,-7.9337626,-14.424511,-7.854728,-14.265137,-12.121581,-11.702352,-8.599542,-13.270259,-11.461669,-12.567421,-8.891474,-11.678427,-7.8834486,-13.133933,-13.689099,-13.905363,-13.6220665,-13.759396,-11.929593,-14.222125,-12.66827,-14.27631,-11.969208,-14.058936,-14.3297,-10.6254425,-8.896501,-13.706511,-9.522654,-13.187907,-12.633886,-13.826833,-11.3243685,-10.460548,-12.166875,-9.752247,-10.905396,-10.449393,-9.228863,-12.8629,-12.510227,-14.176377,-8.30087,-13.233881,-9.590434,-13.117164,-8.355772,-13.209128,-8.0801935,-14.075494,-9.076794,-10.880152,-12.784448,-12.883123,-7.6088276,-10.121434,-10.138157,-7.727833,-10.505473,-8.873432,-12.069153,-10.31155,-11.045613,-7.2207537,-12.451155,-8.884623,-10.979033,-13.450495,-9.553054,-9.057186,-8.3186,-12.389643,-8.997505,-9.567068,-7.6692796,-10.360472,-8.534021,-8.093336,-13.121558,-10.008904,-10.595599,-11.6420355,-11.098546,-10.727823,-10.603705,-7.238394,-9.724405,-12.908751,-10.451512,-8.419782,-11.963795,-8.802778,-9.239193,-12.40947,-7.7104254,-11.513608,-11.524453,-11.477093,-7.496231,-8.879805,-11.924507,-8.250287,-8.670586,-10.056866,-13.419349,-11.721987,-11.447742,-9.809192,-8.297604,-10.34328,-13.395788,-7.917844,-8.554996,-8.0749035,-9.662219,-12.278099,-7.5998774,-13.640342,-13.237085,-12.419756,-12.912468,-7.5737343,-12.033741,-12.830339,-13.959719,-12.528081,-8.821654,-14.184619,-8.171914,-8.78551,-12.862005,-9.155558,-12.187794,-10.107294,-7.445251,-8.384049,-8.245955,-8.624535,-8.311607,-8.606229,-12.14118,-12.958587,-12.752535,-13.847917,-8.447171,-9.823241,-12.205538,-12.530409,-12.873357,-12.352021,-12.926116,-13.097774,-11.015943,-9.192891],\"y\":[10.838828,10.157232,12.135944,14.101365,10.65748,10.422293,15.909178,16.222057,13.416742,16.149057,13.520847,13.928448,15.990077,12.609996,16.360807,10.697436,14.369344,9.531397,9.253028,13.868993,10.967809,13.413617,13.676649,15.616937,9.906218,9.605036,15.462991,8.897244,15.768254,13.204786,12.745054,10.744093,15.329692,12.938051,13.883452,10.973586,13.197475,10.5105295,13.203859,15.722364,15.787847,14.806615,15.97832,12.813271,15.310866,14.747203,15.548805,13.643495,14.592131,15.250739,12.322993,9.767768,14.495096,10.473645,13.113059,13.462946,15.839543,13.265707,12.351382,12.8493185,10.896143,11.934726,11.626194,9.938976,13.164668,12.763488,14.985211,10.436596,13.598838,12.299887,15.718104,9.064485,14.79469,9.338826,14.755124,9.730393,13.561731,14.722894,15.188444,9.57762,11.182341,10.56318,10.046953,13.6134205,10.29674,12.890952,12.766212,13.922281,9.572552,14.306242,10.028891,14.065711,14.335361,12.100718,10.410784,10.529895,15.222737,10.947483,10.818042,8.8793545,10.913079,9.480775,9.36514,15.820652,10.383457,11.544584,14.186982,13.406337,11.452644,13.766299,9.0701475,11.08702,15.994041,12.500291,10.109282,14.78213,8.940549,11.852076,14.767968,10.08271,14.558479,12.444375,14.204379,9.334856,9.409383,14.494032,8.721885,10.317526,10.551475,14.919957,14.0833025,13.779243,12.74134,10.105588,13.058103,15.368392,9.739242,11.574663,10.770734,10.039128,16.340757,10.339417,16.360806,16.62415,16.575914,16.697136,10.320597,15.700141,15.865645,14.84638,16.2896,12.024722,16.33562,11.72427,11.934809,13.060186,11.583085,15.457825,11.507476,9.852985,11.700938,11.264781,9.3733,12.02757,8.960052,16.105831,15.798356,16.605103,16.138351,9.338079,11.1637125,15.435303,16.520733,16.242813,15.842627,16.575638,15.9003525,12.402901,11.08581],\"z\":[20.172602,19.880642,19.335888,18.850868,20.569912,20.517046,18.523905,17.279984,18.61728,17.902462,18.28434,18.80282,17.753311,18.269562,17.873512,20.057064,18.18712,19.753225,19.788935,19.289665,20.547937,18.904676,18.641298,18.138868,20.431831,20.246948,18.610695,19.759388,17.515837,17.880331,19.24974,20.576162,18.233652,19.458073,18.387587,20.82285,19.148546,19.669367,18.805656,18.201202,18.366816,18.954485,17.553226,18.255634,18.285456,18.420406,17.402279,19.307432,18.656921,17.256872,19.474186,20.224213,18.379448,20.599936,19.363121,19.267628,18.746782,18.512333,18.266068,18.639551,19.91066,18.249273,20.048151,20.432236,18.50866,19.401787,18.544022,20.497393,18.93306,18.700125,17.630613,19.837059,17.353054,19.360176,17.185669,18.336615,17.06274,17.117907,16.440226,20.10122,18.051737,18.55458,19.970022,17.677898,19.513483,17.608643,17.852545,17.251635,19.639725,16.951693,17.83126,17.746246,19.056704,18.185863,18.012733,18.336031,17.228329,17.898127,18.531084,19.367052,18.587877,18.579927,18.460806,17.058664,19.09634,18.03579,16.817665,16.64686,18.524616,17.841644,19.433805,18.260624,18.115004,17.31342,18.727835,17.526922,18.876657,18.40573,17.595598,18.440313,17.239813,17.496988,17.864527,18.770887,19.1631,17.776297,19.517456,17.715286,19.09154,17.697697,16.826086,17.400883,18.281382,18.342676,17.568798,17.382944,18.7669,20.089434,19.953451,19.834959,17.09955,19.429018,18.205997,17.246542,17.446295,17.398535,19.059423,17.895157,16.483162,18.519646,17.840513,19.271662,17.960054,19.135757,19.66037,19.169298,19.94493,16.713274,19.63059,19.413313,19.183813,19.598814,18.614424,19.64553,19.24159,17.5213,16.257078,16.543488,16.859041,19.48056,19.197924,18.249006,16.77175,16.642239,16.301931,18.049465,18.460516,17.834612,19.522535],\"type\":\"scatter3d\"}],                        {\"template\":{\"data\":{\"histogram2dcontour\":[{\"type\":\"histogram2dcontour\",\"colorbar\":{\"outlinewidth\":0,\"ticks\":\"\"},\"colorscale\":[[0.0,\"#0d0887\"],[0.1111111111111111,\"#46039f\"],[0.2222222222222222,\"#7201a8\"],[0.3333333333333333,\"#9c179e\"],[0.4444444444444444,\"#bd3786\"],[0.5555555555555556,\"#d8576b\"],[0.6666666666666666,\"#ed7953\"],[0.7777777777777778,\"#fb9f3a\"],[0.8888888888888888,\"#fdca26\"],[1.0,\"#f0f921\"]]}],\"choropleth\":[{\"type\":\"choropleth\",\"colorbar\":{\"outlinewidth\":0,\"ticks\":\"\"}}],\"histogram2d\":[{\"type\":\"histogram2d\",\"colorbar\":{\"outlinewidth\":0,\"ticks\":\"\"},\"colorscale\":[[0.0,\"#0d0887\"],[0.1111111111111111,\"#46039f\"],[0.2222222222222222,\"#7201a8\"],[0.3333333333333333,\"#9c179e\"],[0.4444444444444444,\"#bd3786\"],[0.5555555555555556,\"#d8576b\"],[0.6666666666666666,\"#ed7953\"],[0.7777777777777778,\"#fb9f3a\"],[0.8888888888888888,\"#fdca26\"],[1.0,\"#f0f921\"]]}],\"heatmap\":[{\"type\":\"heatmap\",\"colorbar\":{\"outlinewidth\":0,\"ticks\":\"\"},\"colorscale\":[[0.0,\"#0d0887\"],[0.1111111111111111,\"#46039f\"],[0.2222222222222222,\"#7201a8\"],[0.3333333333333333,\"#9c179e\"],[0.4444444444444444,\"#bd3786\"],[0.5555555555555556,\"#d8576b\"],[0.6666666666666666,\"#ed7953\"],[0.7777777777777778,\"#fb9f3a\"],[0.8888888888888888,\"#fdca26\"],[1.0,\"#f0f921\"]]}],\"heatmapgl\":[{\"type\":\"heatmapgl\",\"colorbar\":{\"outlinewidth\":0,\"ticks\":\"\"},\"colorscale\":[[0.0,\"#0d0887\"],[0.1111111111111111,\"#46039f\"],[0.2222222222222222,\"#7201a8\"],[0.3333333333333333,\"#9c179e\"],[0.4444444444444444,\"#bd3786\"],[0.5555555555555556,\"#d8576b\"],[0.6666666666666666,\"#ed7953\"],[0.7777777777777778,\"#fb9f3a\"],[0.8888888888888888,\"#fdca26\"],[1.0,\"#f0f921\"]]}],\"contourcarpet\":[{\"type\":\"contourcarpet\",\"colorbar\":{\"outlinewidth\":0,\"ticks\":\"\"}}],\"contour\":[{\"type\":\"contour\",\"colorbar\":{\"outlinewidth\":0,\"ticks\":\"\"},\"colorscale\":[[0.0,\"#0d0887\"],[0.1111111111111111,\"#46039f\"],[0.2222222222222222,\"#7201a8\"],[0.3333333333333333,\"#9c179e\"],[0.4444444444444444,\"#bd3786\"],[0.5555555555555556,\"#d8576b\"],[0.6666666666666666,\"#ed7953\"],[0.7777777777777778,\"#fb9f3a\"],[0.8888888888888888,\"#fdca26\"],[1.0,\"#f0f921\"]]}],\"surface\":[{\"type\":\"surface\",\"colorbar\":{\"outlinewidth\":0,\"ticks\":\"\"},\"colorscale\":[[0.0,\"#0d0887\"],[0.1111111111111111,\"#46039f\"],[0.2222222222222222,\"#7201a8\"],[0.3333333333333333,\"#9c179e\"],[0.4444444444444444,\"#bd3786\"],[0.5555555555555556,\"#d8576b\"],[0.6666666666666666,\"#ed7953\"],[0.7777777777777778,\"#fb9f3a\"],[0.8888888888888888,\"#fdca26\"],[1.0,\"#f0f921\"]]}],\"mesh3d\":[{\"type\":\"mesh3d\",\"colorbar\":{\"outlinewidth\":0,\"ticks\":\"\"}}],\"scatter\":[{\"fillpattern\":{\"fillmode\":\"overlay\",\"size\":10,\"solidity\":0.2},\"type\":\"scatter\"}],\"parcoords\":[{\"type\":\"parcoords\",\"line\":{\"colorbar\":{\"outlinewidth\":0,\"ticks\":\"\"}}}],\"scatterpolargl\":[{\"type\":\"scatterpolargl\",\"marker\":{\"colorbar\":{\"outlinewidth\":0,\"ticks\":\"\"}}}],\"bar\":[{\"error_x\":{\"color\":\"#2a3f5f\"},\"error_y\":{\"color\":\"#2a3f5f\"},\"marker\":{\"line\":{\"color\":\"#E5ECF6\",\"width\":0.5},\"pattern\":{\"fillmode\":\"overlay\",\"size\":10,\"solidity\":0.2}},\"type\":\"bar\"}],\"scattergeo\":[{\"type\":\"scattergeo\",\"marker\":{\"colorbar\":{\"outlinewidth\":0,\"ticks\":\"\"}}}],\"scatterpolar\":[{\"type\":\"scatterpolar\",\"marker\":{\"colorbar\":{\"outlinewidth\":0,\"ticks\":\"\"}}}],\"histogram\":[{\"marker\":{\"pattern\":{\"fillmode\":\"overlay\",\"size\":10,\"solidity\":0.2}},\"type\":\"histogram\"}],\"scattergl\":[{\"type\":\"scattergl\",\"marker\":{\"colorbar\":{\"outlinewidth\":0,\"ticks\":\"\"}}}],\"scatter3d\":[{\"type\":\"scatter3d\",\"line\":{\"colorbar\":{\"outlinewidth\":0,\"ticks\":\"\"}},\"marker\":{\"colorbar\":{\"outlinewidth\":0,\"ticks\":\"\"}}}],\"scattermapbox\":[{\"type\":\"scattermapbox\",\"marker\":{\"colorbar\":{\"outlinewidth\":0,\"ticks\":\"\"}}}],\"scatterternary\":[{\"type\":\"scatterternary\",\"marker\":{\"colorbar\":{\"outlinewidth\":0,\"ticks\":\"\"}}}],\"scattercarpet\":[{\"type\":\"scattercarpet\",\"marker\":{\"colorbar\":{\"outlinewidth\":0,\"ticks\":\"\"}}}],\"carpet\":[{\"aaxis\":{\"endlinecolor\":\"#2a3f5f\",\"gridcolor\":\"white\",\"linecolor\":\"white\",\"minorgridcolor\":\"white\",\"startlinecolor\":\"#2a3f5f\"},\"baxis\":{\"endlinecolor\":\"#2a3f5f\",\"gridcolor\":\"white\",\"linecolor\":\"white\",\"minorgridcolor\":\"white\",\"startlinecolor\":\"#2a3f5f\"},\"type\":\"carpet\"}],\"table\":[{\"cells\":{\"fill\":{\"color\":\"#EBF0F8\"},\"line\":{\"color\":\"white\"}},\"header\":{\"fill\":{\"color\":\"#C8D4E3\"},\"line\":{\"color\":\"white\"}},\"type\":\"table\"}],\"barpolar\":[{\"marker\":{\"line\":{\"color\":\"#E5ECF6\",\"width\":0.5},\"pattern\":{\"fillmode\":\"overlay\",\"size\":10,\"solidity\":0.2}},\"type\":\"barpolar\"}],\"pie\":[{\"automargin\":true,\"type\":\"pie\"}]},\"layout\":{\"autotypenumbers\":\"strict\",\"colorway\":[\"#636efa\",\"#EF553B\",\"#00cc96\",\"#ab63fa\",\"#FFA15A\",\"#19d3f3\",\"#FF6692\",\"#B6E880\",\"#FF97FF\",\"#FECB52\"],\"font\":{\"color\":\"#2a3f5f\"},\"hovermode\":\"closest\",\"hoverlabel\":{\"align\":\"left\"},\"paper_bgcolor\":\"white\",\"plot_bgcolor\":\"#E5ECF6\",\"polar\":{\"bgcolor\":\"#E5ECF6\",\"angularaxis\":{\"gridcolor\":\"white\",\"linecolor\":\"white\",\"ticks\":\"\"},\"radialaxis\":{\"gridcolor\":\"white\",\"linecolor\":\"white\",\"ticks\":\"\"}},\"ternary\":{\"bgcolor\":\"#E5ECF6\",\"aaxis\":{\"gridcolor\":\"white\",\"linecolor\":\"white\",\"ticks\":\"\"},\"baxis\":{\"gridcolor\":\"white\",\"linecolor\":\"white\",\"ticks\":\"\"},\"caxis\":{\"gridcolor\":\"white\",\"linecolor\":\"white\",\"ticks\":\"\"}},\"coloraxis\":{\"colorbar\":{\"outlinewidth\":0,\"ticks\":\"\"}},\"colorscale\":{\"sequential\":[[0.0,\"#0d0887\"],[0.1111111111111111,\"#46039f\"],[0.2222222222222222,\"#7201a8\"],[0.3333333333333333,\"#9c179e\"],[0.4444444444444444,\"#bd3786\"],[0.5555555555555556,\"#d8576b\"],[0.6666666666666666,\"#ed7953\"],[0.7777777777777778,\"#fb9f3a\"],[0.8888888888888888,\"#fdca26\"],[1.0,\"#f0f921\"]],\"sequentialminus\":[[0.0,\"#0d0887\"],[0.1111111111111111,\"#46039f\"],[0.2222222222222222,\"#7201a8\"],[0.3333333333333333,\"#9c179e\"],[0.4444444444444444,\"#bd3786\"],[0.5555555555555556,\"#d8576b\"],[0.6666666666666666,\"#ed7953\"],[0.7777777777777778,\"#fb9f3a\"],[0.8888888888888888,\"#fdca26\"],[1.0,\"#f0f921\"]],\"diverging\":[[0,\"#8e0152\"],[0.1,\"#c51b7d\"],[0.2,\"#de77ae\"],[0.3,\"#f1b6da\"],[0.4,\"#fde0ef\"],[0.5,\"#f7f7f7\"],[0.6,\"#e6f5d0\"],[0.7,\"#b8e186\"],[0.8,\"#7fbc41\"],[0.9,\"#4d9221\"],[1,\"#276419\"]]},\"xaxis\":{\"gridcolor\":\"white\",\"linecolor\":\"white\",\"ticks\":\"\",\"title\":{\"standoff\":15},\"zerolinecolor\":\"white\",\"automargin\":true,\"zerolinewidth\":2},\"yaxis\":{\"gridcolor\":\"white\",\"linecolor\":\"white\",\"ticks\":\"\",\"title\":{\"standoff\":15},\"zerolinecolor\":\"white\",\"automargin\":true,\"zerolinewidth\":2},\"scene\":{\"xaxis\":{\"backgroundcolor\":\"#E5ECF6\",\"gridcolor\":\"white\",\"linecolor\":\"white\",\"showbackground\":true,\"ticks\":\"\",\"zerolinecolor\":\"white\",\"gridwidth\":2},\"yaxis\":{\"backgroundcolor\":\"#E5ECF6\",\"gridcolor\":\"white\",\"linecolor\":\"white\",\"showbackground\":true,\"ticks\":\"\",\"zerolinecolor\":\"white\",\"gridwidth\":2},\"zaxis\":{\"backgroundcolor\":\"#E5ECF6\",\"gridcolor\":\"white\",\"linecolor\":\"white\",\"showbackground\":true,\"ticks\":\"\",\"zerolinecolor\":\"white\",\"gridwidth\":2}},\"shapedefaults\":{\"line\":{\"color\":\"#2a3f5f\"}},\"annotationdefaults\":{\"arrowcolor\":\"#2a3f5f\",\"arrowhead\":0,\"arrowwidth\":1},\"geo\":{\"bgcolor\":\"white\",\"landcolor\":\"#E5ECF6\",\"subunitcolor\":\"white\",\"showland\":true,\"showlakes\":true,\"lakecolor\":\"white\"},\"title\":{\"x\":0.05},\"mapbox\":{\"style\":\"light\"}}},\"scene\":{\"domain\":{\"x\":[0.0,1.0],\"y\":[0.0,1.0]},\"xaxis\":{\"title\":{\"text\":\"UMAP_1\"}},\"yaxis\":{\"title\":{\"text\":\"UMAP_2\"}},\"zaxis\":{\"title\":{\"text\":\"UMAP_3\"}}},\"coloraxis\":{\"colorbar\":{\"title\":{\"text\":\"n_shared_pathways\"}},\"colorscale\":[[0.0,\"#0d0887\"],[0.1111111111111111,\"#46039f\"],[0.2222222222222222,\"#7201a8\"],[0.3333333333333333,\"#9c179e\"],[0.4444444444444444,\"#bd3786\"],[0.5555555555555556,\"#d8576b\"],[0.6666666666666666,\"#ed7953\"],[0.7777777777777778,\"#fb9f3a\"],[0.8888888888888888,\"#fdca26\"],[1.0,\"#f0f921\"]],\"cmin\":0,\"cmax\":30},\"legend\":{\"tracegroupgap\":0},\"margin\":{\"t\":60}},                        {\"responsive\": true}                    ).then(function(){\n",
       "                            \n",
       "var gd = document.getElementById('74ac5a9f-e7c7-42d3-b343-1a0da457761b');\n",
       "var x = new MutationObserver(function (mutations, observer) {{\n",
       "        var display = window.getComputedStyle(gd).display;\n",
       "        if (!display || display === 'none') {{\n",
       "            console.log([gd, 'removed!']);\n",
       "            Plotly.purge(gd);\n",
       "            observer.disconnect();\n",
       "        }}\n",
       "}});\n",
       "\n",
       "// Listen for the removal of the full notebook cells\n",
       "var notebookContainer = gd.closest('#notebook-container');\n",
       "if (notebookContainer) {{\n",
       "    x.observe(notebookContainer, {childList: true});\n",
       "}}\n",
       "\n",
       "// Listen for the clearing of the current output cell\n",
       "var outputEl = gd.closest('.output');\n",
       "if (outputEl) {{\n",
       "    x.observe(outputEl, {childList: true});\n",
       "}}\n",
       "\n",
       "                        })                };                });            </script>        </div>"
      ]
     },
     "metadata": {},
     "output_type": "display_data"
    },
    {
     "data": {
      "text/plain": [
       "'./mature_immature.html'"
      ]
     },
     "execution_count": 46,
     "metadata": {},
     "output_type": "execute_result"
    },
    {
     "name": "stdout",
     "output_type": "stream",
     "text": [
      "Opening in existing browser session.\n"
     ]
    }
   ],
   "source": [
    "df = umap_coordinates_and_clusters_mature_immature_concordance\n",
    "fig = px.scatter_3d(df, x='UMAP_1', y='UMAP_2', z='UMAP_3',\n",
    "              color='n_shared_pathways', range_color = [0, 30])\n",
    "fig.show()\n",
    "\n",
    "# Save figure.\n",
    "# Source: https://stackoverflow.com/a/59819140\n",
    "plotly.offline.plot(fig, filename='./mature_immature.html')"
   ]
  },
  {
   "cell_type": "code",
   "execution_count": 47,
   "id": "55cdcb53-bba3-4bc1-aee3-896dad17c5a4",
   "metadata": {},
   "outputs": [],
   "source": [
    "umap_coordinates_and_clusters_maturing_immature_concordance = umap_coordinates_and_clusters.copy()"
   ]
  },
  {
   "cell_type": "code",
   "execution_count": 48,
   "id": "8260cf29-4fe3-4122-9ea6-7139120d1046",
   "metadata": {},
   "outputs": [],
   "source": [
    "umap_coordinates_and_clusters_maturing_immature_concordance['n_shared_pathways'] = 0"
   ]
  },
  {
   "cell_type": "code",
   "execution_count": 49,
   "id": "9c16e2c8-3a32-42d5-aae9-e4f1a13e549a",
   "metadata": {},
   "outputs": [],
   "source": [
    "umap_coordinates_and_clusters_maturing_immature_concordance.loc[umap_coordinates_and_clusters_maturing_immature_concordance.Cluster.isin([0, 2]), 'n_shared_pathways'] = len(maturing_immature)"
   ]
  },
  {
   "cell_type": "code",
   "execution_count": 50,
   "id": "4e4f68d9-be34-470c-9bf1-db22fdcc57e5",
   "metadata": {},
   "outputs": [
    {
     "data": {
      "text/html": [
       "<div>\n",
       "<style scoped>\n",
       "    .dataframe tbody tr th:only-of-type {\n",
       "        vertical-align: middle;\n",
       "    }\n",
       "\n",
       "    .dataframe tbody tr th {\n",
       "        vertical-align: top;\n",
       "    }\n",
       "\n",
       "    .dataframe thead th {\n",
       "        text-align: right;\n",
       "    }\n",
       "</style>\n",
       "<table border=\"1\" class=\"dataframe\">\n",
       "  <thead>\n",
       "    <tr style=\"text-align: right;\">\n",
       "      <th></th>\n",
       "      <th>UMAP_1</th>\n",
       "      <th>UMAP_2</th>\n",
       "      <th>UMAP_3</th>\n",
       "      <th>Cluster</th>\n",
       "      <th>n_shared_pathways</th>\n",
       "    </tr>\n",
       "  </thead>\n",
       "  <tbody>\n",
       "    <tr>\n",
       "      <th>0</th>\n",
       "      <td>-8.706590</td>\n",
       "      <td>10.838828</td>\n",
       "      <td>20.172602</td>\n",
       "      <td>1</td>\n",
       "      <td>0</td>\n",
       "    </tr>\n",
       "    <tr>\n",
       "      <th>1</th>\n",
       "      <td>-8.385098</td>\n",
       "      <td>10.157232</td>\n",
       "      <td>19.880642</td>\n",
       "      <td>1</td>\n",
       "      <td>0</td>\n",
       "    </tr>\n",
       "    <tr>\n",
       "      <th>2</th>\n",
       "      <td>-10.994657</td>\n",
       "      <td>12.135944</td>\n",
       "      <td>19.335888</td>\n",
       "      <td>0</td>\n",
       "      <td>4</td>\n",
       "    </tr>\n",
       "    <tr>\n",
       "      <th>3</th>\n",
       "      <td>-12.827366</td>\n",
       "      <td>14.101365</td>\n",
       "      <td>18.850868</td>\n",
       "      <td>0</td>\n",
       "      <td>4</td>\n",
       "    </tr>\n",
       "    <tr>\n",
       "      <th>4</th>\n",
       "      <td>-8.338942</td>\n",
       "      <td>10.657480</td>\n",
       "      <td>20.569912</td>\n",
       "      <td>1</td>\n",
       "      <td>0</td>\n",
       "    </tr>\n",
       "    <tr>\n",
       "      <th>...</th>\n",
       "      <td>...</td>\n",
       "      <td>...</td>\n",
       "      <td>...</td>\n",
       "      <td>...</td>\n",
       "      <td>...</td>\n",
       "    </tr>\n",
       "    <tr>\n",
       "      <th>174</th>\n",
       "      <td>-12.352021</td>\n",
       "      <td>15.842627</td>\n",
       "      <td>16.301931</td>\n",
       "      <td>0</td>\n",
       "      <td>4</td>\n",
       "    </tr>\n",
       "    <tr>\n",
       "      <th>175</th>\n",
       "      <td>-12.926116</td>\n",
       "      <td>16.575638</td>\n",
       "      <td>18.049465</td>\n",
       "      <td>0</td>\n",
       "      <td>4</td>\n",
       "    </tr>\n",
       "    <tr>\n",
       "      <th>176</th>\n",
       "      <td>-13.097774</td>\n",
       "      <td>15.900353</td>\n",
       "      <td>18.460516</td>\n",
       "      <td>0</td>\n",
       "      <td>4</td>\n",
       "    </tr>\n",
       "    <tr>\n",
       "      <th>177</th>\n",
       "      <td>-11.015943</td>\n",
       "      <td>12.402901</td>\n",
       "      <td>17.834612</td>\n",
       "      <td>0</td>\n",
       "      <td>4</td>\n",
       "    </tr>\n",
       "    <tr>\n",
       "      <th>178</th>\n",
       "      <td>-9.192891</td>\n",
       "      <td>11.085810</td>\n",
       "      <td>19.522535</td>\n",
       "      <td>1</td>\n",
       "      <td>0</td>\n",
       "    </tr>\n",
       "  </tbody>\n",
       "</table>\n",
       "<p>179 rows × 5 columns</p>\n",
       "</div>"
      ],
      "text/plain": [
       "        UMAP_1     UMAP_2     UMAP_3  Cluster  n_shared_pathways\n",
       "0    -8.706590  10.838828  20.172602        1                  0\n",
       "1    -8.385098  10.157232  19.880642        1                  0\n",
       "2   -10.994657  12.135944  19.335888        0                  4\n",
       "3   -12.827366  14.101365  18.850868        0                  4\n",
       "4    -8.338942  10.657480  20.569912        1                  0\n",
       "..         ...        ...        ...      ...                ...\n",
       "174 -12.352021  15.842627  16.301931        0                  4\n",
       "175 -12.926116  16.575638  18.049465        0                  4\n",
       "176 -13.097774  15.900353  18.460516        0                  4\n",
       "177 -11.015943  12.402901  17.834612        0                  4\n",
       "178  -9.192891  11.085810  19.522535        1                  0\n",
       "\n",
       "[179 rows x 5 columns]"
      ]
     },
     "execution_count": 50,
     "metadata": {},
     "output_type": "execute_result"
    }
   ],
   "source": [
    "umap_coordinates_and_clusters_maturing_immature_concordance"
   ]
  },
  {
   "cell_type": "code",
   "execution_count": 51,
   "id": "ab623a0a-e773-48b6-a08e-b05f0628acbd",
   "metadata": {},
   "outputs": [
    {
     "data": {
      "application/vnd.plotly.v1+json": {
       "config": {
        "plotlyServerURL": "https://plot.ly"
       },
       "data": [
        {
         "hovertemplate": "UMAP_1=%{x}<br>UMAP_2=%{y}<br>UMAP_3=%{z}<br>n_shared_pathways=%{marker.color}<extra></extra>",
         "legendgroup": "",
         "marker": {
          "color": [
           0,
           0,
           4,
           4,
           0,
           0,
           4,
           4,
           4,
           4,
           4,
           4,
           4,
           4,
           4,
           0,
           4,
           0,
           0,
           4,
           0,
           4,
           4,
           4,
           0,
           0,
           4,
           0,
           4,
           4,
           4,
           0,
           4,
           4,
           4,
           0,
           4,
           0,
           4,
           4,
           4,
           4,
           4,
           4,
           4,
           4,
           4,
           4,
           4,
           4,
           4,
           0,
           4,
           0,
           4,
           4,
           4,
           4,
           4,
           4,
           0,
           4,
           4,
           0,
           4,
           4,
           4,
           0,
           4,
           0,
           4,
           0,
           4,
           0,
           4,
           0,
           4,
           4,
           4,
           0,
           0,
           0,
           0,
           4,
           0,
           4,
           0,
           4,
           0,
           4,
           0,
           4,
           4,
           0,
           0,
           0,
           4,
           0,
           0,
           0,
           0,
           0,
           0,
           4,
           0,
           0,
           4,
           0,
           0,
           4,
           0,
           0,
           4,
           0,
           0,
           4,
           0,
           0,
           4,
           0,
           4,
           0,
           4,
           0,
           0,
           4,
           0,
           0,
           0,
           4,
           4,
           4,
           0,
           0,
           0,
           4,
           0,
           0,
           0,
           0,
           4,
           0,
           4,
           4,
           4,
           4,
           0,
           4,
           4,
           4,
           4,
           0,
           4,
           0,
           0,
           4,
           0,
           4,
           0,
           0,
           0,
           0,
           0,
           0,
           0,
           4,
           4,
           4,
           4,
           0,
           0,
           4,
           4,
           4,
           4,
           4,
           4,
           4,
           0
          ],
          "coloraxis": "coloraxis",
          "symbol": "circle"
         },
         "mode": "markers",
         "name": "",
         "scene": "scene",
         "showlegend": false,
         "type": "scatter3d",
         "x": [
          -8.70659,
          -8.385098,
          -10.994657,
          -12.827366,
          -8.338942,
          -9.166602,
          -14.1857605,
          -14.288954,
          -13.019667,
          -14.379957,
          -12.851828,
          -13.300767,
          -14.629727,
          -11.353004,
          -13.608473,
          -8.964898,
          -13.178285,
          -9.176907,
          -7.4197974,
          -12.598175,
          -9.361956,
          -11.768797,
          -12.271893,
          -13.912229,
          -8.685851,
          -7.9337626,
          -14.424511,
          -7.854728,
          -14.265137,
          -12.121581,
          -11.702352,
          -8.599542,
          -13.270259,
          -11.461669,
          -12.567421,
          -8.891474,
          -11.678427,
          -7.8834486,
          -13.133933,
          -13.689099,
          -13.905363,
          -13.6220665,
          -13.759396,
          -11.929593,
          -14.222125,
          -12.66827,
          -14.27631,
          -11.969208,
          -14.058936,
          -14.3297,
          -10.6254425,
          -8.896501,
          -13.706511,
          -9.522654,
          -13.187907,
          -12.633886,
          -13.826833,
          -11.3243685,
          -10.460548,
          -12.166875,
          -9.752247,
          -10.905396,
          -10.449393,
          -9.228863,
          -12.8629,
          -12.510227,
          -14.176377,
          -8.30087,
          -13.233881,
          -9.590434,
          -13.117164,
          -8.355772,
          -13.209128,
          -8.0801935,
          -14.075494,
          -9.076794,
          -10.880152,
          -12.784448,
          -12.883123,
          -7.6088276,
          -10.121434,
          -10.138157,
          -7.727833,
          -10.505473,
          -8.873432,
          -12.069153,
          -10.31155,
          -11.045613,
          -7.2207537,
          -12.451155,
          -8.884623,
          -10.979033,
          -13.450495,
          -9.553054,
          -9.057186,
          -8.3186,
          -12.389643,
          -8.997505,
          -9.567068,
          -7.6692796,
          -10.360472,
          -8.534021,
          -8.093336,
          -13.121558,
          -10.008904,
          -10.595599,
          -11.6420355,
          -11.098546,
          -10.727823,
          -10.603705,
          -7.238394,
          -9.724405,
          -12.908751,
          -10.451512,
          -8.419782,
          -11.963795,
          -8.802778,
          -9.239193,
          -12.40947,
          -7.7104254,
          -11.513608,
          -11.524453,
          -11.477093,
          -7.496231,
          -8.879805,
          -11.924507,
          -8.250287,
          -8.670586,
          -10.056866,
          -13.419349,
          -11.721987,
          -11.447742,
          -9.809192,
          -8.297604,
          -10.34328,
          -13.395788,
          -7.917844,
          -8.554996,
          -8.0749035,
          -9.662219,
          -12.278099,
          -7.5998774,
          -13.640342,
          -13.237085,
          -12.419756,
          -12.912468,
          -7.5737343,
          -12.033741,
          -12.830339,
          -13.959719,
          -12.528081,
          -8.821654,
          -14.184619,
          -8.171914,
          -8.78551,
          -12.862005,
          -9.155558,
          -12.187794,
          -10.107294,
          -7.445251,
          -8.384049,
          -8.245955,
          -8.624535,
          -8.311607,
          -8.606229,
          -12.14118,
          -12.958587,
          -12.752535,
          -13.847917,
          -8.447171,
          -9.823241,
          -12.205538,
          -12.530409,
          -12.873357,
          -12.352021,
          -12.926116,
          -13.097774,
          -11.015943,
          -9.192891
         ],
         "y": [
          10.838828,
          10.157232,
          12.135944,
          14.101365,
          10.65748,
          10.422293,
          15.909178,
          16.222057,
          13.416742,
          16.149057,
          13.520847,
          13.928448,
          15.990077,
          12.609996,
          16.360807,
          10.697436,
          14.369344,
          9.531397,
          9.253028,
          13.868993,
          10.967809,
          13.413617,
          13.676649,
          15.616937,
          9.906218,
          9.605036,
          15.462991,
          8.897244,
          15.768254,
          13.204786,
          12.745054,
          10.744093,
          15.329692,
          12.938051,
          13.883452,
          10.973586,
          13.197475,
          10.5105295,
          13.203859,
          15.722364,
          15.787847,
          14.806615,
          15.97832,
          12.813271,
          15.310866,
          14.747203,
          15.548805,
          13.643495,
          14.592131,
          15.250739,
          12.322993,
          9.767768,
          14.495096,
          10.473645,
          13.113059,
          13.462946,
          15.839543,
          13.265707,
          12.351382,
          12.8493185,
          10.896143,
          11.934726,
          11.626194,
          9.938976,
          13.164668,
          12.763488,
          14.985211,
          10.436596,
          13.598838,
          12.299887,
          15.718104,
          9.064485,
          14.79469,
          9.338826,
          14.755124,
          9.730393,
          13.561731,
          14.722894,
          15.188444,
          9.57762,
          11.182341,
          10.56318,
          10.046953,
          13.6134205,
          10.29674,
          12.890952,
          12.766212,
          13.922281,
          9.572552,
          14.306242,
          10.028891,
          14.065711,
          14.335361,
          12.100718,
          10.410784,
          10.529895,
          15.222737,
          10.947483,
          10.818042,
          8.8793545,
          10.913079,
          9.480775,
          9.36514,
          15.820652,
          10.383457,
          11.544584,
          14.186982,
          13.406337,
          11.452644,
          13.766299,
          9.0701475,
          11.08702,
          15.994041,
          12.500291,
          10.109282,
          14.78213,
          8.940549,
          11.852076,
          14.767968,
          10.08271,
          14.558479,
          12.444375,
          14.204379,
          9.334856,
          9.409383,
          14.494032,
          8.721885,
          10.317526,
          10.551475,
          14.919957,
          14.0833025,
          13.779243,
          12.74134,
          10.105588,
          13.058103,
          15.368392,
          9.739242,
          11.574663,
          10.770734,
          10.039128,
          16.340757,
          10.339417,
          16.360806,
          16.62415,
          16.575914,
          16.697136,
          10.320597,
          15.700141,
          15.865645,
          14.84638,
          16.2896,
          12.024722,
          16.33562,
          11.72427,
          11.934809,
          13.060186,
          11.583085,
          15.457825,
          11.507476,
          9.852985,
          11.700938,
          11.264781,
          9.3733,
          12.02757,
          8.960052,
          16.105831,
          15.798356,
          16.605103,
          16.138351,
          9.338079,
          11.1637125,
          15.435303,
          16.520733,
          16.242813,
          15.842627,
          16.575638,
          15.9003525,
          12.402901,
          11.08581
         ],
         "z": [
          20.172602,
          19.880642,
          19.335888,
          18.850868,
          20.569912,
          20.517046,
          18.523905,
          17.279984,
          18.61728,
          17.902462,
          18.28434,
          18.80282,
          17.753311,
          18.269562,
          17.873512,
          20.057064,
          18.18712,
          19.753225,
          19.788935,
          19.289665,
          20.547937,
          18.904676,
          18.641298,
          18.138868,
          20.431831,
          20.246948,
          18.610695,
          19.759388,
          17.515837,
          17.880331,
          19.24974,
          20.576162,
          18.233652,
          19.458073,
          18.387587,
          20.82285,
          19.148546,
          19.669367,
          18.805656,
          18.201202,
          18.366816,
          18.954485,
          17.553226,
          18.255634,
          18.285456,
          18.420406,
          17.402279,
          19.307432,
          18.656921,
          17.256872,
          19.474186,
          20.224213,
          18.379448,
          20.599936,
          19.363121,
          19.267628,
          18.746782,
          18.512333,
          18.266068,
          18.639551,
          19.91066,
          18.249273,
          20.048151,
          20.432236,
          18.50866,
          19.401787,
          18.544022,
          20.497393,
          18.93306,
          18.700125,
          17.630613,
          19.837059,
          17.353054,
          19.360176,
          17.185669,
          18.336615,
          17.06274,
          17.117907,
          16.440226,
          20.10122,
          18.051737,
          18.55458,
          19.970022,
          17.677898,
          19.513483,
          17.608643,
          17.852545,
          17.251635,
          19.639725,
          16.951693,
          17.83126,
          17.746246,
          19.056704,
          18.185863,
          18.012733,
          18.336031,
          17.228329,
          17.898127,
          18.531084,
          19.367052,
          18.587877,
          18.579927,
          18.460806,
          17.058664,
          19.09634,
          18.03579,
          16.817665,
          16.64686,
          18.524616,
          17.841644,
          19.433805,
          18.260624,
          18.115004,
          17.31342,
          18.727835,
          17.526922,
          18.876657,
          18.40573,
          17.595598,
          18.440313,
          17.239813,
          17.496988,
          17.864527,
          18.770887,
          19.1631,
          17.776297,
          19.517456,
          17.715286,
          19.09154,
          17.697697,
          16.826086,
          17.400883,
          18.281382,
          18.342676,
          17.568798,
          17.382944,
          18.7669,
          20.089434,
          19.953451,
          19.834959,
          17.09955,
          19.429018,
          18.205997,
          17.246542,
          17.446295,
          17.398535,
          19.059423,
          17.895157,
          16.483162,
          18.519646,
          17.840513,
          19.271662,
          17.960054,
          19.135757,
          19.66037,
          19.169298,
          19.94493,
          16.713274,
          19.63059,
          19.413313,
          19.183813,
          19.598814,
          18.614424,
          19.64553,
          19.24159,
          17.5213,
          16.257078,
          16.543488,
          16.859041,
          19.48056,
          19.197924,
          18.249006,
          16.77175,
          16.642239,
          16.301931,
          18.049465,
          18.460516,
          17.834612,
          19.522535
         ]
        }
       ],
       "layout": {
        "autosize": true,
        "coloraxis": {
         "cmax": 30,
         "cmin": 0,
         "colorbar": {
          "title": {
           "text": "n_shared_pathways"
          }
         },
         "colorscale": [
          [
           0,
           "#0d0887"
          ],
          [
           0.1111111111111111,
           "#46039f"
          ],
          [
           0.2222222222222222,
           "#7201a8"
          ],
          [
           0.3333333333333333,
           "#9c179e"
          ],
          [
           0.4444444444444444,
           "#bd3786"
          ],
          [
           0.5555555555555556,
           "#d8576b"
          ],
          [
           0.6666666666666666,
           "#ed7953"
          ],
          [
           0.7777777777777778,
           "#fb9f3a"
          ],
          [
           0.8888888888888888,
           "#fdca26"
          ],
          [
           1,
           "#f0f921"
          ]
         ]
        },
        "legend": {
         "tracegroupgap": 0
        },
        "margin": {
         "t": 60
        },
        "scene": {
         "aspectmode": "auto",
         "aspectratio": {
          "x": 1.1466190676714667,
          "y": 1.2342566906086614,
          "z": 0.7066027939175441
         },
         "domain": {
          "x": [
           0,
           1
          ],
          "y": [
           0,
           1
          ]
         },
         "xaxis": {
          "title": {
           "text": "UMAP_1"
          },
          "type": "linear"
         },
         "yaxis": {
          "title": {
           "text": "UMAP_2"
          },
          "type": "linear"
         },
         "zaxis": {
          "title": {
           "text": "UMAP_3"
          },
          "type": "linear"
         }
        },
        "template": {
         "data": {
          "bar": [
           {
            "error_x": {
             "color": "#2a3f5f"
            },
            "error_y": {
             "color": "#2a3f5f"
            },
            "marker": {
             "line": {
              "color": "#E5ECF6",
              "width": 0.5
             },
             "pattern": {
              "fillmode": "overlay",
              "size": 10,
              "solidity": 0.2
             }
            },
            "type": "bar"
           }
          ],
          "barpolar": [
           {
            "marker": {
             "line": {
              "color": "#E5ECF6",
              "width": 0.5
             },
             "pattern": {
              "fillmode": "overlay",
              "size": 10,
              "solidity": 0.2
             }
            },
            "type": "barpolar"
           }
          ],
          "carpet": [
           {
            "aaxis": {
             "endlinecolor": "#2a3f5f",
             "gridcolor": "white",
             "linecolor": "white",
             "minorgridcolor": "white",
             "startlinecolor": "#2a3f5f"
            },
            "baxis": {
             "endlinecolor": "#2a3f5f",
             "gridcolor": "white",
             "linecolor": "white",
             "minorgridcolor": "white",
             "startlinecolor": "#2a3f5f"
            },
            "type": "carpet"
           }
          ],
          "choropleth": [
           {
            "colorbar": {
             "outlinewidth": 0,
             "ticks": ""
            },
            "type": "choropleth"
           }
          ],
          "contour": [
           {
            "colorbar": {
             "outlinewidth": 0,
             "ticks": ""
            },
            "colorscale": [
             [
              0,
              "#0d0887"
             ],
             [
              0.1111111111111111,
              "#46039f"
             ],
             [
              0.2222222222222222,
              "#7201a8"
             ],
             [
              0.3333333333333333,
              "#9c179e"
             ],
             [
              0.4444444444444444,
              "#bd3786"
             ],
             [
              0.5555555555555556,
              "#d8576b"
             ],
             [
              0.6666666666666666,
              "#ed7953"
             ],
             [
              0.7777777777777778,
              "#fb9f3a"
             ],
             [
              0.8888888888888888,
              "#fdca26"
             ],
             [
              1,
              "#f0f921"
             ]
            ],
            "type": "contour"
           }
          ],
          "contourcarpet": [
           {
            "colorbar": {
             "outlinewidth": 0,
             "ticks": ""
            },
            "type": "contourcarpet"
           }
          ],
          "heatmap": [
           {
            "colorbar": {
             "outlinewidth": 0,
             "ticks": ""
            },
            "colorscale": [
             [
              0,
              "#0d0887"
             ],
             [
              0.1111111111111111,
              "#46039f"
             ],
             [
              0.2222222222222222,
              "#7201a8"
             ],
             [
              0.3333333333333333,
              "#9c179e"
             ],
             [
              0.4444444444444444,
              "#bd3786"
             ],
             [
              0.5555555555555556,
              "#d8576b"
             ],
             [
              0.6666666666666666,
              "#ed7953"
             ],
             [
              0.7777777777777778,
              "#fb9f3a"
             ],
             [
              0.8888888888888888,
              "#fdca26"
             ],
             [
              1,
              "#f0f921"
             ]
            ],
            "type": "heatmap"
           }
          ],
          "heatmapgl": [
           {
            "colorbar": {
             "outlinewidth": 0,
             "ticks": ""
            },
            "colorscale": [
             [
              0,
              "#0d0887"
             ],
             [
              0.1111111111111111,
              "#46039f"
             ],
             [
              0.2222222222222222,
              "#7201a8"
             ],
             [
              0.3333333333333333,
              "#9c179e"
             ],
             [
              0.4444444444444444,
              "#bd3786"
             ],
             [
              0.5555555555555556,
              "#d8576b"
             ],
             [
              0.6666666666666666,
              "#ed7953"
             ],
             [
              0.7777777777777778,
              "#fb9f3a"
             ],
             [
              0.8888888888888888,
              "#fdca26"
             ],
             [
              1,
              "#f0f921"
             ]
            ],
            "type": "heatmapgl"
           }
          ],
          "histogram": [
           {
            "marker": {
             "pattern": {
              "fillmode": "overlay",
              "size": 10,
              "solidity": 0.2
             }
            },
            "type": "histogram"
           }
          ],
          "histogram2d": [
           {
            "colorbar": {
             "outlinewidth": 0,
             "ticks": ""
            },
            "colorscale": [
             [
              0,
              "#0d0887"
             ],
             [
              0.1111111111111111,
              "#46039f"
             ],
             [
              0.2222222222222222,
              "#7201a8"
             ],
             [
              0.3333333333333333,
              "#9c179e"
             ],
             [
              0.4444444444444444,
              "#bd3786"
             ],
             [
              0.5555555555555556,
              "#d8576b"
             ],
             [
              0.6666666666666666,
              "#ed7953"
             ],
             [
              0.7777777777777778,
              "#fb9f3a"
             ],
             [
              0.8888888888888888,
              "#fdca26"
             ],
             [
              1,
              "#f0f921"
             ]
            ],
            "type": "histogram2d"
           }
          ],
          "histogram2dcontour": [
           {
            "colorbar": {
             "outlinewidth": 0,
             "ticks": ""
            },
            "colorscale": [
             [
              0,
              "#0d0887"
             ],
             [
              0.1111111111111111,
              "#46039f"
             ],
             [
              0.2222222222222222,
              "#7201a8"
             ],
             [
              0.3333333333333333,
              "#9c179e"
             ],
             [
              0.4444444444444444,
              "#bd3786"
             ],
             [
              0.5555555555555556,
              "#d8576b"
             ],
             [
              0.6666666666666666,
              "#ed7953"
             ],
             [
              0.7777777777777778,
              "#fb9f3a"
             ],
             [
              0.8888888888888888,
              "#fdca26"
             ],
             [
              1,
              "#f0f921"
             ]
            ],
            "type": "histogram2dcontour"
           }
          ],
          "mesh3d": [
           {
            "colorbar": {
             "outlinewidth": 0,
             "ticks": ""
            },
            "type": "mesh3d"
           }
          ],
          "parcoords": [
           {
            "line": {
             "colorbar": {
              "outlinewidth": 0,
              "ticks": ""
             }
            },
            "type": "parcoords"
           }
          ],
          "pie": [
           {
            "automargin": true,
            "type": "pie"
           }
          ],
          "scatter": [
           {
            "fillpattern": {
             "fillmode": "overlay",
             "size": 10,
             "solidity": 0.2
            },
            "type": "scatter"
           }
          ],
          "scatter3d": [
           {
            "line": {
             "colorbar": {
              "outlinewidth": 0,
              "ticks": ""
             }
            },
            "marker": {
             "colorbar": {
              "outlinewidth": 0,
              "ticks": ""
             }
            },
            "type": "scatter3d"
           }
          ],
          "scattercarpet": [
           {
            "marker": {
             "colorbar": {
              "outlinewidth": 0,
              "ticks": ""
             }
            },
            "type": "scattercarpet"
           }
          ],
          "scattergeo": [
           {
            "marker": {
             "colorbar": {
              "outlinewidth": 0,
              "ticks": ""
             }
            },
            "type": "scattergeo"
           }
          ],
          "scattergl": [
           {
            "marker": {
             "colorbar": {
              "outlinewidth": 0,
              "ticks": ""
             }
            },
            "type": "scattergl"
           }
          ],
          "scattermapbox": [
           {
            "marker": {
             "colorbar": {
              "outlinewidth": 0,
              "ticks": ""
             }
            },
            "type": "scattermapbox"
           }
          ],
          "scatterpolar": [
           {
            "marker": {
             "colorbar": {
              "outlinewidth": 0,
              "ticks": ""
             }
            },
            "type": "scatterpolar"
           }
          ],
          "scatterpolargl": [
           {
            "marker": {
             "colorbar": {
              "outlinewidth": 0,
              "ticks": ""
             }
            },
            "type": "scatterpolargl"
           }
          ],
          "scatterternary": [
           {
            "marker": {
             "colorbar": {
              "outlinewidth": 0,
              "ticks": ""
             }
            },
            "type": "scatterternary"
           }
          ],
          "surface": [
           {
            "colorbar": {
             "outlinewidth": 0,
             "ticks": ""
            },
            "colorscale": [
             [
              0,
              "#0d0887"
             ],
             [
              0.1111111111111111,
              "#46039f"
             ],
             [
              0.2222222222222222,
              "#7201a8"
             ],
             [
              0.3333333333333333,
              "#9c179e"
             ],
             [
              0.4444444444444444,
              "#bd3786"
             ],
             [
              0.5555555555555556,
              "#d8576b"
             ],
             [
              0.6666666666666666,
              "#ed7953"
             ],
             [
              0.7777777777777778,
              "#fb9f3a"
             ],
             [
              0.8888888888888888,
              "#fdca26"
             ],
             [
              1,
              "#f0f921"
             ]
            ],
            "type": "surface"
           }
          ],
          "table": [
           {
            "cells": {
             "fill": {
              "color": "#EBF0F8"
             },
             "line": {
              "color": "white"
             }
            },
            "header": {
             "fill": {
              "color": "#C8D4E3"
             },
             "line": {
              "color": "white"
             }
            },
            "type": "table"
           }
          ]
         },
         "layout": {
          "annotationdefaults": {
           "arrowcolor": "#2a3f5f",
           "arrowhead": 0,
           "arrowwidth": 1
          },
          "autotypenumbers": "strict",
          "coloraxis": {
           "colorbar": {
            "outlinewidth": 0,
            "ticks": ""
           }
          },
          "colorscale": {
           "diverging": [
            [
             0,
             "#8e0152"
            ],
            [
             0.1,
             "#c51b7d"
            ],
            [
             0.2,
             "#de77ae"
            ],
            [
             0.3,
             "#f1b6da"
            ],
            [
             0.4,
             "#fde0ef"
            ],
            [
             0.5,
             "#f7f7f7"
            ],
            [
             0.6,
             "#e6f5d0"
            ],
            [
             0.7,
             "#b8e186"
            ],
            [
             0.8,
             "#7fbc41"
            ],
            [
             0.9,
             "#4d9221"
            ],
            [
             1,
             "#276419"
            ]
           ],
           "sequential": [
            [
             0,
             "#0d0887"
            ],
            [
             0.1111111111111111,
             "#46039f"
            ],
            [
             0.2222222222222222,
             "#7201a8"
            ],
            [
             0.3333333333333333,
             "#9c179e"
            ],
            [
             0.4444444444444444,
             "#bd3786"
            ],
            [
             0.5555555555555556,
             "#d8576b"
            ],
            [
             0.6666666666666666,
             "#ed7953"
            ],
            [
             0.7777777777777778,
             "#fb9f3a"
            ],
            [
             0.8888888888888888,
             "#fdca26"
            ],
            [
             1,
             "#f0f921"
            ]
           ],
           "sequentialminus": [
            [
             0,
             "#0d0887"
            ],
            [
             0.1111111111111111,
             "#46039f"
            ],
            [
             0.2222222222222222,
             "#7201a8"
            ],
            [
             0.3333333333333333,
             "#9c179e"
            ],
            [
             0.4444444444444444,
             "#bd3786"
            ],
            [
             0.5555555555555556,
             "#d8576b"
            ],
            [
             0.6666666666666666,
             "#ed7953"
            ],
            [
             0.7777777777777778,
             "#fb9f3a"
            ],
            [
             0.8888888888888888,
             "#fdca26"
            ],
            [
             1,
             "#f0f921"
            ]
           ]
          },
          "colorway": [
           "#636efa",
           "#EF553B",
           "#00cc96",
           "#ab63fa",
           "#FFA15A",
           "#19d3f3",
           "#FF6692",
           "#B6E880",
           "#FF97FF",
           "#FECB52"
          ],
          "font": {
           "color": "#2a3f5f"
          },
          "geo": {
           "bgcolor": "white",
           "lakecolor": "white",
           "landcolor": "#E5ECF6",
           "showlakes": true,
           "showland": true,
           "subunitcolor": "white"
          },
          "hoverlabel": {
           "align": "left"
          },
          "hovermode": "closest",
          "mapbox": {
           "style": "light"
          },
          "paper_bgcolor": "white",
          "plot_bgcolor": "#E5ECF6",
          "polar": {
           "angularaxis": {
            "gridcolor": "white",
            "linecolor": "white",
            "ticks": ""
           },
           "bgcolor": "#E5ECF6",
           "radialaxis": {
            "gridcolor": "white",
            "linecolor": "white",
            "ticks": ""
           }
          },
          "scene": {
           "xaxis": {
            "backgroundcolor": "#E5ECF6",
            "gridcolor": "white",
            "gridwidth": 2,
            "linecolor": "white",
            "showbackground": true,
            "ticks": "",
            "zerolinecolor": "white"
           },
           "yaxis": {
            "backgroundcolor": "#E5ECF6",
            "gridcolor": "white",
            "gridwidth": 2,
            "linecolor": "white",
            "showbackground": true,
            "ticks": "",
            "zerolinecolor": "white"
           },
           "zaxis": {
            "backgroundcolor": "#E5ECF6",
            "gridcolor": "white",
            "gridwidth": 2,
            "linecolor": "white",
            "showbackground": true,
            "ticks": "",
            "zerolinecolor": "white"
           }
          },
          "shapedefaults": {
           "line": {
            "color": "#2a3f5f"
           }
          },
          "ternary": {
           "aaxis": {
            "gridcolor": "white",
            "linecolor": "white",
            "ticks": ""
           },
           "baxis": {
            "gridcolor": "white",
            "linecolor": "white",
            "ticks": ""
           },
           "bgcolor": "#E5ECF6",
           "caxis": {
            "gridcolor": "white",
            "linecolor": "white",
            "ticks": ""
           }
          },
          "title": {
           "x": 0.05
          },
          "xaxis": {
           "automargin": true,
           "gridcolor": "white",
           "linecolor": "white",
           "ticks": "",
           "title": {
            "standoff": 15
           },
           "zerolinecolor": "white",
           "zerolinewidth": 2
          },
          "yaxis": {
           "automargin": true,
           "gridcolor": "white",
           "linecolor": "white",
           "ticks": "",
           "title": {
            "standoff": 15
           },
           "zerolinecolor": "white",
           "zerolinewidth": 2
          }
         }
        }
       }
      },
      "image/png": "[encoded data removed]",
      "text/html": [
       "<div>                            <div id=\"68c78766-c84c-4c4a-b2ee-777165073482\" class=\"plotly-graph-div\" style=\"height:525px; width:100%;\"></div>            <script type=\"text/javascript\">                require([\"plotly\"], function(Plotly) {                    window.PLOTLYENV=window.PLOTLYENV || {};                                    if (document.getElementById(\"68c78766-c84c-4c4a-b2ee-777165073482\")) {                    Plotly.newPlot(                        \"68c78766-c84c-4c4a-b2ee-777165073482\",                        [{\"hovertemplate\":\"UMAP_1=%{x}\\u003cbr\\u003eUMAP_2=%{y}\\u003cbr\\u003eUMAP_3=%{z}\\u003cbr\\u003en_shared_pathways=%{marker.color}\\u003cextra\\u003e\\u003c\\u002fextra\\u003e\",\"legendgroup\":\"\",\"marker\":{\"color\":[0,0,4,4,0,0,4,4,4,4,4,4,4,4,4,0,4,0,0,4,0,4,4,4,0,0,4,0,4,4,4,0,4,4,4,0,4,0,4,4,4,4,4,4,4,4,4,4,4,4,4,0,4,0,4,4,4,4,4,4,0,4,4,0,4,4,4,0,4,0,4,0,4,0,4,0,4,4,4,0,0,0,0,4,0,4,0,4,0,4,0,4,4,0,0,0,4,0,0,0,0,0,0,4,0,0,4,0,0,4,0,0,4,0,0,4,0,0,4,0,4,0,4,0,0,4,0,0,0,4,4,4,0,0,0,4,0,0,0,0,4,0,4,4,4,4,0,4,4,4,4,0,4,0,0,4,0,4,0,0,0,0,0,0,0,4,4,4,4,0,0,4,4,4,4,4,4,4,0],\"coloraxis\":\"coloraxis\",\"symbol\":\"circle\"},\"mode\":\"markers\",\"name\":\"\",\"scene\":\"scene\",\"showlegend\":false,\"x\":[-8.70659,-8.385098,-10.994657,-12.827366,-8.338942,-9.166602,-14.1857605,-14.288954,-13.019667,-14.379957,-12.851828,-13.300767,-14.629727,-11.353004,-13.608473,-8.964898,-13.178285,-9.176907,-7.4197974,-12.598175,-9.361956,-11.768797,-12.271893,-13.912229,-8.685851,-7.9337626,-14.424511,-7.854728,-14.265137,-12.121581,-11.702352,-8.599542,-13.270259,-11.461669,-12.567421,-8.891474,-11.678427,-7.8834486,-13.133933,-13.689099,-13.905363,-13.6220665,-13.759396,-11.929593,-14.222125,-12.66827,-14.27631,-11.969208,-14.058936,-14.3297,-10.6254425,-8.896501,-13.706511,-9.522654,-13.187907,-12.633886,-13.826833,-11.3243685,-10.460548,-12.166875,-9.752247,-10.905396,-10.449393,-9.228863,-12.8629,-12.510227,-14.176377,-8.30087,-13.233881,-9.590434,-13.117164,-8.355772,-13.209128,-8.0801935,-14.075494,-9.076794,-10.880152,-12.784448,-12.883123,-7.6088276,-10.121434,-10.138157,-7.727833,-10.505473,-8.873432,-12.069153,-10.31155,-11.045613,-7.2207537,-12.451155,-8.884623,-10.979033,-13.450495,-9.553054,-9.057186,-8.3186,-12.389643,-8.997505,-9.567068,-7.6692796,-10.360472,-8.534021,-8.093336,-13.121558,-10.008904,-10.595599,-11.6420355,-11.098546,-10.727823,-10.603705,-7.238394,-9.724405,-12.908751,-10.451512,-8.419782,-11.963795,-8.802778,-9.239193,-12.40947,-7.7104254,-11.513608,-11.524453,-11.477093,-7.496231,-8.879805,-11.924507,-8.250287,-8.670586,-10.056866,-13.419349,-11.721987,-11.447742,-9.809192,-8.297604,-10.34328,-13.395788,-7.917844,-8.554996,-8.0749035,-9.662219,-12.278099,-7.5998774,-13.640342,-13.237085,-12.419756,-12.912468,-7.5737343,-12.033741,-12.830339,-13.959719,-12.528081,-8.821654,-14.184619,-8.171914,-8.78551,-12.862005,-9.155558,-12.187794,-10.107294,-7.445251,-8.384049,-8.245955,-8.624535,-8.311607,-8.606229,-12.14118,-12.958587,-12.752535,-13.847917,-8.447171,-9.823241,-12.205538,-12.530409,-12.873357,-12.352021,-12.926116,-13.097774,-11.015943,-9.192891],\"y\":[10.838828,10.157232,12.135944,14.101365,10.65748,10.422293,15.909178,16.222057,13.416742,16.149057,13.520847,13.928448,15.990077,12.609996,16.360807,10.697436,14.369344,9.531397,9.253028,13.868993,10.967809,13.413617,13.676649,15.616937,9.906218,9.605036,15.462991,8.897244,15.768254,13.204786,12.745054,10.744093,15.329692,12.938051,13.883452,10.973586,13.197475,10.5105295,13.203859,15.722364,15.787847,14.806615,15.97832,12.813271,15.310866,14.747203,15.548805,13.643495,14.592131,15.250739,12.322993,9.767768,14.495096,10.473645,13.113059,13.462946,15.839543,13.265707,12.351382,12.8493185,10.896143,11.934726,11.626194,9.938976,13.164668,12.763488,14.985211,10.436596,13.598838,12.299887,15.718104,9.064485,14.79469,9.338826,14.755124,9.730393,13.561731,14.722894,15.188444,9.57762,11.182341,10.56318,10.046953,13.6134205,10.29674,12.890952,12.766212,13.922281,9.572552,14.306242,10.028891,14.065711,14.335361,12.100718,10.410784,10.529895,15.222737,10.947483,10.818042,8.8793545,10.913079,9.480775,9.36514,15.820652,10.383457,11.544584,14.186982,13.406337,11.452644,13.766299,9.0701475,11.08702,15.994041,12.500291,10.109282,14.78213,8.940549,11.852076,14.767968,10.08271,14.558479,12.444375,14.204379,9.334856,9.409383,14.494032,8.721885,10.317526,10.551475,14.919957,14.0833025,13.779243,12.74134,10.105588,13.058103,15.368392,9.739242,11.574663,10.770734,10.039128,16.340757,10.339417,16.360806,16.62415,16.575914,16.697136,10.320597,15.700141,15.865645,14.84638,16.2896,12.024722,16.33562,11.72427,11.934809,13.060186,11.583085,15.457825,11.507476,9.852985,11.700938,11.264781,9.3733,12.02757,8.960052,16.105831,15.798356,16.605103,16.138351,9.338079,11.1637125,15.435303,16.520733,16.242813,15.842627,16.575638,15.9003525,12.402901,11.08581],\"z\":[20.172602,19.880642,19.335888,18.850868,20.569912,20.517046,18.523905,17.279984,18.61728,17.902462,18.28434,18.80282,17.753311,18.269562,17.873512,20.057064,18.18712,19.753225,19.788935,19.289665,20.547937,18.904676,18.641298,18.138868,20.431831,20.246948,18.610695,19.759388,17.515837,17.880331,19.24974,20.576162,18.233652,19.458073,18.387587,20.82285,19.148546,19.669367,18.805656,18.201202,18.366816,18.954485,17.553226,18.255634,18.285456,18.420406,17.402279,19.307432,18.656921,17.256872,19.474186,20.224213,18.379448,20.599936,19.363121,19.267628,18.746782,18.512333,18.266068,18.639551,19.91066,18.249273,20.048151,20.432236,18.50866,19.401787,18.544022,20.497393,18.93306,18.700125,17.630613,19.837059,17.353054,19.360176,17.185669,18.336615,17.06274,17.117907,16.440226,20.10122,18.051737,18.55458,19.970022,17.677898,19.513483,17.608643,17.852545,17.251635,19.639725,16.951693,17.83126,17.746246,19.056704,18.185863,18.012733,18.336031,17.228329,17.898127,18.531084,19.367052,18.587877,18.579927,18.460806,17.058664,19.09634,18.03579,16.817665,16.64686,18.524616,17.841644,19.433805,18.260624,18.115004,17.31342,18.727835,17.526922,18.876657,18.40573,17.595598,18.440313,17.239813,17.496988,17.864527,18.770887,19.1631,17.776297,19.517456,17.715286,19.09154,17.697697,16.826086,17.400883,18.281382,18.342676,17.568798,17.382944,18.7669,20.089434,19.953451,19.834959,17.09955,19.429018,18.205997,17.246542,17.446295,17.398535,19.059423,17.895157,16.483162,18.519646,17.840513,19.271662,17.960054,19.135757,19.66037,19.169298,19.94493,16.713274,19.63059,19.413313,19.183813,19.598814,18.614424,19.64553,19.24159,17.5213,16.257078,16.543488,16.859041,19.48056,19.197924,18.249006,16.77175,16.642239,16.301931,18.049465,18.460516,17.834612,19.522535],\"type\":\"scatter3d\"}],                        {\"template\":{\"data\":{\"histogram2dcontour\":[{\"type\":\"histogram2dcontour\",\"colorbar\":{\"outlinewidth\":0,\"ticks\":\"\"},\"colorscale\":[[0.0,\"#0d0887\"],[0.1111111111111111,\"#46039f\"],[0.2222222222222222,\"#7201a8\"],[0.3333333333333333,\"#9c179e\"],[0.4444444444444444,\"#bd3786\"],[0.5555555555555556,\"#d8576b\"],[0.6666666666666666,\"#ed7953\"],[0.7777777777777778,\"#fb9f3a\"],[0.8888888888888888,\"#fdca26\"],[1.0,\"#f0f921\"]]}],\"choropleth\":[{\"type\":\"choropleth\",\"colorbar\":{\"outlinewidth\":0,\"ticks\":\"\"}}],\"histogram2d\":[{\"type\":\"histogram2d\",\"colorbar\":{\"outlinewidth\":0,\"ticks\":\"\"},\"colorscale\":[[0.0,\"#0d0887\"],[0.1111111111111111,\"#46039f\"],[0.2222222222222222,\"#7201a8\"],[0.3333333333333333,\"#9c179e\"],[0.4444444444444444,\"#bd3786\"],[0.5555555555555556,\"#d8576b\"],[0.6666666666666666,\"#ed7953\"],[0.7777777777777778,\"#fb9f3a\"],[0.8888888888888888,\"#fdca26\"],[1.0,\"#f0f921\"]]}],\"heatmap\":[{\"type\":\"heatmap\",\"colorbar\":{\"outlinewidth\":0,\"ticks\":\"\"},\"colorscale\":[[0.0,\"#0d0887\"],[0.1111111111111111,\"#46039f\"],[0.2222222222222222,\"#7201a8\"],[0.3333333333333333,\"#9c179e\"],[0.4444444444444444,\"#bd3786\"],[0.5555555555555556,\"#d8576b\"],[0.6666666666666666,\"#ed7953\"],[0.7777777777777778,\"#fb9f3a\"],[0.8888888888888888,\"#fdca26\"],[1.0,\"#f0f921\"]]}],\"heatmapgl\":[{\"type\":\"heatmapgl\",\"colorbar\":{\"outlinewidth\":0,\"ticks\":\"\"},\"colorscale\":[[0.0,\"#0d0887\"],[0.1111111111111111,\"#46039f\"],[0.2222222222222222,\"#7201a8\"],[0.3333333333333333,\"#9c179e\"],[0.4444444444444444,\"#bd3786\"],[0.5555555555555556,\"#d8576b\"],[0.6666666666666666,\"#ed7953\"],[0.7777777777777778,\"#fb9f3a\"],[0.8888888888888888,\"#fdca26\"],[1.0,\"#f0f921\"]]}],\"contourcarpet\":[{\"type\":\"contourcarpet\",\"colorbar\":{\"outlinewidth\":0,\"ticks\":\"\"}}],\"contour\":[{\"type\":\"contour\",\"colorbar\":{\"outlinewidth\":0,\"ticks\":\"\"},\"colorscale\":[[0.0,\"#0d0887\"],[0.1111111111111111,\"#46039f\"],[0.2222222222222222,\"#7201a8\"],[0.3333333333333333,\"#9c179e\"],[0.4444444444444444,\"#bd3786\"],[0.5555555555555556,\"#d8576b\"],[0.6666666666666666,\"#ed7953\"],[0.7777777777777778,\"#fb9f3a\"],[0.8888888888888888,\"#fdca26\"],[1.0,\"#f0f921\"]]}],\"surface\":[{\"type\":\"surface\",\"colorbar\":{\"outlinewidth\":0,\"ticks\":\"\"},\"colorscale\":[[0.0,\"#0d0887\"],[0.1111111111111111,\"#46039f\"],[0.2222222222222222,\"#7201a8\"],[0.3333333333333333,\"#9c179e\"],[0.4444444444444444,\"#bd3786\"],[0.5555555555555556,\"#d8576b\"],[0.6666666666666666,\"#ed7953\"],[0.7777777777777778,\"#fb9f3a\"],[0.8888888888888888,\"#fdca26\"],[1.0,\"#f0f921\"]]}],\"mesh3d\":[{\"type\":\"mesh3d\",\"colorbar\":{\"outlinewidth\":0,\"ticks\":\"\"}}],\"scatter\":[{\"fillpattern\":{\"fillmode\":\"overlay\",\"size\":10,\"solidity\":0.2},\"type\":\"scatter\"}],\"parcoords\":[{\"type\":\"parcoords\",\"line\":{\"colorbar\":{\"outlinewidth\":0,\"ticks\":\"\"}}}],\"scatterpolargl\":[{\"type\":\"scatterpolargl\",\"marker\":{\"colorbar\":{\"outlinewidth\":0,\"ticks\":\"\"}}}],\"bar\":[{\"error_x\":{\"color\":\"#2a3f5f\"},\"error_y\":{\"color\":\"#2a3f5f\"},\"marker\":{\"line\":{\"color\":\"#E5ECF6\",\"width\":0.5},\"pattern\":{\"fillmode\":\"overlay\",\"size\":10,\"solidity\":0.2}},\"type\":\"bar\"}],\"scattergeo\":[{\"type\":\"scattergeo\",\"marker\":{\"colorbar\":{\"outlinewidth\":0,\"ticks\":\"\"}}}],\"scatterpolar\":[{\"type\":\"scatterpolar\",\"marker\":{\"colorbar\":{\"outlinewidth\":0,\"ticks\":\"\"}}}],\"histogram\":[{\"marker\":{\"pattern\":{\"fillmode\":\"overlay\",\"size\":10,\"solidity\":0.2}},\"type\":\"histogram\"}],\"scattergl\":[{\"type\":\"scattergl\",\"marker\":{\"colorbar\":{\"outlinewidth\":0,\"ticks\":\"\"}}}],\"scatter3d\":[{\"type\":\"scatter3d\",\"line\":{\"colorbar\":{\"outlinewidth\":0,\"ticks\":\"\"}},\"marker\":{\"colorbar\":{\"outlinewidth\":0,\"ticks\":\"\"}}}],\"scattermapbox\":[{\"type\":\"scattermapbox\",\"marker\":{\"colorbar\":{\"outlinewidth\":0,\"ticks\":\"\"}}}],\"scatterternary\":[{\"type\":\"scatterternary\",\"marker\":{\"colorbar\":{\"outlinewidth\":0,\"ticks\":\"\"}}}],\"scattercarpet\":[{\"type\":\"scattercarpet\",\"marker\":{\"colorbar\":{\"outlinewidth\":0,\"ticks\":\"\"}}}],\"carpet\":[{\"aaxis\":{\"endlinecolor\":\"#2a3f5f\",\"gridcolor\":\"white\",\"linecolor\":\"white\",\"minorgridcolor\":\"white\",\"startlinecolor\":\"#2a3f5f\"},\"baxis\":{\"endlinecolor\":\"#2a3f5f\",\"gridcolor\":\"white\",\"linecolor\":\"white\",\"minorgridcolor\":\"white\",\"startlinecolor\":\"#2a3f5f\"},\"type\":\"carpet\"}],\"table\":[{\"cells\":{\"fill\":{\"color\":\"#EBF0F8\"},\"line\":{\"color\":\"white\"}},\"header\":{\"fill\":{\"color\":\"#C8D4E3\"},\"line\":{\"color\":\"white\"}},\"type\":\"table\"}],\"barpolar\":[{\"marker\":{\"line\":{\"color\":\"#E5ECF6\",\"width\":0.5},\"pattern\":{\"fillmode\":\"overlay\",\"size\":10,\"solidity\":0.2}},\"type\":\"barpolar\"}],\"pie\":[{\"automargin\":true,\"type\":\"pie\"}]},\"layout\":{\"autotypenumbers\":\"strict\",\"colorway\":[\"#636efa\",\"#EF553B\",\"#00cc96\",\"#ab63fa\",\"#FFA15A\",\"#19d3f3\",\"#FF6692\",\"#B6E880\",\"#FF97FF\",\"#FECB52\"],\"font\":{\"color\":\"#2a3f5f\"},\"hovermode\":\"closest\",\"hoverlabel\":{\"align\":\"left\"},\"paper_bgcolor\":\"white\",\"plot_bgcolor\":\"#E5ECF6\",\"polar\":{\"bgcolor\":\"#E5ECF6\",\"angularaxis\":{\"gridcolor\":\"white\",\"linecolor\":\"white\",\"ticks\":\"\"},\"radialaxis\":{\"gridcolor\":\"white\",\"linecolor\":\"white\",\"ticks\":\"\"}},\"ternary\":{\"bgcolor\":\"#E5ECF6\",\"aaxis\":{\"gridcolor\":\"white\",\"linecolor\":\"white\",\"ticks\":\"\"},\"baxis\":{\"gridcolor\":\"white\",\"linecolor\":\"white\",\"ticks\":\"\"},\"caxis\":{\"gridcolor\":\"white\",\"linecolor\":\"white\",\"ticks\":\"\"}},\"coloraxis\":{\"colorbar\":{\"outlinewidth\":0,\"ticks\":\"\"}},\"colorscale\":{\"sequential\":[[0.0,\"#0d0887\"],[0.1111111111111111,\"#46039f\"],[0.2222222222222222,\"#7201a8\"],[0.3333333333333333,\"#9c179e\"],[0.4444444444444444,\"#bd3786\"],[0.5555555555555556,\"#d8576b\"],[0.6666666666666666,\"#ed7953\"],[0.7777777777777778,\"#fb9f3a\"],[0.8888888888888888,\"#fdca26\"],[1.0,\"#f0f921\"]],\"sequentialminus\":[[0.0,\"#0d0887\"],[0.1111111111111111,\"#46039f\"],[0.2222222222222222,\"#7201a8\"],[0.3333333333333333,\"#9c179e\"],[0.4444444444444444,\"#bd3786\"],[0.5555555555555556,\"#d8576b\"],[0.6666666666666666,\"#ed7953\"],[0.7777777777777778,\"#fb9f3a\"],[0.8888888888888888,\"#fdca26\"],[1.0,\"#f0f921\"]],\"diverging\":[[0,\"#8e0152\"],[0.1,\"#c51b7d\"],[0.2,\"#de77ae\"],[0.3,\"#f1b6da\"],[0.4,\"#fde0ef\"],[0.5,\"#f7f7f7\"],[0.6,\"#e6f5d0\"],[0.7,\"#b8e186\"],[0.8,\"#7fbc41\"],[0.9,\"#4d9221\"],[1,\"#276419\"]]},\"xaxis\":{\"gridcolor\":\"white\",\"linecolor\":\"white\",\"ticks\":\"\",\"title\":{\"standoff\":15},\"zerolinecolor\":\"white\",\"automargin\":true,\"zerolinewidth\":2},\"yaxis\":{\"gridcolor\":\"white\",\"linecolor\":\"white\",\"ticks\":\"\",\"title\":{\"standoff\":15},\"zerolinecolor\":\"white\",\"automargin\":true,\"zerolinewidth\":2},\"scene\":{\"xaxis\":{\"backgroundcolor\":\"#E5ECF6\",\"gridcolor\":\"white\",\"linecolor\":\"white\",\"showbackground\":true,\"ticks\":\"\",\"zerolinecolor\":\"white\",\"gridwidth\":2},\"yaxis\":{\"backgroundcolor\":\"#E5ECF6\",\"gridcolor\":\"white\",\"linecolor\":\"white\",\"showbackground\":true,\"ticks\":\"\",\"zerolinecolor\":\"white\",\"gridwidth\":2},\"zaxis\":{\"backgroundcolor\":\"#E5ECF6\",\"gridcolor\":\"white\",\"linecolor\":\"white\",\"showbackground\":true,\"ticks\":\"\",\"zerolinecolor\":\"white\",\"gridwidth\":2}},\"shapedefaults\":{\"line\":{\"color\":\"#2a3f5f\"}},\"annotationdefaults\":{\"arrowcolor\":\"#2a3f5f\",\"arrowhead\":0,\"arrowwidth\":1},\"geo\":{\"bgcolor\":\"white\",\"landcolor\":\"#E5ECF6\",\"subunitcolor\":\"white\",\"showland\":true,\"showlakes\":true,\"lakecolor\":\"white\"},\"title\":{\"x\":0.05},\"mapbox\":{\"style\":\"light\"}}},\"scene\":{\"domain\":{\"x\":[0.0,1.0],\"y\":[0.0,1.0]},\"xaxis\":{\"title\":{\"text\":\"UMAP_1\"}},\"yaxis\":{\"title\":{\"text\":\"UMAP_2\"}},\"zaxis\":{\"title\":{\"text\":\"UMAP_3\"}}},\"coloraxis\":{\"colorbar\":{\"title\":{\"text\":\"n_shared_pathways\"}},\"colorscale\":[[0.0,\"#0d0887\"],[0.1111111111111111,\"#46039f\"],[0.2222222222222222,\"#7201a8\"],[0.3333333333333333,\"#9c179e\"],[0.4444444444444444,\"#bd3786\"],[0.5555555555555556,\"#d8576b\"],[0.6666666666666666,\"#ed7953\"],[0.7777777777777778,\"#fb9f3a\"],[0.8888888888888888,\"#fdca26\"],[1.0,\"#f0f921\"]],\"cmin\":0,\"cmax\":30},\"legend\":{\"tracegroupgap\":0},\"margin\":{\"t\":60}},                        {\"responsive\": true}                    ).then(function(){\n",
       "                            \n",
       "var gd = document.getElementById('68c78766-c84c-4c4a-b2ee-777165073482');\n",
       "var x = new MutationObserver(function (mutations, observer) {{\n",
       "        var display = window.getComputedStyle(gd).display;\n",
       "        if (!display || display === 'none') {{\n",
       "            console.log([gd, 'removed!']);\n",
       "            Plotly.purge(gd);\n",
       "            observer.disconnect();\n",
       "        }}\n",
       "}});\n",
       "\n",
       "// Listen for the removal of the full notebook cells\n",
       "var notebookContainer = gd.closest('#notebook-container');\n",
       "if (notebookContainer) {{\n",
       "    x.observe(notebookContainer, {childList: true});\n",
       "}}\n",
       "\n",
       "// Listen for the clearing of the current output cell\n",
       "var outputEl = gd.closest('.output');\n",
       "if (outputEl) {{\n",
       "    x.observe(outputEl, {childList: true});\n",
       "}}\n",
       "\n",
       "                        })                };                });            </script>        </div>"
      ]
     },
     "metadata": {},
     "output_type": "display_data"
    },
    {
     "data": {
      "text/plain": [
       "'./maturing_immature.html'"
      ]
     },
     "execution_count": 51,
     "metadata": {},
     "output_type": "execute_result"
    },
    {
     "name": "stdout",
     "output_type": "stream",
     "text": [
      "Opening in existing browser session.\n"
     ]
    }
   ],
   "source": [
    "df = umap_coordinates_and_clusters_maturing_immature_concordance\n",
    "fig = px.scatter_3d(df, x='UMAP_1', y='UMAP_2', z='UMAP_3',\n",
    "              color='n_shared_pathways', range_color = [0, 30])\n",
    "fig.show()\n",
    "\n",
    "# Save figure.\n",
    "# Source: https://stackoverflow.com/a/59819140\n",
    "plotly.offline.plot(fig, filename='./maturing_immature.html')"
   ]
  },
  {
   "cell_type": "code",
   "execution_count": 52,
   "id": "1c1e5f73-e47c-4019-937c-24962a648734",
   "metadata": {},
   "outputs": [],
   "source": [
    "umap_coordinates_and_clusters_maturing_mature_concordance = umap_coordinates_and_clusters.copy()"
   ]
  },
  {
   "cell_type": "code",
   "execution_count": 53,
   "id": "8b95f5f1-8f43-4c59-95dd-d52abbf3b620",
   "metadata": {},
   "outputs": [],
   "source": [
    "umap_coordinates_and_clusters_maturing_mature_concordance['n_shared_pathways'] = 0"
   ]
  },
  {
   "cell_type": "code",
   "execution_count": 54,
   "id": "c78548c2-e7b3-445b-a10b-74f425117bb6",
   "metadata": {},
   "outputs": [],
   "source": [
    "umap_coordinates_and_clusters_maturing_mature_concordance.loc[umap_coordinates_and_clusters_maturing_immature_concordance.Cluster.isin([1, 2]), 'n_shared_pathways'] = len(maturing_mature)"
   ]
  },
  {
   "cell_type": "code",
   "execution_count": 55,
   "id": "2d6351f0-7214-4f6d-91ba-6aa22a014d10",
   "metadata": {},
   "outputs": [
    {
     "data": {
      "text/html": [
       "<div>\n",
       "<style scoped>\n",
       "    .dataframe tbody tr th:only-of-type {\n",
       "        vertical-align: middle;\n",
       "    }\n",
       "\n",
       "    .dataframe tbody tr th {\n",
       "        vertical-align: top;\n",
       "    }\n",
       "\n",
       "    .dataframe thead th {\n",
       "        text-align: right;\n",
       "    }\n",
       "</style>\n",
       "<table border=\"1\" class=\"dataframe\">\n",
       "  <thead>\n",
       "    <tr style=\"text-align: right;\">\n",
       "      <th></th>\n",
       "      <th>UMAP_1</th>\n",
       "      <th>UMAP_2</th>\n",
       "      <th>UMAP_3</th>\n",
       "      <th>Cluster</th>\n",
       "      <th>n_shared_pathways</th>\n",
       "    </tr>\n",
       "  </thead>\n",
       "  <tbody>\n",
       "    <tr>\n",
       "      <th>0</th>\n",
       "      <td>-8.706590</td>\n",
       "      <td>10.838828</td>\n",
       "      <td>20.172602</td>\n",
       "      <td>1</td>\n",
       "      <td>2</td>\n",
       "    </tr>\n",
       "    <tr>\n",
       "      <th>1</th>\n",
       "      <td>-8.385098</td>\n",
       "      <td>10.157232</td>\n",
       "      <td>19.880642</td>\n",
       "      <td>1</td>\n",
       "      <td>2</td>\n",
       "    </tr>\n",
       "    <tr>\n",
       "      <th>2</th>\n",
       "      <td>-10.994657</td>\n",
       "      <td>12.135944</td>\n",
       "      <td>19.335888</td>\n",
       "      <td>0</td>\n",
       "      <td>0</td>\n",
       "    </tr>\n",
       "    <tr>\n",
       "      <th>3</th>\n",
       "      <td>-12.827366</td>\n",
       "      <td>14.101365</td>\n",
       "      <td>18.850868</td>\n",
       "      <td>0</td>\n",
       "      <td>0</td>\n",
       "    </tr>\n",
       "    <tr>\n",
       "      <th>4</th>\n",
       "      <td>-8.338942</td>\n",
       "      <td>10.657480</td>\n",
       "      <td>20.569912</td>\n",
       "      <td>1</td>\n",
       "      <td>2</td>\n",
       "    </tr>\n",
       "    <tr>\n",
       "      <th>...</th>\n",
       "      <td>...</td>\n",
       "      <td>...</td>\n",
       "      <td>...</td>\n",
       "      <td>...</td>\n",
       "      <td>...</td>\n",
       "    </tr>\n",
       "    <tr>\n",
       "      <th>174</th>\n",
       "      <td>-12.352021</td>\n",
       "      <td>15.842627</td>\n",
       "      <td>16.301931</td>\n",
       "      <td>0</td>\n",
       "      <td>0</td>\n",
       "    </tr>\n",
       "    <tr>\n",
       "      <th>175</th>\n",
       "      <td>-12.926116</td>\n",
       "      <td>16.575638</td>\n",
       "      <td>18.049465</td>\n",
       "      <td>0</td>\n",
       "      <td>0</td>\n",
       "    </tr>\n",
       "    <tr>\n",
       "      <th>176</th>\n",
       "      <td>-13.097774</td>\n",
       "      <td>15.900353</td>\n",
       "      <td>18.460516</td>\n",
       "      <td>0</td>\n",
       "      <td>0</td>\n",
       "    </tr>\n",
       "    <tr>\n",
       "      <th>177</th>\n",
       "      <td>-11.015943</td>\n",
       "      <td>12.402901</td>\n",
       "      <td>17.834612</td>\n",
       "      <td>0</td>\n",
       "      <td>0</td>\n",
       "    </tr>\n",
       "    <tr>\n",
       "      <th>178</th>\n",
       "      <td>-9.192891</td>\n",
       "      <td>11.085810</td>\n",
       "      <td>19.522535</td>\n",
       "      <td>1</td>\n",
       "      <td>2</td>\n",
       "    </tr>\n",
       "  </tbody>\n",
       "</table>\n",
       "<p>179 rows × 5 columns</p>\n",
       "</div>"
      ],
      "text/plain": [
       "        UMAP_1     UMAP_2     UMAP_3  Cluster  n_shared_pathways\n",
       "0    -8.706590  10.838828  20.172602        1                  2\n",
       "1    -8.385098  10.157232  19.880642        1                  2\n",
       "2   -10.994657  12.135944  19.335888        0                  0\n",
       "3   -12.827366  14.101365  18.850868        0                  0\n",
       "4    -8.338942  10.657480  20.569912        1                  2\n",
       "..         ...        ...        ...      ...                ...\n",
       "174 -12.352021  15.842627  16.301931        0                  0\n",
       "175 -12.926116  16.575638  18.049465        0                  0\n",
       "176 -13.097774  15.900353  18.460516        0                  0\n",
       "177 -11.015943  12.402901  17.834612        0                  0\n",
       "178  -9.192891  11.085810  19.522535        1                  2\n",
       "\n",
       "[179 rows x 5 columns]"
      ]
     },
     "execution_count": 55,
     "metadata": {},
     "output_type": "execute_result"
    }
   ],
   "source": [
    "umap_coordinates_and_clusters_maturing_mature_concordance"
   ]
  },
  {
   "cell_type": "code",
   "execution_count": 56,
   "id": "1dd99c2d-25b6-4815-93a3-354d8692f830",
   "metadata": {},
   "outputs": [
    {
     "data": {
      "application/vnd.plotly.v1+json": {
       "config": {
        "plotlyServerURL": "https://plot.ly"
       },
       "data": [
        {
         "hovertemplate": "UMAP_1=%{x}<br>UMAP_2=%{y}<br>UMAP_3=%{z}<br>n_shared_pathways=%{marker.color}<extra></extra>",
         "legendgroup": "",
         "marker": {
          "color": [
           2,
           2,
           0,
           0,
           2,
           2,
           0,
           0,
           0,
           0,
           0,
           0,
           0,
           0,
           0,
           2,
           0,
           2,
           2,
           0,
           2,
           0,
           0,
           0,
           2,
           2,
           0,
           2,
           0,
           0,
           0,
           2,
           0,
           0,
           0,
           2,
           0,
           2,
           0,
           0,
           0,
           0,
           0,
           0,
           0,
           0,
           0,
           0,
           0,
           0,
           0,
           2,
           0,
           2,
           0,
           0,
           0,
           0,
           0,
           0,
           2,
           0,
           0,
           2,
           0,
           0,
           0,
           2,
           0,
           2,
           0,
           2,
           0,
           2,
           0,
           2,
           0,
           0,
           0,
           2,
           2,
           2,
           2,
           2,
           2,
           0,
           2,
           0,
           2,
           0,
           2,
           2,
           0,
           2,
           2,
           2,
           0,
           2,
           2,
           2,
           2,
           2,
           2,
           0,
           2,
           2,
           0,
           2,
           2,
           2,
           2,
           2,
           0,
           2,
           2,
           0,
           2,
           2,
           0,
           2,
           0,
           2,
           2,
           2,
           2,
           0,
           2,
           2,
           2,
           0,
           0,
           0,
           2,
           2,
           2,
           0,
           2,
           2,
           2,
           2,
           0,
           2,
           0,
           0,
           0,
           0,
           2,
           0,
           0,
           0,
           0,
           2,
           0,
           2,
           2,
           0,
           2,
           0,
           2,
           2,
           2,
           2,
           2,
           2,
           2,
           0,
           0,
           0,
           0,
           2,
           2,
           0,
           0,
           0,
           0,
           0,
           0,
           0,
           2
          ],
          "coloraxis": "coloraxis",
          "symbol": "circle"
         },
         "mode": "markers",
         "name": "",
         "scene": "scene",
         "showlegend": false,
         "type": "scatter3d",
         "x": [
          -8.70659,
          -8.385098,
          -10.994657,
          -12.827366,
          -8.338942,
          -9.166602,
          -14.1857605,
          -14.288954,
          -13.019667,
          -14.379957,
          -12.851828,
          -13.300767,
          -14.629727,
          -11.353004,
          -13.608473,
          -8.964898,
          -13.178285,
          -9.176907,
          -7.4197974,
          -12.598175,
          -9.361956,
          -11.768797,
          -12.271893,
          -13.912229,
          -8.685851,
          -7.9337626,
          -14.424511,
          -7.854728,
          -14.265137,
          -12.121581,
          -11.702352,
          -8.599542,
          -13.270259,
          -11.461669,
          -12.567421,
          -8.891474,
          -11.678427,
          -7.8834486,
          -13.133933,
          -13.689099,
          -13.905363,
          -13.6220665,
          -13.759396,
          -11.929593,
          -14.222125,
          -12.66827,
          -14.27631,
          -11.969208,
          -14.058936,
          -14.3297,
          -10.6254425,
          -8.896501,
          -13.706511,
          -9.522654,
          -13.187907,
          -12.633886,
          -13.826833,
          -11.3243685,
          -10.460548,
          -12.166875,
          -9.752247,
          -10.905396,
          -10.449393,
          -9.228863,
          -12.8629,
          -12.510227,
          -14.176377,
          -8.30087,
          -13.233881,
          -9.590434,
          -13.117164,
          -8.355772,
          -13.209128,
          -8.0801935,
          -14.075494,
          -9.076794,
          -10.880152,
          -12.784448,
          -12.883123,
          -7.6088276,
          -10.121434,
          -10.138157,
          -7.727833,
          -10.505473,
          -8.873432,
          -12.069153,
          -10.31155,
          -11.045613,
          -7.2207537,
          -12.451155,
          -8.884623,
          -10.979033,
          -13.450495,
          -9.553054,
          -9.057186,
          -8.3186,
          -12.389643,
          -8.997505,
          -9.567068,
          -7.6692796,
          -10.360472,
          -8.534021,
          -8.093336,
          -13.121558,
          -10.008904,
          -10.595599,
          -11.6420355,
          -11.098546,
          -10.727823,
          -10.603705,
          -7.238394,
          -9.724405,
          -12.908751,
          -10.451512,
          -8.419782,
          -11.963795,
          -8.802778,
          -9.239193,
          -12.40947,
          -7.7104254,
          -11.513608,
          -11.524453,
          -11.477093,
          -7.496231,
          -8.879805,
          -11.924507,
          -8.250287,
          -8.670586,
          -10.056866,
          -13.419349,
          -11.721987,
          -11.447742,
          -9.809192,
          -8.297604,
          -10.34328,
          -13.395788,
          -7.917844,
          -8.554996,
          -8.0749035,
          -9.662219,
          -12.278099,
          -7.5998774,
          -13.640342,
          -13.237085,
          -12.419756,
          -12.912468,
          -7.5737343,
          -12.033741,
          -12.830339,
          -13.959719,
          -12.528081,
          -8.821654,
          -14.184619,
          -8.171914,
          -8.78551,
          -12.862005,
          -9.155558,
          -12.187794,
          -10.107294,
          -7.445251,
          -8.384049,
          -8.245955,
          -8.624535,
          -8.311607,
          -8.606229,
          -12.14118,
          -12.958587,
          -12.752535,
          -13.847917,
          -8.447171,
          -9.823241,
          -12.205538,
          -12.530409,
          -12.873357,
          -12.352021,
          -12.926116,
          -13.097774,
          -11.015943,
          -9.192891
         ],
         "y": [
          10.838828,
          10.157232,
          12.135944,
          14.101365,
          10.65748,
          10.422293,
          15.909178,
          16.222057,
          13.416742,
          16.149057,
          13.520847,
          13.928448,
          15.990077,
          12.609996,
          16.360807,
          10.697436,
          14.369344,
          9.531397,
          9.253028,
          13.868993,
          10.967809,
          13.413617,
          13.676649,
          15.616937,
          9.906218,
          9.605036,
          15.462991,
          8.897244,
          15.768254,
          13.204786,
          12.745054,
          10.744093,
          15.329692,
          12.938051,
          13.883452,
          10.973586,
          13.197475,
          10.5105295,
          13.203859,
          15.722364,
          15.787847,
          14.806615,
          15.97832,
          12.813271,
          15.310866,
          14.747203,
          15.548805,
          13.643495,
          14.592131,
          15.250739,
          12.322993,
          9.767768,
          14.495096,
          10.473645,
          13.113059,
          13.462946,
          15.839543,
          13.265707,
          12.351382,
          12.8493185,
          10.896143,
          11.934726,
          11.626194,
          9.938976,
          13.164668,
          12.763488,
          14.985211,
          10.436596,
          13.598838,
          12.299887,
          15.718104,
          9.064485,
          14.79469,
          9.338826,
          14.755124,
          9.730393,
          13.561731,
          14.722894,
          15.188444,
          9.57762,
          11.182341,
          10.56318,
          10.046953,
          13.6134205,
          10.29674,
          12.890952,
          12.766212,
          13.922281,
          9.572552,
          14.306242,
          10.028891,
          14.065711,
          14.335361,
          12.100718,
          10.410784,
          10.529895,
          15.222737,
          10.947483,
          10.818042,
          8.8793545,
          10.913079,
          9.480775,
          9.36514,
          15.820652,
          10.383457,
          11.544584,
          14.186982,
          13.406337,
          11.452644,
          13.766299,
          9.0701475,
          11.08702,
          15.994041,
          12.500291,
          10.109282,
          14.78213,
          8.940549,
          11.852076,
          14.767968,
          10.08271,
          14.558479,
          12.444375,
          14.204379,
          9.334856,
          9.409383,
          14.494032,
          8.721885,
          10.317526,
          10.551475,
          14.919957,
          14.0833025,
          13.779243,
          12.74134,
          10.105588,
          13.058103,
          15.368392,
          9.739242,
          11.574663,
          10.770734,
          10.039128,
          16.340757,
          10.339417,
          16.360806,
          16.62415,
          16.575914,
          16.697136,
          10.320597,
          15.700141,
          15.865645,
          14.84638,
          16.2896,
          12.024722,
          16.33562,
          11.72427,
          11.934809,
          13.060186,
          11.583085,
          15.457825,
          11.507476,
          9.852985,
          11.700938,
          11.264781,
          9.3733,
          12.02757,
          8.960052,
          16.105831,
          15.798356,
          16.605103,
          16.138351,
          9.338079,
          11.1637125,
          15.435303,
          16.520733,
          16.242813,
          15.842627,
          16.575638,
          15.9003525,
          12.402901,
          11.08581
         ],
         "z": [
          20.172602,
          19.880642,
          19.335888,
          18.850868,
          20.569912,
          20.517046,
          18.523905,
          17.279984,
          18.61728,
          17.902462,
          18.28434,
          18.80282,
          17.753311,
          18.269562,
          17.873512,
          20.057064,
          18.18712,
          19.753225,
          19.788935,
          19.289665,
          20.547937,
          18.904676,
          18.641298,
          18.138868,
          20.431831,
          20.246948,
          18.610695,
          19.759388,
          17.515837,
          17.880331,
          19.24974,
          20.576162,
          18.233652,
          19.458073,
          18.387587,
          20.82285,
          19.148546,
          19.669367,
          18.805656,
          18.201202,
          18.366816,
          18.954485,
          17.553226,
          18.255634,
          18.285456,
          18.420406,
          17.402279,
          19.307432,
          18.656921,
          17.256872,
          19.474186,
          20.224213,
          18.379448,
          20.599936,
          19.363121,
          19.267628,
          18.746782,
          18.512333,
          18.266068,
          18.639551,
          19.91066,
          18.249273,
          20.048151,
          20.432236,
          18.50866,
          19.401787,
          18.544022,
          20.497393,
          18.93306,
          18.700125,
          17.630613,
          19.837059,
          17.353054,
          19.360176,
          17.185669,
          18.336615,
          17.06274,
          17.117907,
          16.440226,
          20.10122,
          18.051737,
          18.55458,
          19.970022,
          17.677898,
          19.513483,
          17.608643,
          17.852545,
          17.251635,
          19.639725,
          16.951693,
          17.83126,
          17.746246,
          19.056704,
          18.185863,
          18.012733,
          18.336031,
          17.228329,
          17.898127,
          18.531084,
          19.367052,
          18.587877,
          18.579927,
          18.460806,
          17.058664,
          19.09634,
          18.03579,
          16.817665,
          16.64686,
          18.524616,
          17.841644,
          19.433805,
          18.260624,
          18.115004,
          17.31342,
          18.727835,
          17.526922,
          18.876657,
          18.40573,
          17.595598,
          18.440313,
          17.239813,
          17.496988,
          17.864527,
          18.770887,
          19.1631,
          17.776297,
          19.517456,
          17.715286,
          19.09154,
          17.697697,
          16.826086,
          17.400883,
          18.281382,
          18.342676,
          17.568798,
          17.382944,
          18.7669,
          20.089434,
          19.953451,
          19.834959,
          17.09955,
          19.429018,
          18.205997,
          17.246542,
          17.446295,
          17.398535,
          19.059423,
          17.895157,
          16.483162,
          18.519646,
          17.840513,
          19.271662,
          17.960054,
          19.135757,
          19.66037,
          19.169298,
          19.94493,
          16.713274,
          19.63059,
          19.413313,
          19.183813,
          19.598814,
          18.614424,
          19.64553,
          19.24159,
          17.5213,
          16.257078,
          16.543488,
          16.859041,
          19.48056,
          19.197924,
          18.249006,
          16.77175,
          16.642239,
          16.301931,
          18.049465,
          18.460516,
          17.834612,
          19.522535
         ]
        }
       ],
       "layout": {
        "autosize": true,
        "coloraxis": {
         "cmax": 30,
         "cmin": 0,
         "colorbar": {
          "title": {
           "text": "n_shared_pathways"
          }
         },
         "colorscale": [
          [
           0,
           "#0d0887"
          ],
          [
           0.1111111111111111,
           "#46039f"
          ],
          [
           0.2222222222222222,
           "#7201a8"
          ],
          [
           0.3333333333333333,
           "#9c179e"
          ],
          [
           0.4444444444444444,
           "#bd3786"
          ],
          [
           0.5555555555555556,
           "#d8576b"
          ],
          [
           0.6666666666666666,
           "#ed7953"
          ],
          [
           0.7777777777777778,
           "#fb9f3a"
          ],
          [
           0.8888888888888888,
           "#fdca26"
          ],
          [
           1,
           "#f0f921"
          ]
         ]
        },
        "legend": {
         "tracegroupgap": 0
        },
        "margin": {
         "t": 60
        },
        "scene": {
         "aspectmode": "auto",
         "aspectratio": {
          "x": 1.1466190676714667,
          "y": 1.2342566906086614,
          "z": 0.7066027939175441
         },
         "domain": {
          "x": [
           0,
           1
          ],
          "y": [
           0,
           1
          ]
         },
         "xaxis": {
          "title": {
           "text": "UMAP_1"
          },
          "type": "linear"
         },
         "yaxis": {
          "title": {
           "text": "UMAP_2"
          },
          "type": "linear"
         },
         "zaxis": {
          "title": {
           "text": "UMAP_3"
          },
          "type": "linear"
         }
        },
        "template": {
         "data": {
          "bar": [
           {
            "error_x": {
             "color": "#2a3f5f"
            },
            "error_y": {
             "color": "#2a3f5f"
            },
            "marker": {
             "line": {
              "color": "#E5ECF6",
              "width": 0.5
             },
             "pattern": {
              "fillmode": "overlay",
              "size": 10,
              "solidity": 0.2
             }
            },
            "type": "bar"
           }
          ],
          "barpolar": [
           {
            "marker": {
             "line": {
              "color": "#E5ECF6",
              "width": 0.5
             },
             "pattern": {
              "fillmode": "overlay",
              "size": 10,
              "solidity": 0.2
             }
            },
            "type": "barpolar"
           }
          ],
          "carpet": [
           {
            "aaxis": {
             "endlinecolor": "#2a3f5f",
             "gridcolor": "white",
             "linecolor": "white",
             "minorgridcolor": "white",
             "startlinecolor": "#2a3f5f"
            },
            "baxis": {
             "endlinecolor": "#2a3f5f",
             "gridcolor": "white",
             "linecolor": "white",
             "minorgridcolor": "white",
             "startlinecolor": "#2a3f5f"
            },
            "type": "carpet"
           }
          ],
          "choropleth": [
           {
            "colorbar": {
             "outlinewidth": 0,
             "ticks": ""
            },
            "type": "choropleth"
           }
          ],
          "contour": [
           {
            "colorbar": {
             "outlinewidth": 0,
             "ticks": ""
            },
            "colorscale": [
             [
              0,
              "#0d0887"
             ],
             [
              0.1111111111111111,
              "#46039f"
             ],
             [
              0.2222222222222222,
              "#7201a8"
             ],
             [
              0.3333333333333333,
              "#9c179e"
             ],
             [
              0.4444444444444444,
              "#bd3786"
             ],
             [
              0.5555555555555556,
              "#d8576b"
             ],
             [
              0.6666666666666666,
              "#ed7953"
             ],
             [
              0.7777777777777778,
              "#fb9f3a"
             ],
             [
              0.8888888888888888,
              "#fdca26"
             ],
             [
              1,
              "#f0f921"
             ]
            ],
            "type": "contour"
           }
          ],
          "contourcarpet": [
           {
            "colorbar": {
             "outlinewidth": 0,
             "ticks": ""
            },
            "type": "contourcarpet"
           }
          ],
          "heatmap": [
           {
            "colorbar": {
             "outlinewidth": 0,
             "ticks": ""
            },
            "colorscale": [
             [
              0,
              "#0d0887"
             ],
             [
              0.1111111111111111,
              "#46039f"
             ],
             [
              0.2222222222222222,
              "#7201a8"
             ],
             [
              0.3333333333333333,
              "#9c179e"
             ],
             [
              0.4444444444444444,
              "#bd3786"
             ],
             [
              0.5555555555555556,
              "#d8576b"
             ],
             [
              0.6666666666666666,
              "#ed7953"
             ],
             [
              0.7777777777777778,
              "#fb9f3a"
             ],
             [
              0.8888888888888888,
              "#fdca26"
             ],
             [
              1,
              "#f0f921"
             ]
            ],
            "type": "heatmap"
           }
          ],
          "heatmapgl": [
           {
            "colorbar": {
             "outlinewidth": 0,
             "ticks": ""
            },
            "colorscale": [
             [
              0,
              "#0d0887"
             ],
             [
              0.1111111111111111,
              "#46039f"
             ],
             [
              0.2222222222222222,
              "#7201a8"
             ],
             [
              0.3333333333333333,
              "#9c179e"
             ],
             [
              0.4444444444444444,
              "#bd3786"
             ],
             [
              0.5555555555555556,
              "#d8576b"
             ],
             [
              0.6666666666666666,
              "#ed7953"
             ],
             [
              0.7777777777777778,
              "#fb9f3a"
             ],
             [
              0.8888888888888888,
              "#fdca26"
             ],
             [
              1,
              "#f0f921"
             ]
            ],
            "type": "heatmapgl"
           }
          ],
          "histogram": [
           {
            "marker": {
             "pattern": {
              "fillmode": "overlay",
              "size": 10,
              "solidity": 0.2
             }
            },
            "type": "histogram"
           }
          ],
          "histogram2d": [
           {
            "colorbar": {
             "outlinewidth": 0,
             "ticks": ""
            },
            "colorscale": [
             [
              0,
              "#0d0887"
             ],
             [
              0.1111111111111111,
              "#46039f"
             ],
             [
              0.2222222222222222,
              "#7201a8"
             ],
             [
              0.3333333333333333,
              "#9c179e"
             ],
             [
              0.4444444444444444,
              "#bd3786"
             ],
             [
              0.5555555555555556,
              "#d8576b"
             ],
             [
              0.6666666666666666,
              "#ed7953"
             ],
             [
              0.7777777777777778,
              "#fb9f3a"
             ],
             [
              0.8888888888888888,
              "#fdca26"
             ],
             [
              1,
              "#f0f921"
             ]
            ],
            "type": "histogram2d"
           }
          ],
          "histogram2dcontour": [
           {
            "colorbar": {
             "outlinewidth": 0,
             "ticks": ""
            },
            "colorscale": [
             [
              0,
              "#0d0887"
             ],
             [
              0.1111111111111111,
              "#46039f"
             ],
             [
              0.2222222222222222,
              "#7201a8"
             ],
             [
              0.3333333333333333,
              "#9c179e"
             ],
             [
              0.4444444444444444,
              "#bd3786"
             ],
             [
              0.5555555555555556,
              "#d8576b"
             ],
             [
              0.6666666666666666,
              "#ed7953"
             ],
             [
              0.7777777777777778,
              "#fb9f3a"
             ],
             [
              0.8888888888888888,
              "#fdca26"
             ],
             [
              1,
              "#f0f921"
             ]
            ],
            "type": "histogram2dcontour"
           }
          ],
          "mesh3d": [
           {
            "colorbar": {
             "outlinewidth": 0,
             "ticks": ""
            },
            "type": "mesh3d"
           }
          ],
          "parcoords": [
           {
            "line": {
             "colorbar": {
              "outlinewidth": 0,
              "ticks": ""
             }
            },
            "type": "parcoords"
           }
          ],
          "pie": [
           {
            "automargin": true,
            "type": "pie"
           }
          ],
          "scatter": [
           {
            "fillpattern": {
             "fillmode": "overlay",
             "size": 10,
             "solidity": 0.2
            },
            "type": "scatter"
           }
          ],
          "scatter3d": [
           {
            "line": {
             "colorbar": {
              "outlinewidth": 0,
              "ticks": ""
             }
            },
            "marker": {
             "colorbar": {
              "outlinewidth": 0,
              "ticks": ""
             }
            },
            "type": "scatter3d"
           }
          ],
          "scattercarpet": [
           {
            "marker": {
             "colorbar": {
              "outlinewidth": 0,
              "ticks": ""
             }
            },
            "type": "scattercarpet"
           }
          ],
          "scattergeo": [
           {
            "marker": {
             "colorbar": {
              "outlinewidth": 0,
              "ticks": ""
             }
            },
            "type": "scattergeo"
           }
          ],
          "scattergl": [
           {
            "marker": {
             "colorbar": {
              "outlinewidth": 0,
              "ticks": ""
             }
            },
            "type": "scattergl"
           }
          ],
          "scattermapbox": [
           {
            "marker": {
             "colorbar": {
              "outlinewidth": 0,
              "ticks": ""
             }
            },
            "type": "scattermapbox"
           }
          ],
          "scatterpolar": [
           {
            "marker": {
             "colorbar": {
              "outlinewidth": 0,
              "ticks": ""
             }
            },
            "type": "scatterpolar"
           }
          ],
          "scatterpolargl": [
           {
            "marker": {
             "colorbar": {
              "outlinewidth": 0,
              "ticks": ""
             }
            },
            "type": "scatterpolargl"
           }
          ],
          "scatterternary": [
           {
            "marker": {
             "colorbar": {
              "outlinewidth": 0,
              "ticks": ""
             }
            },
            "type": "scatterternary"
           }
          ],
          "surface": [
           {
            "colorbar": {
             "outlinewidth": 0,
             "ticks": ""
            },
            "colorscale": [
             [
              0,
              "#0d0887"
             ],
             [
              0.1111111111111111,
              "#46039f"
             ],
             [
              0.2222222222222222,
              "#7201a8"
             ],
             [
              0.3333333333333333,
              "#9c179e"
             ],
             [
              0.4444444444444444,
              "#bd3786"
             ],
             [
              0.5555555555555556,
              "#d8576b"
             ],
             [
              0.6666666666666666,
              "#ed7953"
             ],
             [
              0.7777777777777778,
              "#fb9f3a"
             ],
             [
              0.8888888888888888,
              "#fdca26"
             ],
             [
              1,
              "#f0f921"
             ]
            ],
            "type": "surface"
           }
          ],
          "table": [
           {
            "cells": {
             "fill": {
              "color": "#EBF0F8"
             },
             "line": {
              "color": "white"
             }
            },
            "header": {
             "fill": {
              "color": "#C8D4E3"
             },
             "line": {
              "color": "white"
             }
            },
            "type": "table"
           }
          ]
         },
         "layout": {
          "annotationdefaults": {
           "arrowcolor": "#2a3f5f",
           "arrowhead": 0,
           "arrowwidth": 1
          },
          "autotypenumbers": "strict",
          "coloraxis": {
           "colorbar": {
            "outlinewidth": 0,
            "ticks": ""
           }
          },
          "colorscale": {
           "diverging": [
            [
             0,
             "#8e0152"
            ],
            [
             0.1,
             "#c51b7d"
            ],
            [
             0.2,
             "#de77ae"
            ],
            [
             0.3,
             "#f1b6da"
            ],
            [
             0.4,
             "#fde0ef"
            ],
            [
             0.5,
             "#f7f7f7"
            ],
            [
             0.6,
             "#e6f5d0"
            ],
            [
             0.7,
             "#b8e186"
            ],
            [
             0.8,
             "#7fbc41"
            ],
            [
             0.9,
             "#4d9221"
            ],
            [
             1,
             "#276419"
            ]
           ],
           "sequential": [
            [
             0,
             "#0d0887"
            ],
            [
             0.1111111111111111,
             "#46039f"
            ],
            [
             0.2222222222222222,
             "#7201a8"
            ],
            [
             0.3333333333333333,
             "#9c179e"
            ],
            [
             0.4444444444444444,
             "#bd3786"
            ],
            [
             0.5555555555555556,
             "#d8576b"
            ],
            [
             0.6666666666666666,
             "#ed7953"
            ],
            [
             0.7777777777777778,
             "#fb9f3a"
            ],
            [
             0.8888888888888888,
             "#fdca26"
            ],
            [
             1,
             "#f0f921"
            ]
           ],
           "sequentialminus": [
            [
             0,
             "#0d0887"
            ],
            [
             0.1111111111111111,
             "#46039f"
            ],
            [
             0.2222222222222222,
             "#7201a8"
            ],
            [
             0.3333333333333333,
             "#9c179e"
            ],
            [
             0.4444444444444444,
             "#bd3786"
            ],
            [
             0.5555555555555556,
             "#d8576b"
            ],
            [
             0.6666666666666666,
             "#ed7953"
            ],
            [
             0.7777777777777778,
             "#fb9f3a"
            ],
            [
             0.8888888888888888,
             "#fdca26"
            ],
            [
             1,
             "#f0f921"
            ]
           ]
          },
          "colorway": [
           "#636efa",
           "#EF553B",
           "#00cc96",
           "#ab63fa",
           "#FFA15A",
           "#19d3f3",
           "#FF6692",
           "#B6E880",
           "#FF97FF",
           "#FECB52"
          ],
          "font": {
           "color": "#2a3f5f"
          },
          "geo": {
           "bgcolor": "white",
           "lakecolor": "white",
           "landcolor": "#E5ECF6",
           "showlakes": true,
           "showland": true,
           "subunitcolor": "white"
          },
          "hoverlabel": {
           "align": "left"
          },
          "hovermode": "closest",
          "mapbox": {
           "style": "light"
          },
          "paper_bgcolor": "white",
          "plot_bgcolor": "#E5ECF6",
          "polar": {
           "angularaxis": {
            "gridcolor": "white",
            "linecolor": "white",
            "ticks": ""
           },
           "bgcolor": "#E5ECF6",
           "radialaxis": {
            "gridcolor": "white",
            "linecolor": "white",
            "ticks": ""
           }
          },
          "scene": {
           "xaxis": {
            "backgroundcolor": "#E5ECF6",
            "gridcolor": "white",
            "gridwidth": 2,
            "linecolor": "white",
            "showbackground": true,
            "ticks": "",
            "zerolinecolor": "white"
           },
           "yaxis": {
            "backgroundcolor": "#E5ECF6",
            "gridcolor": "white",
            "gridwidth": 2,
            "linecolor": "white",
            "showbackground": true,
            "ticks": "",
            "zerolinecolor": "white"
           },
           "zaxis": {
            "backgroundcolor": "#E5ECF6",
            "gridcolor": "white",
            "gridwidth": 2,
            "linecolor": "white",
            "showbackground": true,
            "ticks": "",
            "zerolinecolor": "white"
           }
          },
          "shapedefaults": {
           "line": {
            "color": "#2a3f5f"
           }
          },
          "ternary": {
           "aaxis": {
            "gridcolor": "white",
            "linecolor": "white",
            "ticks": ""
           },
           "baxis": {
            "gridcolor": "white",
            "linecolor": "white",
            "ticks": ""
           },
           "bgcolor": "#E5ECF6",
           "caxis": {
            "gridcolor": "white",
            "linecolor": "white",
            "ticks": ""
           }
          },
          "title": {
           "x": 0.05
          },
          "xaxis": {
           "automargin": true,
           "gridcolor": "white",
           "linecolor": "white",
           "ticks": "",
           "title": {
            "standoff": 15
           },
           "zerolinecolor": "white",
           "zerolinewidth": 2
          },
          "yaxis": {
           "automargin": true,
           "gridcolor": "white",
           "linecolor": "white",
           "ticks": "",
           "title": {
            "standoff": 15
           },
           "zerolinecolor": "white",
           "zerolinewidth": 2
          }
         }
        }
       }
      },
      "image/png": "[encoded data removed]",
      "text/html": [
       "<div>                            <div id=\"7991ffd3-4082-4862-b53a-5192b9e21dd6\" class=\"plotly-graph-div\" style=\"height:525px; width:100%;\"></div>            <script type=\"text/javascript\">                require([\"plotly\"], function(Plotly) {                    window.PLOTLYENV=window.PLOTLYENV || {};                                    if (document.getElementById(\"7991ffd3-4082-4862-b53a-5192b9e21dd6\")) {                    Plotly.newPlot(                        \"7991ffd3-4082-4862-b53a-5192b9e21dd6\",                        [{\"hovertemplate\":\"UMAP_1=%{x}\\u003cbr\\u003eUMAP_2=%{y}\\u003cbr\\u003eUMAP_3=%{z}\\u003cbr\\u003en_shared_pathways=%{marker.color}\\u003cextra\\u003e\\u003c\\u002fextra\\u003e\",\"legendgroup\":\"\",\"marker\":{\"color\":[2,2,0,0,2,2,0,0,0,0,0,0,0,0,0,2,0,2,2,0,2,0,0,0,2,2,0,2,0,0,0,2,0,0,0,2,0,2,0,0,0,0,0,0,0,0,0,0,0,0,0,2,0,2,0,0,0,0,0,0,2,0,0,2,0,0,0,2,0,2,0,2,0,2,0,2,0,0,0,2,2,2,2,2,2,0,2,0,2,0,2,2,0,2,2,2,0,2,2,2,2,2,2,0,2,2,0,2,2,2,2,2,0,2,2,0,2,2,0,2,0,2,2,2,2,0,2,2,2,0,0,0,2,2,2,0,2,2,2,2,0,2,0,0,0,0,2,0,0,0,0,2,0,2,2,0,2,0,2,2,2,2,2,2,2,0,0,0,0,2,2,0,0,0,0,0,0,0,2],\"coloraxis\":\"coloraxis\",\"symbol\":\"circle\"},\"mode\":\"markers\",\"name\":\"\",\"scene\":\"scene\",\"showlegend\":false,\"x\":[-8.70659,-8.385098,-10.994657,-12.827366,-8.338942,-9.166602,-14.1857605,-14.288954,-13.019667,-14.379957,-12.851828,-13.300767,-14.629727,-11.353004,-13.608473,-8.964898,-13.178285,-9.176907,-7.4197974,-12.598175,-9.361956,-11.768797,-12.271893,-13.912229,-8.685851,-7.9337626,-14.424511,-7.854728,-14.265137,-12.121581,-11.702352,-8.599542,-13.270259,-11.461669,-12.567421,-8.891474,-11.678427,-7.8834486,-13.133933,-13.689099,-13.905363,-13.6220665,-13.759396,-11.929593,-14.222125,-12.66827,-14.27631,-11.969208,-14.058936,-14.3297,-10.6254425,-8.896501,-13.706511,-9.522654,-13.187907,-12.633886,-13.826833,-11.3243685,-10.460548,-12.166875,-9.752247,-10.905396,-10.449393,-9.228863,-12.8629,-12.510227,-14.176377,-8.30087,-13.233881,-9.590434,-13.117164,-8.355772,-13.209128,-8.0801935,-14.075494,-9.076794,-10.880152,-12.784448,-12.883123,-7.6088276,-10.121434,-10.138157,-7.727833,-10.505473,-8.873432,-12.069153,-10.31155,-11.045613,-7.2207537,-12.451155,-8.884623,-10.979033,-13.450495,-9.553054,-9.057186,-8.3186,-12.389643,-8.997505,-9.567068,-7.6692796,-10.360472,-8.534021,-8.093336,-13.121558,-10.008904,-10.595599,-11.6420355,-11.098546,-10.727823,-10.603705,-7.238394,-9.724405,-12.908751,-10.451512,-8.419782,-11.963795,-8.802778,-9.239193,-12.40947,-7.7104254,-11.513608,-11.524453,-11.477093,-7.496231,-8.879805,-11.924507,-8.250287,-8.670586,-10.056866,-13.419349,-11.721987,-11.447742,-9.809192,-8.297604,-10.34328,-13.395788,-7.917844,-8.554996,-8.0749035,-9.662219,-12.278099,-7.5998774,-13.640342,-13.237085,-12.419756,-12.912468,-7.5737343,-12.033741,-12.830339,-13.959719,-12.528081,-8.821654,-14.184619,-8.171914,-8.78551,-12.862005,-9.155558,-12.187794,-10.107294,-7.445251,-8.384049,-8.245955,-8.624535,-8.311607,-8.606229,-12.14118,-12.958587,-12.752535,-13.847917,-8.447171,-9.823241,-12.205538,-12.530409,-12.873357,-12.352021,-12.926116,-13.097774,-11.015943,-9.192891],\"y\":[10.838828,10.157232,12.135944,14.101365,10.65748,10.422293,15.909178,16.222057,13.416742,16.149057,13.520847,13.928448,15.990077,12.609996,16.360807,10.697436,14.369344,9.531397,9.253028,13.868993,10.967809,13.413617,13.676649,15.616937,9.906218,9.605036,15.462991,8.897244,15.768254,13.204786,12.745054,10.744093,15.329692,12.938051,13.883452,10.973586,13.197475,10.5105295,13.203859,15.722364,15.787847,14.806615,15.97832,12.813271,15.310866,14.747203,15.548805,13.643495,14.592131,15.250739,12.322993,9.767768,14.495096,10.473645,13.113059,13.462946,15.839543,13.265707,12.351382,12.8493185,10.896143,11.934726,11.626194,9.938976,13.164668,12.763488,14.985211,10.436596,13.598838,12.299887,15.718104,9.064485,14.79469,9.338826,14.755124,9.730393,13.561731,14.722894,15.188444,9.57762,11.182341,10.56318,10.046953,13.6134205,10.29674,12.890952,12.766212,13.922281,9.572552,14.306242,10.028891,14.065711,14.335361,12.100718,10.410784,10.529895,15.222737,10.947483,10.818042,8.8793545,10.913079,9.480775,9.36514,15.820652,10.383457,11.544584,14.186982,13.406337,11.452644,13.766299,9.0701475,11.08702,15.994041,12.500291,10.109282,14.78213,8.940549,11.852076,14.767968,10.08271,14.558479,12.444375,14.204379,9.334856,9.409383,14.494032,8.721885,10.317526,10.551475,14.919957,14.0833025,13.779243,12.74134,10.105588,13.058103,15.368392,9.739242,11.574663,10.770734,10.039128,16.340757,10.339417,16.360806,16.62415,16.575914,16.697136,10.320597,15.700141,15.865645,14.84638,16.2896,12.024722,16.33562,11.72427,11.934809,13.060186,11.583085,15.457825,11.507476,9.852985,11.700938,11.264781,9.3733,12.02757,8.960052,16.105831,15.798356,16.605103,16.138351,9.338079,11.1637125,15.435303,16.520733,16.242813,15.842627,16.575638,15.9003525,12.402901,11.08581],\"z\":[20.172602,19.880642,19.335888,18.850868,20.569912,20.517046,18.523905,17.279984,18.61728,17.902462,18.28434,18.80282,17.753311,18.269562,17.873512,20.057064,18.18712,19.753225,19.788935,19.289665,20.547937,18.904676,18.641298,18.138868,20.431831,20.246948,18.610695,19.759388,17.515837,17.880331,19.24974,20.576162,18.233652,19.458073,18.387587,20.82285,19.148546,19.669367,18.805656,18.201202,18.366816,18.954485,17.553226,18.255634,18.285456,18.420406,17.402279,19.307432,18.656921,17.256872,19.474186,20.224213,18.379448,20.599936,19.363121,19.267628,18.746782,18.512333,18.266068,18.639551,19.91066,18.249273,20.048151,20.432236,18.50866,19.401787,18.544022,20.497393,18.93306,18.700125,17.630613,19.837059,17.353054,19.360176,17.185669,18.336615,17.06274,17.117907,16.440226,20.10122,18.051737,18.55458,19.970022,17.677898,19.513483,17.608643,17.852545,17.251635,19.639725,16.951693,17.83126,17.746246,19.056704,18.185863,18.012733,18.336031,17.228329,17.898127,18.531084,19.367052,18.587877,18.579927,18.460806,17.058664,19.09634,18.03579,16.817665,16.64686,18.524616,17.841644,19.433805,18.260624,18.115004,17.31342,18.727835,17.526922,18.876657,18.40573,17.595598,18.440313,17.239813,17.496988,17.864527,18.770887,19.1631,17.776297,19.517456,17.715286,19.09154,17.697697,16.826086,17.400883,18.281382,18.342676,17.568798,17.382944,18.7669,20.089434,19.953451,19.834959,17.09955,19.429018,18.205997,17.246542,17.446295,17.398535,19.059423,17.895157,16.483162,18.519646,17.840513,19.271662,17.960054,19.135757,19.66037,19.169298,19.94493,16.713274,19.63059,19.413313,19.183813,19.598814,18.614424,19.64553,19.24159,17.5213,16.257078,16.543488,16.859041,19.48056,19.197924,18.249006,16.77175,16.642239,16.301931,18.049465,18.460516,17.834612,19.522535],\"type\":\"scatter3d\"}],                        {\"template\":{\"data\":{\"histogram2dcontour\":[{\"type\":\"histogram2dcontour\",\"colorbar\":{\"outlinewidth\":0,\"ticks\":\"\"},\"colorscale\":[[0.0,\"#0d0887\"],[0.1111111111111111,\"#46039f\"],[0.2222222222222222,\"#7201a8\"],[0.3333333333333333,\"#9c179e\"],[0.4444444444444444,\"#bd3786\"],[0.5555555555555556,\"#d8576b\"],[0.6666666666666666,\"#ed7953\"],[0.7777777777777778,\"#fb9f3a\"],[0.8888888888888888,\"#fdca26\"],[1.0,\"#f0f921\"]]}],\"choropleth\":[{\"type\":\"choropleth\",\"colorbar\":{\"outlinewidth\":0,\"ticks\":\"\"}}],\"histogram2d\":[{\"type\":\"histogram2d\",\"colorbar\":{\"outlinewidth\":0,\"ticks\":\"\"},\"colorscale\":[[0.0,\"#0d0887\"],[0.1111111111111111,\"#46039f\"],[0.2222222222222222,\"#7201a8\"],[0.3333333333333333,\"#9c179e\"],[0.4444444444444444,\"#bd3786\"],[0.5555555555555556,\"#d8576b\"],[0.6666666666666666,\"#ed7953\"],[0.7777777777777778,\"#fb9f3a\"],[0.8888888888888888,\"#fdca26\"],[1.0,\"#f0f921\"]]}],\"heatmap\":[{\"type\":\"heatmap\",\"colorbar\":{\"outlinewidth\":0,\"ticks\":\"\"},\"colorscale\":[[0.0,\"#0d0887\"],[0.1111111111111111,\"#46039f\"],[0.2222222222222222,\"#7201a8\"],[0.3333333333333333,\"#9c179e\"],[0.4444444444444444,\"#bd3786\"],[0.5555555555555556,\"#d8576b\"],[0.6666666666666666,\"#ed7953\"],[0.7777777777777778,\"#fb9f3a\"],[0.8888888888888888,\"#fdca26\"],[1.0,\"#f0f921\"]]}],\"heatmapgl\":[{\"type\":\"heatmapgl\",\"colorbar\":{\"outlinewidth\":0,\"ticks\":\"\"},\"colorscale\":[[0.0,\"#0d0887\"],[0.1111111111111111,\"#46039f\"],[0.2222222222222222,\"#7201a8\"],[0.3333333333333333,\"#9c179e\"],[0.4444444444444444,\"#bd3786\"],[0.5555555555555556,\"#d8576b\"],[0.6666666666666666,\"#ed7953\"],[0.7777777777777778,\"#fb9f3a\"],[0.8888888888888888,\"#fdca26\"],[1.0,\"#f0f921\"]]}],\"contourcarpet\":[{\"type\":\"contourcarpet\",\"colorbar\":{\"outlinewidth\":0,\"ticks\":\"\"}}],\"contour\":[{\"type\":\"contour\",\"colorbar\":{\"outlinewidth\":0,\"ticks\":\"\"},\"colorscale\":[[0.0,\"#0d0887\"],[0.1111111111111111,\"#46039f\"],[0.2222222222222222,\"#7201a8\"],[0.3333333333333333,\"#9c179e\"],[0.4444444444444444,\"#bd3786\"],[0.5555555555555556,\"#d8576b\"],[0.6666666666666666,\"#ed7953\"],[0.7777777777777778,\"#fb9f3a\"],[0.8888888888888888,\"#fdca26\"],[1.0,\"#f0f921\"]]}],\"surface\":[{\"type\":\"surface\",\"colorbar\":{\"outlinewidth\":0,\"ticks\":\"\"},\"colorscale\":[[0.0,\"#0d0887\"],[0.1111111111111111,\"#46039f\"],[0.2222222222222222,\"#7201a8\"],[0.3333333333333333,\"#9c179e\"],[0.4444444444444444,\"#bd3786\"],[0.5555555555555556,\"#d8576b\"],[0.6666666666666666,\"#ed7953\"],[0.7777777777777778,\"#fb9f3a\"],[0.8888888888888888,\"#fdca26\"],[1.0,\"#f0f921\"]]}],\"mesh3d\":[{\"type\":\"mesh3d\",\"colorbar\":{\"outlinewidth\":0,\"ticks\":\"\"}}],\"scatter\":[{\"fillpattern\":{\"fillmode\":\"overlay\",\"size\":10,\"solidity\":0.2},\"type\":\"scatter\"}],\"parcoords\":[{\"type\":\"parcoords\",\"line\":{\"colorbar\":{\"outlinewidth\":0,\"ticks\":\"\"}}}],\"scatterpolargl\":[{\"type\":\"scatterpolargl\",\"marker\":{\"colorbar\":{\"outlinewidth\":0,\"ticks\":\"\"}}}],\"bar\":[{\"error_x\":{\"color\":\"#2a3f5f\"},\"error_y\":{\"color\":\"#2a3f5f\"},\"marker\":{\"line\":{\"color\":\"#E5ECF6\",\"width\":0.5},\"pattern\":{\"fillmode\":\"overlay\",\"size\":10,\"solidity\":0.2}},\"type\":\"bar\"}],\"scattergeo\":[{\"type\":\"scattergeo\",\"marker\":{\"colorbar\":{\"outlinewidth\":0,\"ticks\":\"\"}}}],\"scatterpolar\":[{\"type\":\"scatterpolar\",\"marker\":{\"colorbar\":{\"outlinewidth\":0,\"ticks\":\"\"}}}],\"histogram\":[{\"marker\":{\"pattern\":{\"fillmode\":\"overlay\",\"size\":10,\"solidity\":0.2}},\"type\":\"histogram\"}],\"scattergl\":[{\"type\":\"scattergl\",\"marker\":{\"colorbar\":{\"outlinewidth\":0,\"ticks\":\"\"}}}],\"scatter3d\":[{\"type\":\"scatter3d\",\"line\":{\"colorbar\":{\"outlinewidth\":0,\"ticks\":\"\"}},\"marker\":{\"colorbar\":{\"outlinewidth\":0,\"ticks\":\"\"}}}],\"scattermapbox\":[{\"type\":\"scattermapbox\",\"marker\":{\"colorbar\":{\"outlinewidth\":0,\"ticks\":\"\"}}}],\"scatterternary\":[{\"type\":\"scatterternary\",\"marker\":{\"colorbar\":{\"outlinewidth\":0,\"ticks\":\"\"}}}],\"scattercarpet\":[{\"type\":\"scattercarpet\",\"marker\":{\"colorbar\":{\"outlinewidth\":0,\"ticks\":\"\"}}}],\"carpet\":[{\"aaxis\":{\"endlinecolor\":\"#2a3f5f\",\"gridcolor\":\"white\",\"linecolor\":\"white\",\"minorgridcolor\":\"white\",\"startlinecolor\":\"#2a3f5f\"},\"baxis\":{\"endlinecolor\":\"#2a3f5f\",\"gridcolor\":\"white\",\"linecolor\":\"white\",\"minorgridcolor\":\"white\",\"startlinecolor\":\"#2a3f5f\"},\"type\":\"carpet\"}],\"table\":[{\"cells\":{\"fill\":{\"color\":\"#EBF0F8\"},\"line\":{\"color\":\"white\"}},\"header\":{\"fill\":{\"color\":\"#C8D4E3\"},\"line\":{\"color\":\"white\"}},\"type\":\"table\"}],\"barpolar\":[{\"marker\":{\"line\":{\"color\":\"#E5ECF6\",\"width\":0.5},\"pattern\":{\"fillmode\":\"overlay\",\"size\":10,\"solidity\":0.2}},\"type\":\"barpolar\"}],\"pie\":[{\"automargin\":true,\"type\":\"pie\"}]},\"layout\":{\"autotypenumbers\":\"strict\",\"colorway\":[\"#636efa\",\"#EF553B\",\"#00cc96\",\"#ab63fa\",\"#FFA15A\",\"#19d3f3\",\"#FF6692\",\"#B6E880\",\"#FF97FF\",\"#FECB52\"],\"font\":{\"color\":\"#2a3f5f\"},\"hovermode\":\"closest\",\"hoverlabel\":{\"align\":\"left\"},\"paper_bgcolor\":\"white\",\"plot_bgcolor\":\"#E5ECF6\",\"polar\":{\"bgcolor\":\"#E5ECF6\",\"angularaxis\":{\"gridcolor\":\"white\",\"linecolor\":\"white\",\"ticks\":\"\"},\"radialaxis\":{\"gridcolor\":\"white\",\"linecolor\":\"white\",\"ticks\":\"\"}},\"ternary\":{\"bgcolor\":\"#E5ECF6\",\"aaxis\":{\"gridcolor\":\"white\",\"linecolor\":\"white\",\"ticks\":\"\"},\"baxis\":{\"gridcolor\":\"white\",\"linecolor\":\"white\",\"ticks\":\"\"},\"caxis\":{\"gridcolor\":\"white\",\"linecolor\":\"white\",\"ticks\":\"\"}},\"coloraxis\":{\"colorbar\":{\"outlinewidth\":0,\"ticks\":\"\"}},\"colorscale\":{\"sequential\":[[0.0,\"#0d0887\"],[0.1111111111111111,\"#46039f\"],[0.2222222222222222,\"#7201a8\"],[0.3333333333333333,\"#9c179e\"],[0.4444444444444444,\"#bd3786\"],[0.5555555555555556,\"#d8576b\"],[0.6666666666666666,\"#ed7953\"],[0.7777777777777778,\"#fb9f3a\"],[0.8888888888888888,\"#fdca26\"],[1.0,\"#f0f921\"]],\"sequentialminus\":[[0.0,\"#0d0887\"],[0.1111111111111111,\"#46039f\"],[0.2222222222222222,\"#7201a8\"],[0.3333333333333333,\"#9c179e\"],[0.4444444444444444,\"#bd3786\"],[0.5555555555555556,\"#d8576b\"],[0.6666666666666666,\"#ed7953\"],[0.7777777777777778,\"#fb9f3a\"],[0.8888888888888888,\"#fdca26\"],[1.0,\"#f0f921\"]],\"diverging\":[[0,\"#8e0152\"],[0.1,\"#c51b7d\"],[0.2,\"#de77ae\"],[0.3,\"#f1b6da\"],[0.4,\"#fde0ef\"],[0.5,\"#f7f7f7\"],[0.6,\"#e6f5d0\"],[0.7,\"#b8e186\"],[0.8,\"#7fbc41\"],[0.9,\"#4d9221\"],[1,\"#276419\"]]},\"xaxis\":{\"gridcolor\":\"white\",\"linecolor\":\"white\",\"ticks\":\"\",\"title\":{\"standoff\":15},\"zerolinecolor\":\"white\",\"automargin\":true,\"zerolinewidth\":2},\"yaxis\":{\"gridcolor\":\"white\",\"linecolor\":\"white\",\"ticks\":\"\",\"title\":{\"standoff\":15},\"zerolinecolor\":\"white\",\"automargin\":true,\"zerolinewidth\":2},\"scene\":{\"xaxis\":{\"backgroundcolor\":\"#E5ECF6\",\"gridcolor\":\"white\",\"linecolor\":\"white\",\"showbackground\":true,\"ticks\":\"\",\"zerolinecolor\":\"white\",\"gridwidth\":2},\"yaxis\":{\"backgroundcolor\":\"#E5ECF6\",\"gridcolor\":\"white\",\"linecolor\":\"white\",\"showbackground\":true,\"ticks\":\"\",\"zerolinecolor\":\"white\",\"gridwidth\":2},\"zaxis\":{\"backgroundcolor\":\"#E5ECF6\",\"gridcolor\":\"white\",\"linecolor\":\"white\",\"showbackground\":true,\"ticks\":\"\",\"zerolinecolor\":\"white\",\"gridwidth\":2}},\"shapedefaults\":{\"line\":{\"color\":\"#2a3f5f\"}},\"annotationdefaults\":{\"arrowcolor\":\"#2a3f5f\",\"arrowhead\":0,\"arrowwidth\":1},\"geo\":{\"bgcolor\":\"white\",\"landcolor\":\"#E5ECF6\",\"subunitcolor\":\"white\",\"showland\":true,\"showlakes\":true,\"lakecolor\":\"white\"},\"title\":{\"x\":0.05},\"mapbox\":{\"style\":\"light\"}}},\"scene\":{\"domain\":{\"x\":[0.0,1.0],\"y\":[0.0,1.0]},\"xaxis\":{\"title\":{\"text\":\"UMAP_1\"}},\"yaxis\":{\"title\":{\"text\":\"UMAP_2\"}},\"zaxis\":{\"title\":{\"text\":\"UMAP_3\"}}},\"coloraxis\":{\"colorbar\":{\"title\":{\"text\":\"n_shared_pathways\"}},\"colorscale\":[[0.0,\"#0d0887\"],[0.1111111111111111,\"#46039f\"],[0.2222222222222222,\"#7201a8\"],[0.3333333333333333,\"#9c179e\"],[0.4444444444444444,\"#bd3786\"],[0.5555555555555556,\"#d8576b\"],[0.6666666666666666,\"#ed7953\"],[0.7777777777777778,\"#fb9f3a\"],[0.8888888888888888,\"#fdca26\"],[1.0,\"#f0f921\"]],\"cmin\":0,\"cmax\":30},\"legend\":{\"tracegroupgap\":0},\"margin\":{\"t\":60}},                        {\"responsive\": true}                    ).then(function(){\n",
       "                            \n",
       "var gd = document.getElementById('7991ffd3-4082-4862-b53a-5192b9e21dd6');\n",
       "var x = new MutationObserver(function (mutations, observer) {{\n",
       "        var display = window.getComputedStyle(gd).display;\n",
       "        if (!display || display === 'none') {{\n",
       "            console.log([gd, 'removed!']);\n",
       "            Plotly.purge(gd);\n",
       "            observer.disconnect();\n",
       "        }}\n",
       "}});\n",
       "\n",
       "// Listen for the removal of the full notebook cells\n",
       "var notebookContainer = gd.closest('#notebook-container');\n",
       "if (notebookContainer) {{\n",
       "    x.observe(notebookContainer, {childList: true});\n",
       "}}\n",
       "\n",
       "// Listen for the clearing of the current output cell\n",
       "var outputEl = gd.closest('.output');\n",
       "if (outputEl) {{\n",
       "    x.observe(outputEl, {childList: true});\n",
       "}}\n",
       "\n",
       "                        })                };                });            </script>        </div>"
      ]
     },
     "metadata": {},
     "output_type": "display_data"
    },
    {
     "data": {
      "text/plain": [
       "'./maturing_mature.html'"
      ]
     },
     "execution_count": 56,
     "metadata": {},
     "output_type": "execute_result"
    },
    {
     "name": "stdout",
     "output_type": "stream",
     "text": [
      "Opening in existing browser session.\n"
     ]
    }
   ],
   "source": [
    "df = umap_coordinates_and_clusters_maturing_mature_concordance\n",
    "fig = px.scatter_3d(df, x='UMAP_1', y='UMAP_2', z='UMAP_3',\n",
    "              color='n_shared_pathways', range_color = [0, 30])\n",
    "fig.show()\n",
    "\n",
    "# Save figure.\n",
    "# Source: https://stackoverflow.com/a/59819140\n",
    "plotly.offline.plot(fig, filename='./maturing_mature.html')"
   ]
  },
  {
   "cell_type": "code",
   "execution_count": null,
   "id": "976ac721-e77d-4b03-9633-85b97b2682d0",
   "metadata": {},
   "outputs": [],
   "source": []
  }
 ],
 "metadata": {
  "kernelspec": {
   "display_name": "3d_rna_velocity",
   "language": "python",
   "name": "3d_rna_velocity"
  },
  "language_info": {
   "codemirror_mode": {
    "name": "ipython",
    "version": 3
   },
   "file_extension": ".py",
   "mimetype": "text/x-python",
   "name": "python",
   "nbconvert_exporter": "python",
   "pygments_lexer": "ipython3",
   "version": "3.11.11"
  }
 },
 "nbformat": 4,
 "nbformat_minor": 5
}
