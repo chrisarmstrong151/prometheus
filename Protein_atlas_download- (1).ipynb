{
 "cells": [
  {
   "cell_type": "markdown",
   "id": "ae8543c6",
   "metadata": {},
   "source": [
    "# Dowload Enrichr database"
   ]
  },
  {
   "cell_type": "markdown",
   "id": "187870bd",
   "metadata": {},
   "source": [
    "Enrichr (https://maayanlab.cloud/Enrichr/help#api) does not have a single file download for the database.  So, we will make API requests, with delays, to download the database"
   ]
  },
  {
   "cell_type": "markdown",
   "id": "c1daf0ab",
   "metadata": {},
   "source": [
    "# Libraries"
   ]
  },
  {
   "cell_type": "code",
   "execution_count": 22,
   "id": "aacae1a6",
   "metadata": {},
   "outputs": [],
   "source": [
    "# Libraries\n",
    "\n",
    "# JSON\n",
    "import json\n",
    "\n",
    "# API requests\n",
    "import requests\n",
    "\n",
    "# Delay\n",
    "import time"
   ]
  },
  {
   "cell_type": "markdown",
   "id": "20d2e622",
   "metadata": {},
   "source": [
    "# API calls"
   ]
  },
  {
   "cell_type": "markdown",
   "id": "d397f439",
   "metadata": {},
   "source": [
    "Set the API URL and the query parameters."
   ]
  },
  {
   "cell_type": "code",
   "execution_count": 23,
   "id": "af6f18ab",
   "metadata": {},
   "outputs": [],
   "source": [
    "import zipfile\n",
    "import os\n",
    "\n",
    "# Define the file paths\n",
    "zip_file_path = '/home/mad1188/Enrichr_database/HPA_downloads/rna_single_cell_type.tsv.zip'\n",
    "extract_path = '/home/mad1188/Enrichr_database/'\n",
    "\n",
    "# Unzip the file\n",
    "with zipfile.ZipFile(zip_file_path, 'r') as zip_ref:\n",
    "    zip_ref.extractall(extract_path)\n",
    "\n",
    "tsv_file_path = os.path.join(extract_path, 'rna_single_cell_type.tsv')\n"
   ]
  },
  {
   "cell_type": "code",
   "execution_count": 24,
   "id": "aeb822b6",
   "metadata": {},
   "outputs": [],
   "source": [
    "import pandas as pd\n",
    "\n",
    "# Assuming the file is unzipped and named 'rna_single_cell_type.tsv'\n",
    "data = pd.read_csv(tsv_file_path, sep='\\t')\n"
   ]
  },
  {
   "cell_type": "code",
   "execution_count": 25,
   "id": "0d3958f5",
   "metadata": {},
   "outputs": [],
   "source": [
    "# List of genes to check\n",
    "genes_to_check = ['SPP1', 'CFTR', 'TSPAN8', 'CXCL1', 'TPM1', 'SERPINA1', 'KRT19', 'TFPI2', 'GPX2']\n",
    "\n",
    "# Filter the data for these genes\n",
    "gene_expression_data = data[data['Gene name'].isin(genes_to_check)]\n"
   ]
  },
  {
   "cell_type": "code",
   "execution_count": 26,
   "id": "d06ed8f5",
   "metadata": {},
   "outputs": [
    {
     "name": "stdout",
     "output_type": "stream",
     "text": [
      "                    Gene Gene name                  Cell type   nTPM\n",
      "1215     ENSG00000001626      CFTR                 Adipocytes    0.0\n",
      "1216     ENSG00000001626      CFTR      Alveolar cells type 1    2.2\n",
      "1217     ENSG00000001626      CFTR      Alveolar cells type 2   37.9\n",
      "1218     ENSG00000001626      CFTR                 Astrocytes    0.0\n",
      "1219     ENSG00000001626      CFTR                    B-cells    0.1\n",
      "...                  ...       ...                        ...    ...\n",
      "1330258  ENSG00000197249  SERPINA1  Squamous epithelial cells    0.2\n",
      "1330259  ENSG00000197249  SERPINA1   Suprabasal keratinocytes    0.5\n",
      "1330260  ENSG00000197249  SERPINA1       Syncytiotrophoblasts    5.1\n",
      "1330261  ENSG00000197249  SERPINA1                    T-cells   49.6\n",
      "1330262  ENSG00000197249  SERPINA1     Undifferentiated cells  101.6\n",
      "\n",
      "[729 rows x 4 columns]\n"
     ]
    }
   ],
   "source": [
    "# You can print the data to the console\n",
    "print(gene_expression_data)\n",
    "\n",
    "# Or export it to a CSV file\n",
    "gene_expression_data.to_csv('/home/mad1188/Enrichr_database/gene_expression_data.csv', index=False)\n"
   ]
  },
  {
   "cell_type": "code",
   "execution_count": 27,
   "id": "91b3275e",
   "metadata": {},
   "outputs": [],
   "source": [
    "# Define the file paths\n",
    "zip_file_path1 = '/home/mad1188/Enrichr_database/HPA_downloads/rna_single_cell_cluster_description.tsv.zip'\n",
    "extract_path1 = '/home/mad1188/Enrichr_database/'\n",
    "\n",
    "# Unzip the file\n",
    "with zipfile.ZipFile(zip_file_path1, 'r') as zip_ref:\n",
    "    zip_ref.extractall(extract_path1)\n",
    "\n",
    "tsv_file_path1 = os.path.join(extract_path1, 'rna_single_cell_cluster_description.tsv')"
   ]
  },
  {
   "cell_type": "code",
   "execution_count": 28,
   "id": "17b33422",
   "metadata": {},
   "outputs": [],
   "source": [
    "import pandas as pd\n",
    "\n",
    "# Assuming the file is unzipped and named 'rna_single_cell_type.tsv'\n",
    "data1 = pd.read_csv(tsv_file_path1, sep='\\t')"
   ]
  },
  {
   "cell_type": "code",
   "execution_count": 29,
   "id": "b64055ef",
   "metadata": {},
   "outputs": [
    {
     "name": "stdout",
     "output_type": "stream",
     "text": [
      "             Tissue Cluster            Cell type       Cell type group  \\\n",
      "0    Adipose tissue     c-0          Fibroblasts     Mesenchymal cells   \n",
      "1    Adipose tissue     c-1              T-cells  Blood & immune cells   \n",
      "2    Adipose tissue     c-2              T-cells  Blood & immune cells   \n",
      "3    Adipose tissue     c-3              T-cells  Blood & immune cells   \n",
      "4    Adipose tissue     c-4             Nk-cells  Blood & immune cells   \n",
      "..              ...     ...                  ...                   ...   \n",
      "552        Vascular    c-15    Endothelial cells     Endothelial cells   \n",
      "553        Vascular    c-16    Endothelial cells     Endothelial cells   \n",
      "554        Vascular    c-17  Smooth muscle cells          Muscle cells   \n",
      "555        Vascular    c-18        Schwann cells           Glial cells   \n",
      "556        Vascular    c-19    Endothelial cells     Endothelial cells   \n",
      "\n",
      "     Cell count  \n",
      "0         14945  \n",
      "1         10011  \n",
      "2          7279  \n",
      "3          7200  \n",
      "4          5823  \n",
      "..          ...  \n",
      "552         237  \n",
      "553         204  \n",
      "554         192  \n",
      "555         175  \n",
      "556          48  \n",
      "\n",
      "[557 rows x 5 columns]\n"
     ]
    }
   ],
   "source": [
    "print(data1)"
   ]
  },
  {
   "cell_type": "code",
   "execution_count": 30,
   "id": "b2a5e6ea",
   "metadata": {},
   "outputs": [
    {
     "name": "stdout",
     "output_type": "stream",
     "text": [
      "              Gene Gene name   Cell type  nTPM          Tissue Cluster  \\\n",
      "0  ENSG00000001626      CFTR  Adipocytes   0.0  Adipose tissue    c-12   \n",
      "1  ENSG00000001626      CFTR  Adipocytes   0.0          Breast     c-6   \n",
      "2  ENSG00000001626      CFTR  Adipocytes   0.0          Breast     c-7   \n",
      "3  ENSG00000001626      CFTR  Adipocytes   0.0          Breast     c-8   \n",
      "4  ENSG00000001626      CFTR  Adipocytes   0.0          Breast    c-23   \n",
      "\n",
      "  Cell type group  Cell count  \n",
      "0      Adipocytes      1746.0  \n",
      "1      Adipocytes      2658.0  \n",
      "2      Adipocytes      2380.0  \n",
      "3      Adipocytes      2368.0  \n",
      "4      Adipocytes       175.0  \n"
     ]
    }
   ],
   "source": [
    "# Assuming gene_expression_data is already loaded with the required gene expression data\n",
    "# and that it contains a 'Cell type' column.\n",
    "\n",
    "# Perform a merge on the 'Cell type' column\n",
    "combined_data = pd.merge(gene_expression_data, data1, on='Cell type', how='left')\n",
    "\n",
    "# The 'how' parameter is 'left' to keep all rows from the gene_expression_data DataFrame\n",
    "# and only add matching rows from the data DataFrame. Change it to 'inner' if you only want\n",
    "# to keep rows with matching 'Cell type' in both DataFrames.\n",
    "\n",
    "# Now, combined_data should have the gene expression data along with the 'Tissue' information\n",
    "\n",
    "# Check the combined data\n",
    "print(combined_data.head())\n",
    "\n",
    "# Optional: Save the combined data to a file\n",
    "combined_data.to_csv('/home/mad1188/Enrichr_database/combined_gene_expression_data.csv', index=False)\n"
   ]
  },
  {
   "cell_type": "code",
   "execution_count": 31,
   "id": "d3f9b992",
   "metadata": {},
   "outputs": [],
   "source": [
    "# Filter for pancreas tissue and the specified genes\n",
    "filtered_data = combined_data[\n",
    "    (combined_data['Tissue'] == 'Pancreas') & \n",
    "    (combined_data['Gene name'].isin(genes_to_check))\n",
    "]"
   ]
  },
  {
   "cell_type": "code",
   "execution_count": 32,
   "id": "b2bdcf43",
   "metadata": {},
   "outputs": [
    {
     "name": "stdout",
     "output_type": "stream",
     "text": [
      "                 Gene Gene name                   Cell type    nTPM    Tissue  \\\n",
      "99    ENSG00000001626      CFTR                Ductal cells   590.0  Pancreas   \n",
      "100   ENSG00000001626      CFTR                Ductal cells   590.0  Pancreas   \n",
      "101   ENSG00000001626      CFTR                Ductal cells   590.0  Pancreas   \n",
      "102   ENSG00000001626      CFTR                Ductal cells   590.0  Pancreas   \n",
      "103   ENSG00000001626      CFTR                Ductal cells   590.0  Pancreas   \n",
      "...               ...       ...                         ...     ...       ...   \n",
      "4441  ENSG00000197249  SERPINA1    Exocrine glandular cells   253.4  Pancreas   \n",
      "4442  ENSG00000197249  SERPINA1    Exocrine glandular cells   253.4  Pancreas   \n",
      "4465  ENSG00000197249  SERPINA1                 Fibroblasts    62.9  Pancreas   \n",
      "4577  ENSG00000197249  SERPINA1                 Macrophages   377.3  Pancreas   \n",
      "4616  ENSG00000197249  SERPINA1  Pancreatic endocrine cells  1107.1  Pancreas   \n",
      "\n",
      "     Cluster               Cell type group  Cell count  \n",
      "99       c-0  Specialized epithelial cells       767.0  \n",
      "100      c-2  Specialized epithelial cells       742.0  \n",
      "101      c-6  Specialized epithelial cells       316.0  \n",
      "102     c-12  Specialized epithelial cells       173.0  \n",
      "103     c-13  Specialized epithelial cells       114.0  \n",
      "...      ...                           ...         ...  \n",
      "4441    c-10    Glandular epithelial cells       180.0  \n",
      "4442    c-11    Glandular epithelial cells       176.0  \n",
      "4465     c-8             Mesenchymal cells       226.0  \n",
      "4577    c-16          Blood & immune cells        38.0  \n",
      "4616     c-7               Endocrine cells       270.0  \n",
      "\n",
      "[126 rows x 8 columns]\n"
     ]
    }
   ],
   "source": [
    "# Perform any specific analysis you need, for example, mean expression\n",
    "# Here, we simply print out the filtered data\n",
    "print(filtered_data)\n",
    "\n",
    "# Optional: Save the filtered data to a CSV file for further analysis\n",
    "filtered_data.to_csv('/home/mad1188/Enrichr_database/pancreas_expression_data.csv', index=False)"
   ]
  },
  {
   "cell_type": "code",
   "execution_count": 35,
   "id": "293583eb",
   "metadata": {},
   "outputs": [],
   "source": [
    "import pandas as pd\n",
    "import zipfile\n",
    "import os\n",
    "\n",
    "# Define the file paths\n",
    "zip_file_path_consensus = '/home/mad1188/Enrichr_database/HPA_downloads/rna_tissue_consensus.tsv.zip'\n",
    "extract_path_consensus = '/home/mad1188/Enrichr_database/'\n",
    "\n",
    "# Unzip the file\n",
    "with zipfile.ZipFile(zip_file_path_consensus, 'r') as zip_ref:\n",
    "    zip_ref.extractall(extract_path_consensus)\n",
    "\n",
    "tsv_file_path_consensus = os.path.join(extract_path_consensus, 'rna_tissue_consensus.tsv')\n",
    "\n",
    "# Load the data into a pandas DataFrame\n",
    "consensus_data = pd.read_csv(tsv_file_path_consensus, sep='\\t')\n",
    "\n"
   ]
  },
  {
   "cell_type": "code",
   "execution_count": 36,
   "id": "02ec7b27",
   "metadata": {},
   "outputs": [
    {
     "name": "stdout",
     "output_type": "stream",
     "text": [
      "                    Gene Gene name           Tissue  nTPM\n",
      "0        ENSG00000000003    TSPAN6   adipose tissue  28.6\n",
      "1        ENSG00000000003    TSPAN6    adrenal gland  17.6\n",
      "2        ENSG00000000003    TSPAN6         amygdala  13.0\n",
      "3        ENSG00000000003    TSPAN6         appendix   4.7\n",
      "4        ENSG00000000003    TSPAN6    basal ganglia  12.4\n",
      "...                  ...       ...              ...   ...\n",
      "1000031  ENSG00000291317   TMEM276           thymus   6.0\n",
      "1000032  ENSG00000291317   TMEM276    thyroid gland  11.3\n",
      "1000033  ENSG00000291317   TMEM276           tongue   6.3\n",
      "1000034  ENSG00000291317   TMEM276           tonsil   4.8\n",
      "1000035  ENSG00000291317   TMEM276  urinary bladder   6.5\n",
      "\n",
      "[1000036 rows x 4 columns]\n"
     ]
    }
   ],
   "source": [
    "print(consensus_data)"
   ]
  },
  {
   "cell_type": "code",
   "execution_count": 54,
   "id": "d994327c",
   "metadata": {},
   "outputs": [
    {
     "name": "stdout",
     "output_type": "stream",
     "text": [
      "                 Gene Gene name                   Cell type    nTPM    Tissue  \\\n",
      "99    ENSG00000001626      CFTR                Ductal cells   590.0  Pancreas   \n",
      "100   ENSG00000001626      CFTR                Ductal cells   590.0  Pancreas   \n",
      "101   ENSG00000001626      CFTR                Ductal cells   590.0  Pancreas   \n",
      "102   ENSG00000001626      CFTR                Ductal cells   590.0  Pancreas   \n",
      "103   ENSG00000001626      CFTR                Ductal cells   590.0  Pancreas   \n",
      "...               ...       ...                         ...     ...       ...   \n",
      "4441  ENSG00000197249  SERPINA1    Exocrine glandular cells   253.4  Pancreas   \n",
      "4442  ENSG00000197249  SERPINA1    Exocrine glandular cells   253.4  Pancreas   \n",
      "4465  ENSG00000197249  SERPINA1                 Fibroblasts    62.9  Pancreas   \n",
      "4577  ENSG00000197249  SERPINA1                 Macrophages   377.3  Pancreas   \n",
      "4616  ENSG00000197249  SERPINA1  Pancreatic endocrine cells  1107.1  Pancreas   \n",
      "\n",
      "     Cluster               Cell type group  Cell count  \n",
      "99       c-0  Specialized epithelial cells       767.0  \n",
      "100      c-2  Specialized epithelial cells       742.0  \n",
      "101      c-6  Specialized epithelial cells       316.0  \n",
      "102     c-12  Specialized epithelial cells       173.0  \n",
      "103     c-13  Specialized epithelial cells       114.0  \n",
      "...      ...                           ...         ...  \n",
      "4441    c-10    Glandular epithelial cells       180.0  \n",
      "4442    c-11    Glandular epithelial cells       176.0  \n",
      "4465     c-8             Mesenchymal cells       226.0  \n",
      "4577    c-16          Blood & immune cells        38.0  \n",
      "4616     c-7               Endocrine cells       270.0  \n",
      "\n",
      "[126 rows x 8 columns]\n"
     ]
    }
   ],
   "source": [
    "import pandas as pd\n",
    "import zipfile\n",
    "import os\n",
    "\n",
    "# Define the file paths for the single cell type data\n",
    "zip_file_path = '/home/mad1188/Enrichr_database/HPA_downloads/rna_single_cell_type.tsv.zip'\n",
    "extract_path = '/home/mad1188/Enrichr_database/'\n",
    "\n",
    "# Unzip the file\n",
    "with zipfile.ZipFile(zip_file_path, 'r') as zip_ref:\n",
    "    zip_ref.extractall(extract_path)\n",
    "\n",
    "tsv_file_path = os.path.join(extract_path, 'rna_single_cell_type.tsv')\n",
    "\n",
    "# Load the single cell type data into a pandas DataFrame\n",
    "single_cell_data = pd.read_csv(tsv_file_path, sep='\\t')\n",
    "\n",
    "# List of genes to check\n",
    "genes_to_check = ['SPP1', 'CFTR', 'TSPAN8', 'CXCL1', 'TPM1', 'SERPINA1', 'KRT19', 'TFPI2', 'GPX2']\n",
    "\n",
    "# Filter the data for these genes\n",
    "gene_expression_data = single_cell_data[single_cell_data['Gene name'].isin(genes_to_check)]\n",
    "\n",
    "# Export the gene expression data to a CSV file\n",
    "gene_expression_data.to_csv('/home/mad1188/Enrichr_database/gene_expression_data.csv', index=False)\n",
    "\n",
    "# Define the file paths for the single cell cluster description data\n",
    "zip_file_path1 = '/home/mad1188/Enrichr_database/HPA_downloads/rna_single_cell_cluster_description.tsv.zip'\n",
    "\n",
    "# Unzip the file\n",
    "with zipfile.ZipFile(zip_file_path1, 'r') as zip_ref:\n",
    "    zip_ref.extractall(extract_path)\n",
    "\n",
    "tsv_file_path1 = os.path.join(extract_path, 'rna_single_cell_cluster_description.tsv')\n",
    "\n",
    "# Load the cluster description data into a pandas DataFrame\n",
    "cluster_description_data = pd.read_csv(tsv_file_path1, sep='\\t')\n",
    "\n",
    "# Perform a merge on the 'Cell type' column\n",
    "combined_data = pd.merge(gene_expression_data, cluster_description_data, on='Cell type', how='left')\n",
    "\n",
    "# Export the combined data to a CSV file\n",
    "combined_data.to_csv('/home/mad1188/Enrichr_database/combined_gene_expression_data.csv', index=False)\n",
    "\n",
    "# Filter for Pancreas tissue\n",
    "pancreas_data = combined_data[combined_data['Tissue'] == 'Pancreas']\n",
    "\n",
    "# Export the filtered data for Pancreas tissue to a CSV file\n",
    "pancreas_data.to_csv('/home/mad1188/Enrichr_database/pancreas_expression_data.csv', index=False)\n",
    "\n",
    "\n",
    "# Display the consensus data\n",
    "print(pancreas_data)\n"
   ]
  },
  {
   "cell_type": "code",
   "execution_count": null,
   "id": "69d4a113",
   "metadata": {},
   "outputs": [],
   "source": []
  }
 ],
 "metadata": {
  "kernelspec": {
   "display_name": "3d_rna_velocity",
   "language": "python",
   "name": "3d_rna_velocity"
  },
  "language_info": {
   "codemirror_mode": {
    "name": "ipython",
    "version": 3
   },
   "file_extension": ".py",
   "mimetype": "text/x-python",
   "name": "python",
   "nbconvert_exporter": "python",
   "pygments_lexer": "ipython3",
   "version": "3.10.13"
  }
 },
 "nbformat": 4,
 "nbformat_minor": 5
}
