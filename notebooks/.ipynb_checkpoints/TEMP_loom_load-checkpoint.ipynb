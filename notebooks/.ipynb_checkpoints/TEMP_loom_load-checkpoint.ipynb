{
 "cells": [
  {
   "cell_type": "markdown",
   "id": "7d063620",
   "metadata": {},
   "source": [
    "# TEMP_loom_load"
   ]
  },
  {
   "cell_type": "code",
   "execution_count": 1,
   "id": "5c7e4e30",
   "metadata": {},
   "outputs": [],
   "source": [
    "# Libraries\n",
    "\n",
    "# For loading the loom file.\n",
    "import anndata\n",
    "import loompy\n",
    "#import scanpy\n",
    "\n",
    "# Floor.\n",
    "import math\n",
    "\n",
    "# Histograms.\n",
    "import matplotlib.pyplot as plt"
   ]
  },
  {
   "cell_type": "code",
   "execution_count": 2,
   "id": "18d146ba",
   "metadata": {},
   "outputs": [
    {
     "name": "stderr",
     "output_type": "stream",
     "text": [
      "/home/aeneas/miniconda3/envs/3d_rna_velocity/lib/python3.12/site-packages/anndata/_core/anndata.py:1758: UserWarning: Variable names are not unique. To make them unique, call `.var_names_make_unique`.\n",
      "  utils.warn_names_duplicates(\"var\")\n"
     ]
    }
   ],
   "source": [
    "# Load the data.\n",
    "cells = anndata.io.read_loom(\n",
    "    \"/media/aeneas/Samsung_T5/transfer/mayur/loom/BMP-1ST2.loom\"\n",
    ")"
   ]
  },
  {
   "cell_type": "code",
   "execution_count": 3,
   "id": "338582e7",
   "metadata": {},
   "outputs": [
    {
     "data": {
      "text/plain": [
       "AnnData object with n_obs × n_vars = 13234 × 61860\n",
       "    var: 'Accession', 'Chromosome', 'End', 'Start', 'Strand'\n",
       "    layers: 'matrix', 'ambiguous', 'spliced', 'unspliced'"
      ]
     },
     "execution_count": 3,
     "metadata": {},
     "output_type": "execute_result"
    }
   ],
   "source": [
    "cells"
   ]
  },
  {
   "cell_type": "markdown",
   "id": "007ef7b0-410a-42e3-a71b-9de59884341b",
   "metadata": {},
   "source": [
    "TODO: See which genes have isoforms...?"
   ]
  },
  {
   "cell_type": "markdown",
   "id": "d3e67037-5add-4b7a-ac41-a74a8b9e9510",
   "metadata": {},
   "source": [
    "Get the gene lengths."
   ]
  },
  {
   "cell_type": "code",
   "execution_count": 4,
   "id": "ef4837f6-d6de-48e8-9220-a02cdd1ffe40",
   "metadata": {},
   "outputs": [
    {
     "data": {
      "text/html": [
       "<div>\n",
       "<style scoped>\n",
       "    .dataframe tbody tr th:only-of-type {\n",
       "        vertical-align: middle;\n",
       "    }\n",
       "\n",
       "    .dataframe tbody tr th {\n",
       "        vertical-align: top;\n",
       "    }\n",
       "\n",
       "    .dataframe thead th {\n",
       "        text-align: right;\n",
       "    }\n",
       "</style>\n",
       "<table border=\"1\" class=\"dataframe\">\n",
       "  <thead>\n",
       "    <tr style=\"text-align: right;\">\n",
       "      <th></th>\n",
       "      <th>Accession</th>\n",
       "      <th>Chromosome</th>\n",
       "      <th>End</th>\n",
       "      <th>Start</th>\n",
       "      <th>Strand</th>\n",
       "    </tr>\n",
       "    <tr>\n",
       "      <th>Gene</th>\n",
       "      <th></th>\n",
       "      <th></th>\n",
       "      <th></th>\n",
       "      <th></th>\n",
       "      <th></th>\n",
       "    </tr>\n",
       "  </thead>\n",
       "  <tbody>\n",
       "    <tr>\n",
       "      <th>WASH7P</th>\n",
       "      <td>ENSG00000227232</td>\n",
       "      <td>1</td>\n",
       "      <td>29570</td>\n",
       "      <td>14404</td>\n",
       "      <td>-</td>\n",
       "    </tr>\n",
       "    <tr>\n",
       "      <th>MIR6859-1</th>\n",
       "      <td>ENSG00000278267</td>\n",
       "      <td>1</td>\n",
       "      <td>17436</td>\n",
       "      <td>17369</td>\n",
       "      <td>-</td>\n",
       "    </tr>\n",
       "    <tr>\n",
       "      <th>FAM138A</th>\n",
       "      <td>ENSG00000237613</td>\n",
       "      <td>1</td>\n",
       "      <td>36081</td>\n",
       "      <td>34554</td>\n",
       "      <td>-</td>\n",
       "    </tr>\n",
       "    <tr>\n",
       "      <th>ENSG00000238009</th>\n",
       "      <td>ENSG00000238009</td>\n",
       "      <td>1</td>\n",
       "      <td>133723</td>\n",
       "      <td>89295</td>\n",
       "      <td>-</td>\n",
       "    </tr>\n",
       "    <tr>\n",
       "      <th>ENSG00000239945</th>\n",
       "      <td>ENSG00000239945</td>\n",
       "      <td>1</td>\n",
       "      <td>91105</td>\n",
       "      <td>89551</td>\n",
       "      <td>-</td>\n",
       "    </tr>\n",
       "    <tr>\n",
       "      <th>...</th>\n",
       "      <td>...</td>\n",
       "      <td>...</td>\n",
       "      <td>...</td>\n",
       "      <td>...</td>\n",
       "      <td>...</td>\n",
       "    </tr>\n",
       "    <tr>\n",
       "      <th>ANKRD36P1</th>\n",
       "      <td>ENSG00000188399</td>\n",
       "      <td>Y</td>\n",
       "      <td>26420535</td>\n",
       "      <td>26409815</td>\n",
       "      <td>+</td>\n",
       "    </tr>\n",
       "    <tr>\n",
       "      <th>ENSG00000277146</th>\n",
       "      <td>ENSG00000277146</td>\n",
       "      <td>Y</td>\n",
       "      <td>26454092</td>\n",
       "      <td>26453982</td>\n",
       "      <td>+</td>\n",
       "    </tr>\n",
       "    <tr>\n",
       "      <th>TPTE2P4</th>\n",
       "      <td>ENSG00000215506</td>\n",
       "      <td>Y</td>\n",
       "      <td>26579690</td>\n",
       "      <td>26508213</td>\n",
       "      <td>+</td>\n",
       "    </tr>\n",
       "    <tr>\n",
       "      <th>CYCSP49</th>\n",
       "      <td>ENSG00000224240</td>\n",
       "      <td>Y</td>\n",
       "      <td>26549743</td>\n",
       "      <td>26549425</td>\n",
       "      <td>+</td>\n",
       "    </tr>\n",
       "    <tr>\n",
       "      <th>CTBP2P1</th>\n",
       "      <td>ENSG00000235857</td>\n",
       "      <td>Y</td>\n",
       "      <td>56855488</td>\n",
       "      <td>56855244</td>\n",
       "      <td>+</td>\n",
       "    </tr>\n",
       "  </tbody>\n",
       "</table>\n",
       "<p>61860 rows × 5 columns</p>\n",
       "</div>"
      ],
      "text/plain": [
       "                       Accession Chromosome       End     Start Strand\n",
       "Gene                                                                  \n",
       "WASH7P           ENSG00000227232          1     29570     14404      -\n",
       "MIR6859-1        ENSG00000278267          1     17436     17369      -\n",
       "FAM138A          ENSG00000237613          1     36081     34554      -\n",
       "ENSG00000238009  ENSG00000238009          1    133723     89295      -\n",
       "ENSG00000239945  ENSG00000239945          1     91105     89551      -\n",
       "...                          ...        ...       ...       ...    ...\n",
       "ANKRD36P1        ENSG00000188399          Y  26420535  26409815      +\n",
       "ENSG00000277146  ENSG00000277146          Y  26454092  26453982      +\n",
       "TPTE2P4          ENSG00000215506          Y  26579690  26508213      +\n",
       "CYCSP49          ENSG00000224240          Y  26549743  26549425      +\n",
       "CTBP2P1          ENSG00000235857          Y  56855488  56855244      +\n",
       "\n",
       "[61860 rows x 5 columns]"
      ]
     },
     "execution_count": 4,
     "metadata": {},
     "output_type": "execute_result"
    }
   ],
   "source": [
    "cells.var"
   ]
  },
  {
   "cell_type": "markdown",
   "id": "28c2e439-4747-4fe2-81af-639251093208",
   "metadata": {},
   "source": [
    "# CHECK"
   ]
  },
  {
   "cell_type": "code",
   "execution_count": 7,
   "id": "5682cf84-5479-444f-a83d-35bfb0ee8269",
   "metadata": {},
   "outputs": [],
   "source": [
    "# Get (cell number, gene index) of spliced, unspliced, and ambiguous genes.\n",
    "\n",
    "# Spliced genes.\n",
    "spliced = []\n",
    "\n",
    "# Row and column indices.\n",
    "nonzeros = cells.layers['spliced'].nonzero()\n",
    "\n",
    "row_indices = list(nonzeros[0])\n",
    "column_indices = list(nonzeros[1])\n",
    "\n",
    "for i in range(len(row_indices)):\n",
    "    spliced.append((row_indices[i], column_indices[i]))\n",
    "\n",
    "# Unspliced genes.\n",
    "unspliced = []\n",
    "\n",
    "# Row and column indices.\n",
    "nonzeros = cells.layers['unspliced'].nonzero()\n",
    "\n",
    "row_indices = list(nonzeros[0])\n",
    "column_indices = list(nonzeros[1])\n",
    "#print(row_indices)\n",
    "\n",
    "for i in range(len(row_indices)):\n",
    "    unspliced.append((row_indices[i], column_indices[i]))\n",
    "\n",
    "# Ambiguous genes.\n",
    "ambiguous = []\n",
    "\n",
    "# Row and column indices.\n",
    "nonzeros = cells.layers['ambiguous'].nonzero()\n",
    "\n",
    "row_indices = list(nonzeros[0])\n",
    "column_indices = list(nonzeros[1])\n",
    "#print(row_indices)\n",
    "\n",
    "for i in range(len(row_indices)):\n",
    "    ambiguous.append((row_indices[i], column_indices[i]))"
   ]
  },
  {
   "cell_type": "code",
   "execution_count": 8,
   "id": "43f7f46c-8d7f-47cc-ab5d-3114ac3b9cd0",
   "metadata": {},
   "outputs": [
    {
     "name": "stdout",
     "output_type": "stream",
     "text": [
      "True\n",
      "True\n",
      "True\n"
     ]
    }
   ],
   "source": [
    "print(len(set(spliced)) == len(spliced))\n",
    "print(len(set(unspliced)) == len(unspliced))\n",
    "print(len(set(ambiguous)) == len(ambiguous))"
   ]
  },
  {
   "cell_type": "markdown",
   "id": "ae923108-c9b5-4c25-8f4e-cefbd967da10",
   "metadata": {},
   "source": [
    "Make sure no overlap between the different categories?"
   ]
  },
  {
   "cell_type": "code",
   "execution_count": null,
   "id": "900f6f71-5b2c-46cf-a493-adcb978fe8ad",
   "metadata": {},
   "outputs": [],
   "source": [
    "# Overlaps?\n",
    "#spliced_unspliced = set.intersection(set(spliced), set(unspliced))\n",
    "#spliced_ambiguous = set.intersection(set(spliced), set(ambiguous))\n",
    "#unspliced_ambiguous = set.intersection(set(unspliced), set(ambiguous))\n",
    "\n",
    "#print(len(spliced_unspliced))\n",
    "#print(len(spliced_ambiguous))\n",
    "#print(len(unspliced_ambiguous))\n",
    "#print(len(set.intersection(spliced_unspliced, unspliced_ambiguous)))"
   ]
  },
  {
   "cell_type": "markdown",
   "id": "083059e8-570d-4e88-ac73-819b8d09f488",
   "metadata": {},
   "source": [
    "# METRIC"
   ]
  },
  {
   "cell_type": "markdown",
   "id": "4afd67f5-60b5-4550-b896-8fed6274f9dd",
   "metadata": {},
   "source": [
    "We want to see if the probability of an unspliced molecule depends on the gene length (see Gorin G, Pachter L. Length Biases in Single-Cell RNA Sequencing of pre-mRNA. bioRxiv: 2021.07.30.454514; 2021.)"
   ]
  },
  {
   "cell_type": "markdown",
   "id": "2b39b24b-b9af-4812-8253-6ffe3f89a837",
   "metadata": {},
   "source": [
    "We begin by finding all expressed gene lengths (our \"population\")."
   ]
  },
  {
   "cell_type": "code",
   "execution_count": 9,
   "id": "52efc516-e52c-485c-b95c-d7ffa0beee16",
   "metadata": {},
   "outputs": [
    {
     "ename": "NameError",
     "evalue": "name 'gene_lengths' is not defined",
     "output_type": "error",
     "traceback": [
      "\u001b[0;31m---------------------------------------------------------------------------\u001b[0m",
      "\u001b[0;31mNameError\u001b[0m                                 Traceback (most recent call last)",
      "Cell \u001b[0;32mIn[9], line 18\u001b[0m\n\u001b[1;32m     15\u001b[0m gene_population_lengths \u001b[38;5;241m=\u001b[39m []\n\u001b[1;32m     17\u001b[0m \u001b[38;5;28;01mfor\u001b[39;00m j \u001b[38;5;129;01min\u001b[39;00m gene_population_indices:\n\u001b[0;32m---> 18\u001b[0m     gene_population_lengths\u001b[38;5;241m.\u001b[39mappend(gene_lengths[j])\n",
      "\u001b[0;31mNameError\u001b[0m: name 'gene_lengths' is not defined"
     ]
    }
   ],
   "source": [
    "# Gene population indices.\n",
    "gene_population_indices = []\n",
    "\n",
    "# Get the index of any expressed gene.\n",
    "for j in [i[1] for i in unspliced]:\n",
    "    gene_population_indices.append(j)\n",
    "\n",
    "for j in [i[1] for i in spliced]:\n",
    "    gene_population_indices.append(j)\n",
    "\n",
    "for j in [i[1] for i in ambiguous]:\n",
    "    gene_population_indices.append(j)\n",
    "\n",
    "# Now get the lengths.\n",
    "gene_population_lengths = []\n",
    "\n",
    "for j in gene_population_indices:\n",
    "    gene_population_lengths.append(gene_lengths[j])"
   ]
  },
  {
   "cell_type": "markdown",
   "id": "cf384639",
   "metadata": {},
   "source": [
    "# METRIC"
   ]
  },
  {
   "cell_type": "markdown",
   "id": "86fcf0cd",
   "metadata": {},
   "source": [
    "### We can consider how related the reads are to the gene length/number of isoforms.  If we see a reasonable trend relating the gene length to the splicing state, then we may have confounding (paper source...)"
   ]
  },
  {
   "cell_type": "markdown",
   "id": "4ae107af-23ad-45e5-9ee5-4daa2ae67da6",
   "metadata": {},
   "source": [
    "Get the spliced genes lengths."
   ]
  },
  {
   "cell_type": "code",
   "execution_count": 40,
   "id": "61f0d9fb-e347-441e-be05-c08d3864ad59",
   "metadata": {},
   "outputs": [],
   "source": [
    "# Spliced gene lengths.\n",
    "spliced_gene_lengths = []\n",
    "\n",
    "for j in [i[1] for i in spliced]:\n",
    "    spliced_gene_lengths.append(gene_lengths[j])"
   ]
  },
  {
   "cell_type": "markdown",
   "id": "53a53a6f-b81b-41e5-bc07-a63f5c150587",
   "metadata": {},
   "source": [
    "Create bins for gene lengths, then see how many spliced genes are seen at a given gene length."
   ]
  },
  {
   "cell_type": "code",
   "execution_count": 41,
   "id": "ec0eda56-0a6c-438a-ac75-0c6fd4527679",
   "metadata": {},
   "outputs": [
    {
     "data": {
      "image/png": "[encoded data removed]",
      "text/plain": [
       "<Figure size 640x480 with 1 Axes>"
      ]
     },
     "metadata": {},
     "output_type": "display_data"
    }
   ],
   "source": [
    "# Gene length bins.\n",
    "min_gene_length = min(spliced_gene_lengths)\n",
    "max_gene_length = max(spliced_gene_lengths)\n",
    "\n",
    "# range(min_gene_length, max_gene_length, math.floor((max_gene_length-min_gene_length)/100))\n",
    "\n",
    "plt.hist(\n",
    "    spliced_gene_lengths,\n",
    "    bins = list(range(min_gene_length, max_gene_length, math.floor((max_gene_length-min_gene_length)/100)))\n",
    ")\n",
    "plt.show()"
   ]
  },
  {
   "cell_type": "code",
   "execution_count": null,
   "id": "59164399-222a-4df5-8524-fbb903aec2bc",
   "metadata": {},
   "outputs": [],
   "source": [
    "We can estimate the probability of success at each bin size"
   ]
  }
 ],
 "metadata": {
  "kernelspec": {
   "display_name": "3d_rna_velocity",
   "language": "python",
   "name": "3d_rna_velocity"
  },
  "language_info": {
   "codemirror_mode": {
    "name": "ipython",
    "version": 3
   },
   "file_extension": ".py",
   "mimetype": "text/x-python",
   "name": "python",
   "nbconvert_exporter": "python",
   "pygments_lexer": "ipython3",
   "version": "3.12.2"
  }
 },
 "nbformat": 4,
 "nbformat_minor": 5
}
