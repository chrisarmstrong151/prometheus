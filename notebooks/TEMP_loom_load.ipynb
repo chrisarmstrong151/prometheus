{
 "cells": [
  {
   "cell_type": "markdown",
   "id": "7d063620",
   "metadata": {},
   "source": [
    "# TEMP_loom_load"
   ]
  },
  {
   "cell_type": "code",
   "execution_count": 10,
   "id": "5c7e4e30",
   "metadata": {},
   "outputs": [],
   "source": [
    "# Libraries\n",
    "\n",
    "# For loading the loom file.\n",
    "import anndata\n",
    "import loompy\n",
    "import scanpy"
   ]
  },
  {
   "cell_type": "code",
   "execution_count": 11,
   "id": "18d146ba",
   "metadata": {},
   "outputs": [
    {
     "name": "stderr",
     "output_type": "stream",
     "text": [
      "/home/apollo/mosaic/envs/3d_rna_velocity/lib/python3.11/site-packages/anndata/_core/anndata.py:1758: UserWarning: Variable names are not unique. To make them unique, call `.var_names_make_unique`.\n",
      "  utils.warn_names_duplicates(\"var\")\n"
     ]
    }
   ],
   "source": [
    "pbmc = anndata.io.read_loom(\n",
    "    \"/media/apollo/Samsung_T5/transfer/mayur/loom/BMP-1ST2.loom\"\n",
    ")"
   ]
  },
  {
   "cell_type": "code",
   "execution_count": 30,
   "id": "338582e7",
   "metadata": {},
   "outputs": [
    {
     "data": {
      "text/plain": [
       "AnnData object with n_obs × n_vars = 13234 × 61860\n",
       "    var: 'Accession', 'Chromosome', 'End', 'Start', 'Strand'\n",
       "    layers: 'matrix', 'ambiguous', 'spliced', 'unspliced'"
      ]
     },
     "execution_count": 30,
     "metadata": {},
     "output_type": "execute_result"
    }
   ],
   "source": [
    "pbmc"
   ]
  },
  {
   "cell_type": "markdown",
   "id": "82c8bc0a",
   "metadata": {},
   "source": [
    "# Metric"
   ]
  },
  {
   "cell_type": "code",
   "execution_count": 61,
   "id": "0a59c149",
   "metadata": {},
   "outputs": [],
   "source": [
    "# Make sure the AnnData object consists of disjoint sets of genes.\n",
    "\n",
    "# Spliced genes.\n",
    "spliced = []\n",
    "\n",
    "# Row and column indices.\n",
    "nonzeros = pbmc.layers['spliced'].nonzero()\n",
    "\n",
    "row_indices = list(nonzeros[0])\n",
    "column_indices = list(nonzeros[1])\n",
    "\n",
    "for i in range(len(row_indices)):\n",
    "    spliced.append((row_indices[i], column_indices[i]))\n",
    "\n",
    "# Unspliced genes.\n",
    "unspliced = []\n",
    "\n",
    "# Row and column indices.\n",
    "nonzeros = pbmc.layers['unspliced'].nonzero()\n",
    "\n",
    "row_indices = list(nonzeros[0])\n",
    "column_indices = list(nonzeros[1])\n",
    "#print(row_indices)\n",
    "\n",
    "for i in range(len(row_indices)):\n",
    "    unspliced.append((row_indices[i], column_indices[i]))\n",
    "\n",
    "# Ambiguous genes.\n",
    "ambiguous = []\n",
    "\n",
    "# Row and column indices.\n",
    "nonzeros = pbmc.layers['ambiguous'].nonzero()\n",
    "\n",
    "row_indices = list(nonzeros[0])\n",
    "column_indices = list(nonzeros[1])\n",
    "#print(row_indices)\n",
    "\n",
    "for i in range(len(row_indices)):\n",
    "    ambiguous.append((row_indices[i], column_indices[i]))"
   ]
  },
  {
   "cell_type": "markdown",
   "id": "da7a172f",
   "metadata": {},
   "source": [
    "Check for unique row and column combinations."
   ]
  },
  {
   "cell_type": "code",
   "execution_count": 68,
   "id": "4d2d186b",
   "metadata": {},
   "outputs": [
    {
     "name": "stdout",
     "output_type": "stream",
     "text": [
      "True\n",
      "True\n",
      "True\n"
     ]
    }
   ],
   "source": [
    "print(len(set(spliced)) == len(spliced))\n",
    "print(len(set(unspliced)) == len(unspliced))\n",
    "print(len(set(ambiguous)) == len(ambiguous))"
   ]
  },
  {
   "cell_type": "markdown",
   "id": "946639d3",
   "metadata": {},
   "source": [
    "Make sure no overlap between the different categories."
   ]
  },
  {
   "cell_type": "code",
   "execution_count": 79,
   "id": "e2cbdeb1",
   "metadata": {
    "scrolled": false
   },
   "outputs": [
    {
     "name": "stdout",
     "output_type": "stream",
     "text": [
      "3517\n",
      "2139\n",
      "1371\n",
      "464\n"
     ]
    }
   ],
   "source": [
    "# Overlaps?\n",
    "spliced_unspliced = set.intersection(set(spliced), set(unspliced))\n",
    "spliced_ambgiuous = set.intersection(set(spliced), set(ambiguous))\n",
    "unspliced_ambiguous = set.intersection(set(unspliced), set(ambiguous))\n",
    "\n",
    "print(len(spliced_unspliced))\n",
    "print(len(spliced_ambgiuous))\n",
    "print(len(unspliced_ambiguous))\n",
    "print(len(set.intersection(spliced_unspliced, unspliced_ambiguous)))"
   ]
  },
  {
   "cell_type": "markdown",
   "id": "cf384639",
   "metadata": {},
   "source": [
    "# METRIC"
   ]
  },
  {
   "cell_type": "markdown",
   "id": "86fcf0cd",
   "metadata": {},
   "source": [
    "### We can consider how related the ambiguous reads are to the gene length/number of isoforms.  If we see a reasonable trend relating the gene length to the ambiguity, then we may have confounding (paper source...)"
   ]
  },
  {
   "cell_type": "code",
   "execution_count": null,
   "id": "e88ecf50",
   "metadata": {},
   "outputs": [],
   "source": [
    "# Which genes are ambiguous?"
   ]
  },
  {
   "cell_type": "code",
   "execution_count": 36,
   "id": "6bf75792",
   "metadata": {
    "scrolled": false
   },
   "outputs": [
    {
     "data": {
      "text/plain": [
       "(array([    0,     8,     8, ..., 13223, 13223, 13228], dtype=int32),\n",
       " array([24006,  8748,  9016, ...,  8748, 19828, 45474], dtype=int32))"
      ]
     },
     "execution_count": 36,
     "metadata": {},
     "output_type": "execute_result"
    }
   ],
   "source": [
    "pbmc.layers['ambiguous'].nonzero()"
   ]
  },
  {
   "cell_type": "code",
   "execution_count": 26,
   "id": "03f3a403",
   "metadata": {},
   "outputs": [
    {
     "data": {
      "text/html": [
       "<div>\n",
       "<style scoped>\n",
       "    .dataframe tbody tr th:only-of-type {\n",
       "        vertical-align: middle;\n",
       "    }\n",
       "\n",
       "    .dataframe tbody tr th {\n",
       "        vertical-align: top;\n",
       "    }\n",
       "\n",
       "    .dataframe thead th {\n",
       "        text-align: right;\n",
       "    }\n",
       "</style>\n",
       "<table border=\"1\" class=\"dataframe\">\n",
       "  <thead>\n",
       "    <tr style=\"text-align: right;\">\n",
       "      <th></th>\n",
       "      <th>Accession</th>\n",
       "      <th>Chromosome</th>\n",
       "      <th>End</th>\n",
       "      <th>Start</th>\n",
       "      <th>Strand</th>\n",
       "    </tr>\n",
       "    <tr>\n",
       "      <th>Gene</th>\n",
       "      <th></th>\n",
       "      <th></th>\n",
       "      <th></th>\n",
       "      <th></th>\n",
       "      <th></th>\n",
       "    </tr>\n",
       "  </thead>\n",
       "  <tbody>\n",
       "    <tr>\n",
       "      <th>WASH7P</th>\n",
       "      <td>ENSG00000227232</td>\n",
       "      <td>1</td>\n",
       "      <td>29570</td>\n",
       "      <td>14404</td>\n",
       "      <td>-</td>\n",
       "    </tr>\n",
       "    <tr>\n",
       "      <th>MIR6859-1</th>\n",
       "      <td>ENSG00000278267</td>\n",
       "      <td>1</td>\n",
       "      <td>17436</td>\n",
       "      <td>17369</td>\n",
       "      <td>-</td>\n",
       "    </tr>\n",
       "    <tr>\n",
       "      <th>FAM138A</th>\n",
       "      <td>ENSG00000237613</td>\n",
       "      <td>1</td>\n",
       "      <td>36081</td>\n",
       "      <td>34554</td>\n",
       "      <td>-</td>\n",
       "    </tr>\n",
       "    <tr>\n",
       "      <th>ENSG00000238009</th>\n",
       "      <td>ENSG00000238009</td>\n",
       "      <td>1</td>\n",
       "      <td>133723</td>\n",
       "      <td>89295</td>\n",
       "      <td>-</td>\n",
       "    </tr>\n",
       "    <tr>\n",
       "      <th>ENSG00000239945</th>\n",
       "      <td>ENSG00000239945</td>\n",
       "      <td>1</td>\n",
       "      <td>91105</td>\n",
       "      <td>89551</td>\n",
       "      <td>-</td>\n",
       "    </tr>\n",
       "    <tr>\n",
       "      <th>...</th>\n",
       "      <td>...</td>\n",
       "      <td>...</td>\n",
       "      <td>...</td>\n",
       "      <td>...</td>\n",
       "      <td>...</td>\n",
       "    </tr>\n",
       "    <tr>\n",
       "      <th>ANKRD36P1</th>\n",
       "      <td>ENSG00000188399</td>\n",
       "      <td>Y</td>\n",
       "      <td>26420535</td>\n",
       "      <td>26409815</td>\n",
       "      <td>+</td>\n",
       "    </tr>\n",
       "    <tr>\n",
       "      <th>ENSG00000277146</th>\n",
       "      <td>ENSG00000277146</td>\n",
       "      <td>Y</td>\n",
       "      <td>26454092</td>\n",
       "      <td>26453982</td>\n",
       "      <td>+</td>\n",
       "    </tr>\n",
       "    <tr>\n",
       "      <th>TPTE2P4</th>\n",
       "      <td>ENSG00000215506</td>\n",
       "      <td>Y</td>\n",
       "      <td>26579690</td>\n",
       "      <td>26508213</td>\n",
       "      <td>+</td>\n",
       "    </tr>\n",
       "    <tr>\n",
       "      <th>CYCSP49</th>\n",
       "      <td>ENSG00000224240</td>\n",
       "      <td>Y</td>\n",
       "      <td>26549743</td>\n",
       "      <td>26549425</td>\n",
       "      <td>+</td>\n",
       "    </tr>\n",
       "    <tr>\n",
       "      <th>CTBP2P1</th>\n",
       "      <td>ENSG00000235857</td>\n",
       "      <td>Y</td>\n",
       "      <td>56855488</td>\n",
       "      <td>56855244</td>\n",
       "      <td>+</td>\n",
       "    </tr>\n",
       "  </tbody>\n",
       "</table>\n",
       "<p>61860 rows × 5 columns</p>\n",
       "</div>"
      ],
      "text/plain": [
       "                       Accession Chromosome       End     Start Strand\n",
       "Gene                                                                  \n",
       "WASH7P           ENSG00000227232          1     29570     14404      -\n",
       "MIR6859-1        ENSG00000278267          1     17436     17369      -\n",
       "FAM138A          ENSG00000237613          1     36081     34554      -\n",
       "ENSG00000238009  ENSG00000238009          1    133723     89295      -\n",
       "ENSG00000239945  ENSG00000239945          1     91105     89551      -\n",
       "...                          ...        ...       ...       ...    ...\n",
       "ANKRD36P1        ENSG00000188399          Y  26420535  26409815      +\n",
       "ENSG00000277146  ENSG00000277146          Y  26454092  26453982      +\n",
       "TPTE2P4          ENSG00000215506          Y  26579690  26508213      +\n",
       "CYCSP49          ENSG00000224240          Y  26549743  26549425      +\n",
       "CTBP2P1          ENSG00000235857          Y  56855488  56855244      +\n",
       "\n",
       "[61860 rows x 5 columns]"
      ]
     },
     "execution_count": 26,
     "metadata": {},
     "output_type": "execute_result"
    }
   ],
   "source": [
    "pbmc.var"
   ]
  },
  {
   "cell_type": "code",
   "execution_count": null,
   "id": "03131735",
   "metadata": {},
   "outputs": [],
   "source": []
  }
 ],
 "metadata": {
  "kernelspec": {
   "display_name": "3d_rna_velocity",
   "language": "python",
   "name": "3d_rna_velocity"
  },
  "language_info": {
   "codemirror_mode": {
    "name": "ipython",
    "version": 3
   },
   "file_extension": ".py",
   "mimetype": "text/x-python",
   "name": "python",
   "nbconvert_exporter": "python",
   "pygments_lexer": "ipython3",
   "version": "3.11.11"
  }
 },
 "nbformat": 4,
 "nbformat_minor": 5
}
